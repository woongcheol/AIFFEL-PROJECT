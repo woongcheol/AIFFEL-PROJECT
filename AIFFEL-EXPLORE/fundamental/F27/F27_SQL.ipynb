{
 "cells": [
  {
   "cell_type": "markdown",
   "id": "magnetic-holmes",
   "metadata": {},
   "source": [
    "# F27. SQL\n",
    "## 1. 파이썬으로 DB 다루기"
   ]
  },
  {
   "cell_type": "code",
   "execution_count": 2,
   "id": "dramatic-shirt",
   "metadata": {},
   "outputs": [
    {
     "name": "stdout",
     "output_type": "stream",
     "text": [
      "완료\n"
     ]
    }
   ],
   "source": [
    "import sqlite3\n",
    "print(\"완료\")"
   ]
  },
  {
   "cell_type": "code",
   "execution_count": 3,
   "id": "basic-sydney",
   "metadata": {},
   "outputs": [
    {
     "name": "stdout",
     "output_type": "stream",
     "text": [
      "<sqlite3.Connection object at 0x7fbfe184a730>\n"
     ]
    }
   ],
   "source": [
    "import os\n",
    "db_path = os.getenv('HOME')+'/mydb.db'\n",
    "conn = sqlite3.connect(db_path)  # mydb.db에 연결합니다.\n",
    "print(conn)"
   ]
  },
  {
   "cell_type": "code",
   "execution_count": 4,
   "id": "stretch-stable",
   "metadata": {},
   "outputs": [
    {
     "name": "stdout",
     "output_type": "stream",
     "text": [
      "<sqlite3.Cursor object at 0x7fbfe0492dc0>\n"
     ]
    }
   ],
   "source": [
    "c = conn.cursor()\n",
    "print(c)"
   ]
  },
  {
   "cell_type": "code",
   "execution_count": 5,
   "id": "liberal-affiliation",
   "metadata": {},
   "outputs": [
    {
     "name": "stdout",
     "output_type": "stream",
     "text": [
      "('20200701', 'TEST', 'AIFFEL', 1.0, 10000.0)\n"
     ]
    }
   ],
   "source": [
    "# stocks이라는 이름의 테이블을 하나 생성합니다. 혹시 이미 생성되었다면 생략합니다. \n",
    "c.execute(\"CREATE TABLE  IF NOT EXISTS  stocks (date text, trans text, symbol text, qty real, price real)\")\n",
    "\n",
    "# stocks 테이블에 데이터를 하나 인서트합니다. \n",
    "c.execute(\"INSERT INTO stocks VALUES ('20200701', 'TEST', 'AIFFEL', 1, 10000)\")\n",
    "\n",
    "# 방금 인서트한 데이터를 조회해 봅니다.\n",
    "c.execute(\"SELECT * FROM stocks\")\n",
    "\n",
    "# 조회된 내역을 커서를 통해 가져와 출력해 봅니다.\n",
    "print(c.fetchone())"
   ]
  },
  {
   "cell_type": "code",
   "execution_count": 6,
   "id": "negative-cooling",
   "metadata": {},
   "outputs": [
    {
     "name": "stdout",
     "output_type": "stream",
     "text": [
      "완료\n"
     ]
    }
   ],
   "source": [
    "conn.commit()   # commit()은 cursor의 메소드가 아니라 connection의 메소드입니다. \n",
    "print(\"완료\")"
   ]
  },
  {
   "cell_type": "code",
   "execution_count": 7,
   "id": "honest-works",
   "metadata": {},
   "outputs": [
    {
     "name": "stdout",
     "output_type": "stream",
     "text": [
      "완료\n"
     ]
    }
   ],
   "source": [
    "c.close()      # 먼저 커서를 닫은 후\n",
    "conn.close()    # DB 연결을 닫아 줍니다.\n",
    "print(\"완료\")"
   ]
  },
  {
   "cell_type": "code",
   "execution_count": 8,
   "id": "recorded-nevada",
   "metadata": {},
   "outputs": [
    {
     "name": "stdout",
     "output_type": "stream",
     "text": [
      "완료\n"
     ]
    }
   ],
   "source": [
    "import sqlite3\n",
    "import os\n",
    "db_path = os.getenv('HOME')+'/mydb.db'\n",
    "\n",
    "conn = sqlite3.connect(db_path)\n",
    "c = conn.cursor()\n",
    "\n",
    "#- ! 재실행 시 테이블이 존재할 수 있으므로 아래처럼 해당 테이블들을 모두 지워줍니다.\n",
    "c.execute(\"DROP TABLE IF EXISTS 도서대출내역\")\n",
    "c.execute(\"DROP TABLE IF EXISTS 도서대출내역2\")\n",
    "c.execute(\"DROP TABLE IF EXISTS 대출내역\")\n",
    "c.execute(\"DROP TABLE IF EXISTS 도서명\")\n",
    "\n",
    "\n",
    "#----- 1st table : 도서대출내역 -----#\n",
    "c.execute(\"CREATE TABLE IF NOT EXISTS 도서대출내역 (ID varchar, 이름 varchar, 도서ID varchar, 대출일 varchar, 반납일 varchar)\")\n",
    "#- 생성(create)문 : 테이블명, 변수명, 변수타입을 지정\n",
    "\n",
    "data = [('101','문강태','aaa','2020-06-01','2020-06-05'),\n",
    "             ('101','문강태','ccc','2020-06-20','2020-06-25'),\n",
    "             ('102','고문영','bbb','2020-06-01',None),\n",
    "             ('102','고문영','ddd','2020-06-08',None),\n",
    "             ('103','문상태','ccc','2020-06-01','2020-06-05'),\n",
    "             ('104','강기둥',None,None,None)]\n",
    "#- 입력할 데이터를 그대로 입력 (변수명 순서 기준대로)\n",
    "\n",
    "c.executemany('INSERT INTO 도서대출내역 VALUES (?,?,?,?,?)', data)\n",
    "#- 입력할 데이터를 실제 테이블에 insert하기\n",
    "#-----------------------------------------------#\n",
    "\n",
    "\n",
    "#----- 2nd table : 도서대출내역2 -----#\n",
    "c.execute(\"CREATE TABLE IF NOT EXISTS 도서대출내역2 (ID varchar, 이름 varchar, 대출년월 varchar, 대출일수 varchar)\")\n",
    "\n",
    "data = [('101','문강태','2020-06','20일'),\n",
    "             ('102','고문영','2020-06','10일'),\n",
    "             ('103','문상태','2020-06','8일'),\n",
    "             ('104','강기둥','2020-06','3일')]\n",
    "c.executemany('INSERT INTO 도서대출내역2 VALUES (?,?,?,?)', data)\n",
    "#--------------------------------------------------#\n",
    "\n",
    "\n",
    "#----- 3rd table : 대출내역 -----#\n",
    "c.execute(\"CREATE TABLE IF NOT EXISTS 대출내역 (ID varchar, 이름 varchar, 도서ID varchar)\")\n",
    "\n",
    "data = [('101','문강태','aaa'),\n",
    "             ('102','고문영','bbb'),\n",
    "             ('102','고문영','fff'),\n",
    "             ('103','문상태','ccc'),\n",
    "             ('104','강기둥',None)]\n",
    "c.executemany('INSERT INTO 대출내역 VALUES (?,?,?)', data)\n",
    "#-----------------------------------------#\n",
    "\n",
    "\n",
    "#----- 4th table : 도서명 -----#\n",
    "c.execute(\"CREATE TABLE IF NOT EXISTS 도서명 (도서ID varchar, 도서명 varchar)\")\n",
    "\n",
    "data = [('aaa','악몽을 먹고 자란 소년'),\n",
    "             ('bbb','좀비아이'),\n",
    "             ('ccc','공룡백과사전'),\n",
    "             ('ddd','빨간구두'),\n",
    "             ('eee','잠자는 숲속의 미녀')]\n",
    "\n",
    "c.executemany('INSERT INTO 도서명 VALUES (?,?)', data)\n",
    "#--------------------------------------#\n",
    "\n",
    "conn.commit()\n",
    "conn.close()\n",
    "print(\"완료\")"
   ]
  },
  {
   "cell_type": "code",
   "execution_count": 9,
   "id": "later-craft",
   "metadata": {},
   "outputs": [
    {
     "name": "stdout",
     "output_type": "stream",
     "text": [
      "('aaa', '악몽을 먹고 자란 소년')\n",
      "('bbb', '좀비아이')\n",
      "('ccc', '공룡백과사전')\n",
      "('ddd', '빨간구두')\n",
      "('eee', '잠자는 숲속의 미녀')\n"
     ]
    }
   ],
   "source": [
    "conn = sqlite3.connect(db_path)\n",
    "c = conn.cursor()\n",
    "\n",
    "for row in c.execute('SELECT * FROM 도서명'):\n",
    "  print(row)"
   ]
  },
  {
   "cell_type": "markdown",
   "id": "arbitrary-mailing",
   "metadata": {},
   "source": [
    "## 2. SQL 개념 및 실습"
   ]
  },
  {
   "cell_type": "code",
   "execution_count": 10,
   "id": "pregnant-france",
   "metadata": {},
   "outputs": [
    {
     "name": "stdout",
     "output_type": "stream",
     "text": [
      "('101', '문강태', 'aaa', '2020-06-01', '2020-06-05')\n",
      "('101', '문강태', 'ccc', '2020-06-20', '2020-06-25')\n",
      "('102', '고문영', 'bbb', '2020-06-01', None)\n",
      "('102', '고문영', 'ddd', '2020-06-08', None)\n",
      "('103', '문상태', 'ccc', '2020-06-01', '2020-06-05')\n",
      "('104', '강기둥', None, None, None)\n"
     ]
    }
   ],
   "source": [
    "#- 참고 : 실제 조회를 해보시려면 아래처럼 쓰시면 됩니다.\n",
    "#- c.execute() 괄호 안에 SQL문을 넣으시면 됩니다.\n",
    "\n",
    "import os\n",
    "db_path = os.getenv('HOME')+'/mydb.db'\n",
    "conn = sqlite3.connect(db_path)  # mydb.db에 연결합니다.\n",
    "c = conn.cursor()\n",
    "\n",
    "for row in c.execute('SELECT * FROM 도서대출내역'):\n",
    "  print(row)\n",
    "\n",
    "#- ! 출력 시 'NULL' 대신 'None'으로 출력될 수 있으나 동일하게 이해하시면 됩니다."
   ]
  },
  {
   "cell_type": "code",
   "execution_count": 11,
   "id": "first-envelope",
   "metadata": {},
   "outputs": [
    {
     "name": "stdout",
     "output_type": "stream",
     "text": [
      "('101', '문강태', 'aaa', '2020-06-01', '2020-06-05')\n",
      "('101', '문강태', 'ccc', '2020-06-20', '2020-06-25')\n",
      "('102', '고문영', 'bbb', '2020-06-01', None)\n",
      "('102', '고문영', 'ddd', '2020-06-08', None)\n",
      "('103', '문상태', 'ccc', '2020-06-01', '2020-06-05')\n",
      "('104', '강기둥', None, None, None)\n"
     ]
    }
   ],
   "source": [
    "for row in c.execute('SELECT * FROM 도서대출내역'):\n",
    "  print(row)"
   ]
  },
  {
   "cell_type": "code",
   "execution_count": 12,
   "id": "overhead-title",
   "metadata": {},
   "outputs": [
    {
     "name": "stdout",
     "output_type": "stream",
     "text": [
      "('101',)\n",
      "('101',)\n",
      "('102',)\n",
      "('102',)\n",
      "('103',)\n",
      "('104',)\n"
     ]
    }
   ],
   "source": [
    "for row in c.execute('SELECT ID FROM 도서대출내역'):\n",
    "  print(row)"
   ]
  },
  {
   "cell_type": "code",
   "execution_count": 13,
   "id": "laden-stadium",
   "metadata": {},
   "outputs": [
    {
     "name": "stdout",
     "output_type": "stream",
     "text": [
      "('101', '문강태', 'aaa', '2020-06-01', '2020-06-05')\n",
      "('101', '문강태', 'ccc', '2020-06-20', '2020-06-25')\n"
     ]
    }
   ],
   "source": [
    "for row in c.execute('SELECT * FROM 도서대출내역 WHERE 이름 = \"문강태\";'):\n",
    "  print(row)"
   ]
  },
  {
   "cell_type": "code",
   "execution_count": 14,
   "id": "silver-peninsula",
   "metadata": {},
   "outputs": [
    {
     "name": "stdout",
     "output_type": "stream",
     "text": [
      "('강기둥',)\n",
      "('고문영',)\n",
      "('문강태',)\n",
      "('문상태',)\n"
     ]
    }
   ],
   "source": [
    "for row in c.execute('SELECT 이름 FROM 도서대출내역 GROUP BY 이름;'):\n",
    "  print(row)"
   ]
  },
  {
   "cell_type": "code",
   "execution_count": 15,
   "id": "supported-baptist",
   "metadata": {},
   "outputs": [
    {
     "name": "stdout",
     "output_type": "stream",
     "text": [
      "('문강태',)\n",
      "('고문영',)\n",
      "('문상태',)\n",
      "('강기둥',)\n"
     ]
    }
   ],
   "source": [
    "for row in c.execute('SELECT DISTINCT 이름 FROM 도서대출내역;'):\n",
    "  print(row)"
   ]
  },
  {
   "cell_type": "code",
   "execution_count": 16,
   "id": "american-shore",
   "metadata": {},
   "outputs": [
    {
     "name": "stdout",
     "output_type": "stream",
     "text": [
      "('101', '문강태', 'aaa', '2020-06-01', '2020-06-05')\n",
      "('101', '문강태', 'ccc', '2020-06-20', '2020-06-25')\n",
      "('102', '고문영', 'bbb', '2020-06-01', None)\n",
      "('102', '고문영', 'ddd', '2020-06-08', None)\n",
      "('103', '문상태', 'ccc', '2020-06-01', '2020-06-05')\n",
      "('104', '강기둥', None, None, None)\n"
     ]
    }
   ],
   "source": [
    "for row in c.execute('SELECT * FROM 도서대출내역 ORDER BY ID ;'):\n",
    "  print(row)"
   ]
  },
  {
   "cell_type": "code",
   "execution_count": 17,
   "id": "excellent-fever",
   "metadata": {},
   "outputs": [
    {
     "name": "stdout",
     "output_type": "stream",
     "text": [
      "('104', '강기둥', None, None, None)\n",
      "('103', '문상태', 'ccc', '2020-06-01', '2020-06-05')\n",
      "('102', '고문영', 'bbb', '2020-06-01', None)\n",
      "('102', '고문영', 'ddd', '2020-06-08', None)\n",
      "('101', '문강태', 'aaa', '2020-06-01', '2020-06-05')\n",
      "('101', '문강태', 'ccc', '2020-06-20', '2020-06-25')\n"
     ]
    }
   ],
   "source": [
    "for row in c.execute('SELECT * FROM 도서대출내역 ORDER BY ID DESC ;'):\n",
    "  print(row)"
   ]
  },
  {
   "cell_type": "code",
   "execution_count": 18,
   "id": "cubic-inflation",
   "metadata": {},
   "outputs": [
    {
     "name": "stdout",
     "output_type": "stream",
     "text": [
      "('101', '문강태', 'aaa', '2020-06-01', '2020-06-05')\n",
      "('101', '문강태', 'ccc', '2020-06-20', '2020-06-25')\n",
      "('102', '고문영', 'bbb', '2020-06-01', None)\n",
      "('102', '고문영', 'ddd', '2020-06-08', None)\n",
      "('103', '문상태', 'ccc', '2020-06-01', '2020-06-05')\n"
     ]
    }
   ],
   "source": [
    "for row in c.execute('SELECT * FROM 도서대출내역 LIMIT 5 ;'):\n",
    "  print(row)"
   ]
  },
  {
   "cell_type": "code",
   "execution_count": 20,
   "id": "adapted-robinson",
   "metadata": {},
   "outputs": [
    {
     "name": "stdout",
     "output_type": "stream",
     "text": [
      "('문강태', '2020-06-20', '2020-06-25')\n"
     ]
    }
   ],
   "source": [
    "for row in c.execute('SELECT 이름, 대출일, 반납일 FROM 도서대출내역 ORDER BY 대출일 DESC LIMIT 1 ;'):\n",
    "  print(row)"
   ]
  },
  {
   "cell_type": "code",
   "execution_count": 21,
   "id": "fabulous-aberdeen",
   "metadata": {},
   "outputs": [
    {
     "name": "stdout",
     "output_type": "stream",
     "text": [
      "('101', '문강태', '2020-06', '20일')\n",
      "('102', '고문영', '2020-06', '10일')\n",
      "('103', '문상태', '2020-06', '8일')\n",
      "('104', '강기둥', '2020-06', '3일')\n"
     ]
    }
   ],
   "source": [
    "for row in c.execute('SELECT * FROM 도서대출내역2;'):\n",
    "  print(row)"
   ]
  },
  {
   "cell_type": "code",
   "execution_count": 22,
   "id": "closing-toyota",
   "metadata": {},
   "outputs": [
    {
     "name": "stdout",
     "output_type": "stream",
     "text": [
      "(0, 'ID', 'varchar', 0, None, 0)\n",
      "(1, '이름', 'varchar', 0, None, 0)\n",
      "(2, '도서ID', 'varchar', 0, None, 0)\n",
      "(3, '대출일', 'varchar', 0, None, 0)\n",
      "(4, '반납일', 'varchar', 0, None, 0)\n"
     ]
    }
   ],
   "source": [
    "import os\n",
    "db_path = os.getenv('HOME')+'/mydb.db'\n",
    "conn = sqlite3.connect(db_path)  # mydb.db에 연결합니다.\n",
    "c = conn.cursor()\n",
    "\n",
    "for row in c.execute('pragma table_info(도서대출내역)'):\n",
    "  print(row)"
   ]
  },
  {
   "cell_type": "code",
   "execution_count": 23,
   "id": "public-miami",
   "metadata": {},
   "outputs": [
    {
     "name": "stdout",
     "output_type": "stream",
     "text": [
      "('101', '문강태', '2020-06', '20일', '20')\n",
      "('102', '고문영', '2020-06', '10일', '10')\n",
      "('103', '문상태', '2020-06', '8일', '8')\n",
      "('104', '강기둥', '2020-06', '3일', '3')\n"
     ]
    }
   ],
   "source": [
    "for row in c.execute('SELECT *, SUBSTR(대출일수, 1, (length(대출일수)-1)) AS 대출일수_수정 FROM 도서대출내역2;'):\n",
    "  print(row)"
   ]
  },
  {
   "cell_type": "code",
   "execution_count": 24,
   "id": "narrative-alpha",
   "metadata": {},
   "outputs": [
    {
     "name": "stdout",
     "output_type": "stream",
     "text": [
      "('101', '문강태', '2020-06', '20일', 20)\n",
      "('102', '고문영', '2020-06', '10일', 10)\n",
      "('103', '문상태', '2020-06', '8일', 8)\n",
      "('104', '강기둥', '2020-06', '3일', 3)\n"
     ]
    }
   ],
   "source": [
    "for row in c.execute('SELECT *, CAST(SUBSTR(대출일수, 1, (length(대출일수)-1)) AS INT) AS 대출일수_수정 FROM 도서대출내역2 ;'):\n",
    "  print(row)"
   ]
  },
  {
   "cell_type": "code",
   "execution_count": 25,
   "id": "certain-prescription",
   "metadata": {},
   "outputs": [
    {
     "name": "stdout",
     "output_type": "stream",
     "text": [
      "('101', '문강태', '2020-06', 20.0)\n",
      "('102', '고문영', '2020-06', 10.0)\n",
      "('103', '문상태', '2020-06', 8.0)\n",
      "('104', '강기둥', '2020-06', 3.0)\n"
     ]
    }
   ],
   "source": [
    "for row in c.execute('SELECT ID, 이름, 대출년월, AVG(CAST(SUBSTR(대출일수, 1, (length(대출일수)-1)) AS INT)) AS 대출일수_평균 FROM 도서대출내역2 GROUP BY 1,2,3;'):\n",
    "  print(row)"
   ]
  },
  {
   "cell_type": "code",
   "execution_count": 26,
   "id": "neutral-steel",
   "metadata": {},
   "outputs": [
    {
     "name": "stdout",
     "output_type": "stream",
     "text": [
      "('101', '문강태', '2020-06', '20일')\n",
      "('103', '문상태', '2020-06', '8일')\n"
     ]
    }
   ],
   "source": [
    "for row in c.execute('SELECT * FROM 도서대출내역2 WHERE 이름 LIKE \"문%\" ;'):\n",
    "  print(row)"
   ]
  },
  {
   "cell_type": "code",
   "execution_count": 27,
   "id": "criminal-variation",
   "metadata": {},
   "outputs": [
    {
     "name": "stdout",
     "output_type": "stream",
     "text": [
      "('101', '문강태', 'aaa', '2020-06-01', '2020-06-05')\n",
      "('102', '고문영', 'bbb', '2020-06-01', None)\n",
      "('103', '문상태', 'ccc', '2020-06-01', '2020-06-05')\n"
     ]
    }
   ],
   "source": [
    "for row in c.execute('SELECT * FROM 도서대출내역 WHERE 대출일 >= \"2020-06-01\" AND 대출일 <= \"2020-06-07\" ;'):\n",
    "  print(row)"
   ]
  },
  {
   "cell_type": "code",
   "execution_count": 28,
   "id": "tough-leone",
   "metadata": {},
   "outputs": [
    {
     "name": "stdout",
     "output_type": "stream",
     "text": [
      "('101', '문강태', 'aaa', '2020-06-01', '2020-06-05')\n",
      "('102', '고문영', 'bbb', '2020-06-01', None)\n",
      "('103', '문상태', 'ccc', '2020-06-01', '2020-06-05')\n"
     ]
    }
   ],
   "source": [
    "for row in c.execute('SELECT * FROM 도서대출내역 WHERE 대출일 BETWEEN \"2020-06-01\" AND \"2020-06-07\" ;'):\n",
    "  print(row)"
   ]
  },
  {
   "cell_type": "code",
   "execution_count": 29,
   "id": "rocky-cause",
   "metadata": {},
   "outputs": [
    {
     "name": "stdout",
     "output_type": "stream",
     "text": [
      "('101', '문강태', '2020-06', '20일', 20)\n",
      "('102', '고문영', '2020-06', '10일', 10)\n",
      "('103', '문상태', '2020-06', '8일', 8)\n"
     ]
    }
   ],
   "source": [
    "for row in c.execute('SELECT *, CAST(SUBSTR(대출일수, 1, (length(대출일수)-1)) AS INT) AS 대출일수_수정 FROM 도서대출내역2 WHERE 대출일수_수정 > 5 '):\n",
    "  print(row)"
   ]
  },
  {
   "cell_type": "code",
   "execution_count": 30,
   "id": "noble-welcome",
   "metadata": {},
   "outputs": [
    {
     "name": "stdout",
     "output_type": "stream",
     "text": [
      "('101', '문강태', 'aaa', '2020-06-01', '2020-06-05')\n",
      "('101', '문강태', 'ccc', '2020-06-20', '2020-06-25')\n",
      "('103', '문상태', 'ccc', '2020-06-01', '2020-06-05')\n"
     ]
    }
   ],
   "source": [
    "for row in c.execute('SELECT * FROM 도서대출내역 WHERE 반납일 IS NOT NULL;'):\n",
    "  print(row)"
   ]
  },
  {
   "cell_type": "code",
   "execution_count": 31,
   "id": "governmental-commons",
   "metadata": {},
   "outputs": [
    {
     "name": "stdout",
     "output_type": "stream",
     "text": [
      "('102', '고문영', 'bbb', '2020-06-01', None)\n",
      "('102', '고문영', 'ddd', '2020-06-08', None)\n",
      "('104', '강기둥', None, None, None)\n"
     ]
    }
   ],
   "source": [
    "for row in c.execute('SELECT * FROM 도서대출내역 WHERE 반납일 IS NULL;'):\n",
    "  print(row)"
   ]
  },
  {
   "cell_type": "code",
   "execution_count": 32,
   "id": "different-shirt",
   "metadata": {},
   "outputs": [],
   "source": [
    "import os\n",
    "db_path = os.getenv('HOME')+'/mydb.db'\n",
    "conn = sqlite3.connect(db_path)  # mydb.db에 연결합니다.\n",
    "c = conn.cursor()"
   ]
  },
  {
   "cell_type": "code",
   "execution_count": 33,
   "id": "recovered-banana",
   "metadata": {},
   "outputs": [
    {
     "name": "stdout",
     "output_type": "stream",
     "text": [
      "대출내역 테이블\n",
      "('101', '문강태', 'aaa')\n",
      "('102', '고문영', 'bbb')\n",
      "('102', '고문영', 'fff')\n",
      "('103', '문상태', 'ccc')\n",
      "('104', '강기둥', None)\n",
      "\n",
      "도서명 테이블\n",
      "('aaa', '악몽을 먹고 자란 소년')\n",
      "('bbb', '좀비아이')\n",
      "('ccc', '공룡백과사전')\n",
      "('ddd', '빨간구두')\n",
      "('eee', '잠자는 숲속의 미녀')\n"
     ]
    }
   ],
   "source": [
    "print('대출내역 테이블')\n",
    "for row in c.execute('SELECT * FROM 대출내역;'):\n",
    "  print(row)\n",
    "print('')\n",
    "print('도서명 테이블')\n",
    "for row in c.execute('SELECT * FROM 도서명;'):\n",
    "  print(row)"
   ]
  },
  {
   "cell_type": "code",
   "execution_count": 34,
   "id": "tight-engineering",
   "metadata": {},
   "outputs": [
    {
     "name": "stdout",
     "output_type": "stream",
     "text": [
      "('101', '문강태', 'aaa', '악몽을 먹고 자란 소년')\n",
      "('102', '고문영', 'bbb', '좀비아이')\n",
      "('103', '문상태', 'ccc', '공룡백과사전')\n"
     ]
    }
   ],
   "source": [
    "query = '''\n",
    "SELECT A.*, B.도서명 \n",
    "FROM 대출내역 AS A \n",
    "INNER JOIN 도서명 AS B\n",
    "ON A.도서ID = B.도서ID;\n",
    "'''\n",
    "for row in c.execute(query):\n",
    "  print(row)"
   ]
  },
  {
   "cell_type": "code",
   "execution_count": 35,
   "id": "dangerous-terrace",
   "metadata": {},
   "outputs": [
    {
     "name": "stdout",
     "output_type": "stream",
     "text": [
      "('101', '문강태', 'aaa', '악몽을 먹고 자란 소년')\n",
      "('102', '고문영', 'bbb', '좀비아이')\n",
      "('102', '고문영', 'fff', None)\n",
      "('103', '문상태', 'ccc', '공룡백과사전')\n",
      "('104', '강기둥', None, None)\n"
     ]
    }
   ],
   "source": [
    "query = '''\n",
    "SELECT A.*, B.도서명 \n",
    "FROM 대출내역 AS A \n",
    "LEFT JOIN 도서명 AS B\n",
    "ON A.도서ID = B.도서ID;\n",
    "'''\n",
    "for row in c.execute(query):\n",
    "  print(row)"
   ]
  },
  {
   "cell_type": "code",
   "execution_count": 37,
   "id": "employed-jerusalem",
   "metadata": {},
   "outputs": [
    {
     "ename": "OperationalError",
     "evalue": "RIGHT and FULL OUTER JOINs are not currently supported",
     "output_type": "error",
     "traceback": [
      "\u001b[0;31m---------------------------------------------------------------------------\u001b[0m",
      "\u001b[0;31mOperationalError\u001b[0m                          Traceback (most recent call last)",
      "\u001b[0;32m<ipython-input-37-1d781f519a61>\u001b[0m in \u001b[0;36m<module>\u001b[0;34m\u001b[0m\n\u001b[1;32m      5\u001b[0m \u001b[0mON\u001b[0m \u001b[0mA\u001b[0m\u001b[0;34m.\u001b[0m\u001b[0m도서ID\u001b[0m \u001b[0;34m=\u001b[0m \u001b[0mB\u001b[0m\u001b[0;34m.\u001b[0m\u001b[0m도서ID\u001b[0m\u001b[0;34m\u001b[0m\u001b[0;34m\u001b[0m\u001b[0m\n\u001b[1;32m      6\u001b[0m '''\n\u001b[0;32m----> 7\u001b[0;31m \u001b[0;32mfor\u001b[0m \u001b[0mrow\u001b[0m \u001b[0;32min\u001b[0m \u001b[0mc\u001b[0m\u001b[0;34m.\u001b[0m\u001b[0mexecute\u001b[0m\u001b[0;34m(\u001b[0m\u001b[0mquery\u001b[0m\u001b[0;34m)\u001b[0m\u001b[0;34m:\u001b[0m\u001b[0;34m\u001b[0m\u001b[0;34m\u001b[0m\u001b[0m\n\u001b[0m\u001b[1;32m      8\u001b[0m   \u001b[0mprint\u001b[0m\u001b[0;34m(\u001b[0m\u001b[0mrow\u001b[0m\u001b[0;34m)\u001b[0m\u001b[0;34m\u001b[0m\u001b[0;34m\u001b[0m\u001b[0m\n",
      "\u001b[0;31mOperationalError\u001b[0m: RIGHT and FULL OUTER JOINs are not currently supported"
     ]
    }
   ],
   "source": [
    "query = '''\n",
    "SELECT B.*, A.ID, A.이름 \n",
    "FROM 대출내역 AS A \n",
    "RIGHT JOIN 도서명 AS B\n",
    "ON A.도서ID = B.도서ID;\n",
    "'''\n",
    "for row in c.execute(query):\n",
    "  print(row)"
   ]
  },
  {
   "cell_type": "code",
   "execution_count": 38,
   "id": "vocational-above",
   "metadata": {},
   "outputs": [
    {
     "ename": "OperationalError",
     "evalue": "RIGHT and FULL OUTER JOINs are not currently supported",
     "output_type": "error",
     "traceback": [
      "\u001b[0;31m---------------------------------------------------------------------------\u001b[0m",
      "\u001b[0;31mOperationalError\u001b[0m                          Traceback (most recent call last)",
      "\u001b[0;32m<ipython-input-38-bd20360ed5b4>\u001b[0m in \u001b[0;36m<module>\u001b[0;34m\u001b[0m\n\u001b[1;32m      6\u001b[0m \u001b[0mORDER\u001b[0m \u001b[0mBY\u001b[0m \u001b[0m도서ID\u001b[0m\u001b[0;34m;\u001b[0m\u001b[0;34m\u001b[0m\u001b[0;34m\u001b[0m\u001b[0m\n\u001b[1;32m      7\u001b[0m '''\n\u001b[0;32m----> 8\u001b[0;31m \u001b[0;32mfor\u001b[0m \u001b[0mrow\u001b[0m \u001b[0;32min\u001b[0m \u001b[0mc\u001b[0m\u001b[0;34m.\u001b[0m\u001b[0mexecute\u001b[0m\u001b[0;34m(\u001b[0m\u001b[0mquery\u001b[0m\u001b[0;34m)\u001b[0m\u001b[0;34m:\u001b[0m\u001b[0;34m\u001b[0m\u001b[0;34m\u001b[0m\u001b[0m\n\u001b[0m\u001b[1;32m      9\u001b[0m   \u001b[0mprint\u001b[0m\u001b[0;34m(\u001b[0m\u001b[0mrow\u001b[0m\u001b[0;34m)\u001b[0m\u001b[0;34m\u001b[0m\u001b[0;34m\u001b[0m\u001b[0m\n",
      "\u001b[0;31mOperationalError\u001b[0m: RIGHT and FULL OUTER JOINs are not currently supported"
     ]
    }
   ],
   "source": [
    "query = '''\n",
    "SELECT A.*, B.도서명 \n",
    "FROM 대출내역 AS A \n",
    "FULL OUTER JOIN 도서명 AS B\n",
    "ON A.도서ID = B.도서ID\n",
    "ORDER BY 도서ID;\n",
    "'''\n",
    "for row in c.execute(query):\n",
    "  print(row)"
   ]
  },
  {
   "cell_type": "code",
   "execution_count": 39,
   "id": "challenging-wellington",
   "metadata": {},
   "outputs": [
    {
     "name": "stdout",
     "output_type": "stream",
     "text": [
      "('강기둥', 1)\n",
      "('고문영', 2)\n",
      "('문강태', 1)\n",
      "('문상태', 1)\n"
     ]
    }
   ],
   "source": [
    "query = '''\n",
    "SELECT C.이름, COUNT(*) 대출건수\n",
    "FROM (\n",
    "\tSELECT A.*, B.도서명 \n",
    "\tFROM 대출내역 AS A \n",
    "\tLEFT JOIN 도서명 AS B\n",
    "\tON A.도서ID = B.도서ID ) C\n",
    "GROUP BY C.이름;\n",
    "'''\n",
    "for row in c.execute(query):\n",
    "  print(row)"
   ]
  },
  {
   "cell_type": "code",
   "execution_count": 40,
   "id": "retired-bridal",
   "metadata": {},
   "outputs": [
    {
     "name": "stdout",
     "output_type": "stream",
     "text": [
      "('101', '문강태', 'aaa', '악몽을 먹고 자란 소년')\n",
      "('102', '고문영', 'bbb', '좀비아이')\n",
      "('102', '고문영', 'fff', '도서명미상')\n",
      "('103', '문상태', 'ccc', '공룡백과사전')\n",
      "('104', '강기둥', None, '도서명미상')\n"
     ]
    }
   ],
   "source": [
    "query = '''\n",
    "SELECT A.*, IFNULL(B.도서명, '도서명미상') AS 도서명\n",
    "\tFROM 대출내역 AS A \n",
    "\tLEFT JOIN 도서명 AS B\n",
    "\tON A.도서ID = B.도서ID;\n",
    "'''\n",
    "for row in c.execute(query):\n",
    "  print(row)"
   ]
  },
  {
   "cell_type": "code",
   "execution_count": 41,
   "id": "lined-contractor",
   "metadata": {},
   "outputs": [
    {
     "name": "stdout",
     "output_type": "stream",
     "text": [
      "('문강태', '기간초과')\n",
      "('고문영', '기간초과')\n",
      "('문상태', '기간초과')\n",
      "('강기둥', '기간내')\n"
     ]
    }
   ],
   "source": [
    "query = '''\n",
    "SELECT 이름, \n",
    "CASE WHEN 대출일수_수정 > 5 \n",
    "    THEN '기간초과' \n",
    "    ELSE '기간내' \n",
    "END AS 대출기간\n",
    "FROM (\n",
    "    SELECT *, CAST(SUBSTR(대출일수, 1, (length(대출일수)-1)) AS INT) AS 대출일수_수정 \n",
    "    FROM 도서대출내역2\n",
    ");\n",
    "'''\n",
    "for row in c.execute(query):\n",
    "  print(row)"
   ]
  }
 ],
 "metadata": {
  "kernelspec": {
   "display_name": "Python 3",
   "language": "python",
   "name": "python3"
  },
  "language_info": {
   "codemirror_mode": {
    "name": "ipython",
    "version": 3
   },
   "file_extension": ".py",
   "mimetype": "text/x-python",
   "name": "python",
   "nbconvert_exporter": "python",
   "pygments_lexer": "ipython3",
   "version": "3.7.9"
  }
 },
 "nbformat": 4,
 "nbformat_minor": 5
}
