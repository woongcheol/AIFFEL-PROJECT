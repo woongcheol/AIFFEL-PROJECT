{
 "cells": [
  {
   "cell_type": "markdown",
   "id": "material-maple",
   "metadata": {},
   "source": [
    "# F27. SQL\n",
    "## 1. 파이썬으로 DB 다루기"
   ]
  },
  {
   "cell_type": "code",
   "execution_count": 18,
   "id": "ideal-instrument",
   "metadata": {},
   "outputs": [
    {
     "name": "stdout",
     "output_type": "stream",
     "text": [
      "완료\n"
     ]
    }
   ],
   "source": [
    "import sqlite3\n",
    "print(\"완료\")"
   ]
  },
  {
   "cell_type": "code",
   "execution_count": 19,
   "id": "formed-recycling",
   "metadata": {},
   "outputs": [
    {
     "name": "stdout",
     "output_type": "stream",
     "text": [
      "<sqlite3.Connection object at 0x7fd019ca9730>\n"
     ]
    }
   ],
   "source": [
    "import os\n",
    "db_path = os.getenv('HOME')+'/mydb.db'\n",
    "conn = sqlite3.connect(db_path)  # mydb.db에 연결합니다.\n",
    "print(conn)"
   ]
  },
  {
   "cell_type": "code",
   "execution_count": 20,
   "id": "smaller-monitor",
   "metadata": {},
   "outputs": [
    {
     "name": "stdout",
     "output_type": "stream",
     "text": [
      "<sqlite3.Cursor object at 0x7fd018106b20>\n"
     ]
    }
   ],
   "source": [
    "c = conn.cursor()\n",
    "print(c)"
   ]
  },
  {
   "cell_type": "code",
   "execution_count": 21,
   "id": "wrapped-bowling",
   "metadata": {},
   "outputs": [
    {
     "name": "stdout",
     "output_type": "stream",
     "text": [
      "('20200701', 'TEST', 'AIFFEL', 1.0, 10000.0)\n"
     ]
    }
   ],
   "source": [
    "# stocks이라는 이름의 테이블을 하나 생성합니다. 혹시 이미 생성되었다면 생략합니다. \n",
    "c.execute(\"CREATE TABLE  IF NOT EXISTS  stocks (date text, trans text, symbol text, qty real, price real)\")\n",
    "\n",
    "# stocks 테이블에 데이터를 하나 인서트합니다. \n",
    "c.execute(\"INSERT INTO stocks VALUES ('20200701', 'TEST', 'AIFFEL', 1, 10000)\")\n",
    "\n",
    "# 방금 인서트한 데이터를 조회해 봅니다.\n",
    "c.execute(\"SELECT * FROM stocks\")\n",
    "\n",
    "# 조회된 내역을 커서를 통해 가져와 출력해 봅니다.\n",
    "print(c.fetchone())"
   ]
  },
  {
   "cell_type": "code",
   "execution_count": 22,
   "id": "rental-columbia",
   "metadata": {},
   "outputs": [
    {
     "name": "stdout",
     "output_type": "stream",
     "text": [
      "완료\n"
     ]
    }
   ],
   "source": [
    "conn.commit()   # commit()은 cursor의 메소드가 아니라 connection의 메소드입니다. \n",
    "print(\"완료\")"
   ]
  },
  {
   "cell_type": "code",
   "execution_count": 23,
   "id": "coupled-valve",
   "metadata": {},
   "outputs": [
    {
     "name": "stdout",
     "output_type": "stream",
     "text": [
      "완료\n"
     ]
    }
   ],
   "source": [
    "c.close()      # 먼저 커서를 닫은 후\n",
    "conn.close()    # DB 연결을 닫아 줍니다.\n",
    "print(\"완료\")"
   ]
  },
  {
   "cell_type": "code",
   "execution_count": 24,
   "id": "abstract-electron",
   "metadata": {},
   "outputs": [
    {
     "name": "stdout",
     "output_type": "stream",
     "text": [
      "완료\n"
     ]
    }
   ],
   "source": [
    "import sqlite3\n",
    "import os\n",
    "db_path = os.getenv('HOME')+'/mydb.db'\n",
    "\n",
    "conn = sqlite3.connect(db_path)\n",
    "c = conn.cursor()\n",
    "\n",
    "#- ! 재실행 시 테이블이 존재할 수 있으므로 아래처럼 해당 테이블들을 모두 지워줍니다.\n",
    "c.execute(\"DROP TABLE IF EXISTS 도서대출내역\")\n",
    "c.execute(\"DROP TABLE IF EXISTS 도서대출내역2\")\n",
    "c.execute(\"DROP TABLE IF EXISTS 대출내역\")\n",
    "c.execute(\"DROP TABLE IF EXISTS 도서명\")\n",
    "\n",
    "\n",
    "#----- 1st table : 도서대출내역 -----#\n",
    "c.execute(\"CREATE TABLE IF NOT EXISTS 도서대출내역 (ID varchar, 이름 varchar, 도서ID varchar, 대출일 varchar, 반납일 varchar)\")\n",
    "#- 생성(create)문 : 테이블명, 변수명, 변수타입을 지정\n",
    "\n",
    "data = [('101','문강태','aaa','2020-06-01','2020-06-05'),\n",
    "             ('101','문강태','ccc','2020-06-20','2020-06-25'),\n",
    "             ('102','고문영','bbb','2020-06-01',None),\n",
    "             ('102','고문영','ddd','2020-06-08',None),\n",
    "             ('103','문상태','ccc','2020-06-01','2020-06-05'),\n",
    "             ('104','강기둥',None,None,None)]\n",
    "#- 입력할 데이터를 그대로 입력 (변수명 순서 기준대로)\n",
    "\n",
    "c.executemany('INSERT INTO 도서대출내역 VALUES (?,?,?,?,?)', data)\n",
    "#- 입력할 데이터를 실제 테이블에 insert하기\n",
    "#-----------------------------------------------#\n",
    "\n",
    "\n",
    "#----- 2nd table : 도서대출내역2 -----#\n",
    "c.execute(\"CREATE TABLE IF NOT EXISTS 도서대출내역2 (ID varchar, 이름 varchar, 대출년월 varchar, 대출일수 varchar)\")\n",
    "\n",
    "data = [('101','문강태','2020-06','20일'),\n",
    "             ('102','고문영','2020-06','10일'),\n",
    "             ('103','문상태','2020-06','8일'),\n",
    "             ('104','강기둥','2020-06','3일')]\n",
    "c.executemany('INSERT INTO 도서대출내역2 VALUES (?,?,?,?)', data)\n",
    "#--------------------------------------------------#\n",
    "\n",
    "\n",
    "#----- 3rd table : 대출내역 -----#\n",
    "c.execute(\"CREATE TABLE IF NOT EXISTS 대출내역 (ID varchar, 이름 varchar, 도서ID varchar)\")\n",
    "\n",
    "data = [('101','문강태','aaa'),\n",
    "             ('102','고문영','bbb'),\n",
    "             ('102','고문영','fff'),\n",
    "             ('103','문상태','ccc'),\n",
    "             ('104','강기둥',None)]\n",
    "c.executemany('INSERT INTO 대출내역 VALUES (?,?,?)', data)\n",
    "#-----------------------------------------#\n",
    "\n",
    "\n",
    "#----- 4th table : 도서명 -----#\n",
    "c.execute(\"CREATE TABLE IF NOT EXISTS 도서명 (도서ID varchar, 도서명 varchar)\")\n",
    "\n",
    "data = [('aaa','악몽을 먹고 자란 소년'),\n",
    "             ('bbb','좀비아이'),\n",
    "             ('ccc','공룡백과사전'),\n",
    "             ('ddd','빨간구두'),\n",
    "             ('eee','잠자는 숲속의 미녀')]\n",
    "\n",
    "c.executemany('INSERT INTO 도서명 VALUES (?,?)', data)\n",
    "#--------------------------------------#\n",
    "\n",
    "conn.commit()\n",
    "conn.close()\n",
    "print(\"완료\")"
   ]
  },
  {
   "cell_type": "code",
   "execution_count": 25,
   "id": "peaceful-middle",
   "metadata": {},
   "outputs": [
    {
     "name": "stdout",
     "output_type": "stream",
     "text": [
      "('aaa', '악몽을 먹고 자란 소년')\n",
      "('bbb', '좀비아이')\n",
      "('ccc', '공룡백과사전')\n",
      "('ddd', '빨간구두')\n",
      "('eee', '잠자는 숲속의 미녀')\n"
     ]
    }
   ],
   "source": [
    "conn = sqlite3.connect(db_path)\n",
    "c = conn.cursor()\n",
    "\n",
    "for row in c.execute('SELECT * FROM 도서명'):\n",
    "  print(row)"
   ]
  }
 ],
 "metadata": {
  "kernelspec": {
   "display_name": "Python 3",
   "language": "python",
   "name": "python3"
  },
  "language_info": {
   "codemirror_mode": {
    "name": "ipython",
    "version": 3
   },
   "file_extension": ".py",
   "mimetype": "text/x-python",
   "name": "python",
   "nbconvert_exporter": "python",
   "pygments_lexer": "ipython3",
   "version": "3.7.9"
  }
 },
 "nbformat": 4,
 "nbformat_minor": 5
}
