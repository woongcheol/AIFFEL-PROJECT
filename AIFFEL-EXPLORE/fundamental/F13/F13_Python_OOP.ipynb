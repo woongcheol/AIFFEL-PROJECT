{
 "cells": [
  {
   "cell_type": "markdown",
   "id": "sufficient-respondent",
   "metadata": {},
   "source": [
    "# Object Oriented Programming(OOP) & Class"
   ]
  },
  {
   "cell_type": "markdown",
   "id": "organized-catch",
   "metadata": {},
   "source": [
    "## 1. 객체 지향 프로그래밍(OOP)이란?"
   ]
  },
  {
   "cell_type": "markdown",
   "id": "loving-therapy",
   "metadata": {},
   "source": [
    "### 1-1. 변수"
   ]
  },
  {
   "cell_type": "code",
   "execution_count": 9,
   "id": "north-garlic",
   "metadata": {},
   "outputs": [
    {
     "data": {
      "text/plain": [
       "6"
      ]
     },
     "execution_count": 9,
     "metadata": {},
     "output_type": "execute_result"
    }
   ],
   "source": [
    "myvar = 6 # 변수에 6을 할당 = 객체에 이름을 붙이는 것 = 진짜 객체를 변수명으로 참조할 수 있게 함\n",
    "myvar"
   ]
  },
  {
   "cell_type": "code",
   "execution_count": 10,
   "id": "coated-overhead",
   "metadata": {},
   "outputs": [],
   "source": [
    "myword = 'dog' # 문자열 타입의 객체 생성('dog') -> myword라는 변수(객체)애 할당, 문자열 객체를 참조함"
   ]
  },
  {
   "cell_type": "code",
   "execution_count": 11,
   "id": "incredible-firewall",
   "metadata": {},
   "outputs": [
    {
     "data": {
      "text/plain": [
       "'DOG'"
      ]
     },
     "execution_count": 11,
     "metadata": {},
     "output_type": "execute_result"
    }
   ],
   "source": [
    "myword.upper() # 문자열 클래스 upper() 메소드"
   ]
  },
  {
   "cell_type": "code",
   "execution_count": 12,
   "id": "fatty-slide",
   "metadata": {},
   "outputs": [
    {
     "data": {
      "text/plain": [
       "'DOG'"
      ]
     },
     "execution_count": 12,
     "metadata": {},
     "output_type": "execute_result"
    }
   ],
   "source": [
    "'dog'.upper() # 문자열 클래스 upper() 메소드"
   ]
  },
  {
   "cell_type": "code",
   "execution_count": 13,
   "id": "painful-terror",
   "metadata": {},
   "outputs": [
    {
     "data": {
      "text/plain": [
       "5"
      ]
     },
     "execution_count": 13,
     "metadata": {},
     "output_type": "execute_result"
    }
   ],
   "source": [
    "var = 5\n",
    "var"
   ]
  },
  {
   "cell_type": "code",
   "execution_count": 14,
   "id": "thousand-forge",
   "metadata": {},
   "outputs": [
    {
     "name": "stdout",
     "output_type": "stream",
     "text": [
      "94134319166208 94134319166208\n"
     ]
    }
   ],
   "source": [
    "print(id(var), id(5)) # 파이썬 내장함수 id(), 객체 고유값(메모리 주소) 반환"
   ]
  },
  {
   "cell_type": "markdown",
   "id": "plastic-florence",
   "metadata": {},
   "source": [
    "### 1-2. 얕은복사, 깊은 복사"
   ]
  },
  {
   "cell_type": "code",
   "execution_count": 15,
   "id": "centered-disease",
   "metadata": {},
   "outputs": [
    {
     "data": {
      "text/plain": [
       "[1, 2]"
      ]
     },
     "execution_count": 15,
     "metadata": {},
     "output_type": "execute_result"
    }
   ],
   "source": [
    "mylist = [1,2]\n",
    "var = mylist\n",
    "var"
   ]
  },
  {
   "cell_type": "code",
   "execution_count": 16,
   "id": "understood-religious",
   "metadata": {},
   "outputs": [
    {
     "name": "stdout",
     "output_type": "stream",
     "text": [
      "[1, 2, 4]\n"
     ]
    }
   ],
   "source": [
    "mylist.append(4) # append() 메소드 리스트 내 원소 4 추가\n",
    "print(mylist)"
   ]
  },
  {
   "cell_type": "code",
   "execution_count": 17,
   "id": "moving-election",
   "metadata": {},
   "outputs": [
    {
     "name": "stdout",
     "output_type": "stream",
     "text": [
      "[1, 2, 4]\n"
     ]
    }
   ],
   "source": [
    "print(var)"
   ]
  },
  {
   "cell_type": "code",
   "execution_count": 18,
   "id": "responsible-merit",
   "metadata": {},
   "outputs": [
    {
     "name": "stdout",
     "output_type": "stream",
     "text": [
      "140499858628112 140499858628112\n"
     ]
    }
   ],
   "source": [
    "print(id(mylist), id(var)) # 메모리 주소가 같음 -> 데이터 id만 복사하는 것을 얕은 복사"
   ]
  },
  {
   "cell_type": "markdown",
   "id": "amazing-shower",
   "metadata": {},
   "source": [
    "### Summary\n",
    "- 파이썬은 객체 지향 프로그래밍으로써 모든 것이 객체로 구성\n",
    "- 객체에서 상태를 표현하는 속성은 변수로, 동작을 표현하는 메소드는 함수로 구현"
   ]
  },
  {
   "cell_type": "markdown",
   "id": "oriental-champagne",
   "metadata": {},
   "source": [
    "## 2. Class 기본 문법"
   ]
  },
  {
   "cell_type": "markdown",
   "id": "general-headline",
   "metadata": {},
   "source": [
    "### 2-1. Class 선언"
   ]
  },
  {
   "cell_type": "code",
   "execution_count": 19,
   "id": "productive-plaza",
   "metadata": {},
   "outputs": [
    {
     "name": "stdout",
     "output_type": "stream",
     "text": [
      "94134332413152\n",
      "94134332413152\n",
      "140499858735312\n",
      "140499858735248\n",
      "<class 'type'>\n",
      "<class '__main__.Bus'>\n"
     ]
    }
   ],
   "source": [
    "class Bus: # type 유형의 객체 생성\n",
    "    pass\n",
    "\n",
    "class Bus(): # bus 타입의 객체 생성\n",
    "    pass\n",
    "\n",
    "# 여러번 호출해도 같은 값이 얻어진다.\n",
    "print(id(Bus))\n",
    "print(id(Bus))\n",
    "\n",
    "# 호출될 때마다 다른 값이 얻어진다.\n",
    "print(id(Bus()))\n",
    "print(id(Bus()))\n",
    "\n",
    "# type 비교\n",
    "print(type(Bus))\n",
    "print(type(Bus()))"
   ]
  },
  {
   "cell_type": "code",
   "execution_count": 20,
   "id": "vital-papua",
   "metadata": {},
   "outputs": [
    {
     "name": "stdout",
     "output_type": "stream",
     "text": [
      "140499895738000\n",
      "140499895734480\n"
     ]
    }
   ],
   "source": [
    "myBus = Bus()\n",
    "myBus2 = Bus()\n",
    "print(id(myBus))\n",
    "print(id(myBus2))"
   ]
  },
  {
   "cell_type": "markdown",
   "id": "stock-brass",
   "metadata": {},
   "source": [
    "### 2-2. Class 속성 및 메소드"
   ]
  },
  {
   "cell_type": "code",
   "execution_count": 21,
   "id": "emotional-framework",
   "metadata": {},
   "outputs": [],
   "source": [
    "def driving(): # 함수(메소드) 입력 전, pass로 구분만\n",
    "    pass\n",
    "def accel():\n",
    "    pass"
   ]
  },
  {
   "cell_type": "code",
   "execution_count": 46,
   "id": "medium-junior",
   "metadata": {},
   "outputs": [],
   "source": [
    "# 클래스 내 속성(상태), 메소드(동작)을 나타낸다.\n",
    "class Car:\n",
    "    color = 'red'\n",
    "    category = 'mini bus'\n",
    "    \n",
    "    def drive(self):\n",
    "        print(\"i'm driving\")\n",
    "        \n",
    "    def accel(self, speed_up, current_speed=10):\n",
    "        self.speed_up = speed_up\n",
    "        self.current_speed = current_speed + speed_up\n",
    "        print(\"speed up\", self.speed_up, \"driving at\", self.current_speed)"
   ]
  },
  {
   "cell_type": "code",
   "execution_count": 60,
   "id": "opposite-class",
   "metadata": {},
   "outputs": [
    {
     "name": "stdout",
     "output_type": "stream",
     "text": [
      "red\n"
     ]
    }
   ],
   "source": [
    "mycar = Car()\n",
    "print(mycar.color)"
   ]
  },
  {
   "cell_type": "code",
   "execution_count": 55,
   "id": "broad-referral",
   "metadata": {},
   "outputs": [
    {
     "ename": "AttributeError",
     "evalue": "'Car' object has no attribute 'price'",
     "output_type": "error",
     "traceback": [
      "\u001b[0;31m---------------------------------------------------------------------------\u001b[0m",
      "\u001b[0;31mAttributeError\u001b[0m                            Traceback (most recent call last)",
      "\u001b[0;32m<ipython-input-55-6524140a9212>\u001b[0m in \u001b[0;36m<module>\u001b[0;34m\u001b[0m\n\u001b[0;32m----> 1\u001b[0;31m \u001b[0mmycar\u001b[0m\u001b[0;34m.\u001b[0m\u001b[0mprice\u001b[0m \u001b[0;31m# 없는 값을 출력하면 에러 발생\u001b[0m\u001b[0;34m\u001b[0m\u001b[0;34m\u001b[0m\u001b[0m\n\u001b[0m",
      "\u001b[0;31mAttributeError\u001b[0m: 'Car' object has no attribute 'price'"
     ]
    }
   ],
   "source": [
    "mycar.price # 없는 값을 출력하면 에러 발생"
   ]
  },
  {
   "cell_type": "code",
   "execution_count": 62,
   "id": "confidential-youth",
   "metadata": {},
   "outputs": [
    {
     "name": "stdout",
     "output_type": "stream",
     "text": [
      "i'm driving\n",
      "speed up 5 driving at 15\n"
     ]
    }
   ],
   "source": [
    "mycar.drive()\n",
    "mycar.accel(5)"
   ]
  },
  {
   "cell_type": "code",
   "execution_count": 63,
   "id": "statewide-persian",
   "metadata": {},
   "outputs": [
    {
     "name": "stdout",
     "output_type": "stream",
     "text": [
      "i'm driving\n",
      "i'm driving\n"
     ]
    }
   ],
   "source": [
    "mycar.drive() # self 인자는 클래스 인스턴스화 된 인스턴스 객체를 의미(자신)\n",
    "Car.drive(mycar) #동일한 값이 나온다"
   ]
  },
  {
   "cell_type": "code",
   "execution_count": 65,
   "id": "progressive-holocaust",
   "metadata": {},
   "outputs": [],
   "source": [
    "class Test:\n",
    "    def run1(self):\n",
    "        print(\"run1\") # t.run1() -> 'run 1' 출력\n",
    "\n",
    "    def run2():\n",
    "        print(\"run2\") # 에러발생\n",
    "\n",
    "t = Test()"
   ]
  },
  {
   "cell_type": "code",
   "execution_count": 71,
   "id": "simple-cliff",
   "metadata": {},
   "outputs": [],
   "source": [
    "class Test2:\n",
    "    def run1(self, a):\n",
    "        self.a = float(a) * 10\n",
    "        print(self.a)\n",
    "\n",
    "    def run2(self, b):\n",
    "        b = float(b) + 10\n",
    "        print(self.b)\n",
    "        \n",
    "t = Test2()"
   ]
  },
  {
   "cell_type": "code",
   "execution_count": 72,
   "id": "interim-standard",
   "metadata": {},
   "outputs": [
    {
     "name": "stdout",
     "output_type": "stream",
     "text": [
      "10.0\n"
     ]
    }
   ],
   "source": [
    "t.run1(1) "
   ]
  },
  {
   "cell_type": "code",
   "execution_count": 73,
   "id": "bound-calibration",
   "metadata": {
    "scrolled": true
   },
   "outputs": [
    {
     "ename": "AttributeError",
     "evalue": "'Test2' object has no attribute 'b'",
     "output_type": "error",
     "traceback": [
      "\u001b[0;31m---------------------------------------------------------------------------\u001b[0m",
      "\u001b[0;31mAttributeError\u001b[0m                            Traceback (most recent call last)",
      "\u001b[0;32m<ipython-input-73-c09fe4c96ef9>\u001b[0m in \u001b[0;36m<module>\u001b[0;34m\u001b[0m\n\u001b[0;32m----> 1\u001b[0;31m \u001b[0mt\u001b[0m\u001b[0;34m.\u001b[0m\u001b[0mrun2\u001b[0m\u001b[0;34m(\u001b[0m\u001b[0;36m1\u001b[0m\u001b[0;34m)\u001b[0m\u001b[0;34m\u001b[0m\u001b[0;34m\u001b[0m\u001b[0m\n\u001b[0m",
      "\u001b[0;32m<ipython-input-71-00e4f65e6067>\u001b[0m in \u001b[0;36mrun2\u001b[0;34m(self, b)\u001b[0m\n\u001b[1;32m      6\u001b[0m     \u001b[0;32mdef\u001b[0m \u001b[0mrun2\u001b[0m\u001b[0;34m(\u001b[0m\u001b[0mself\u001b[0m\u001b[0;34m,\u001b[0m \u001b[0mb\u001b[0m\u001b[0;34m)\u001b[0m\u001b[0;34m:\u001b[0m\u001b[0;34m\u001b[0m\u001b[0;34m\u001b[0m\u001b[0m\n\u001b[1;32m      7\u001b[0m         \u001b[0mb\u001b[0m \u001b[0;34m=\u001b[0m \u001b[0mfloat\u001b[0m\u001b[0;34m(\u001b[0m\u001b[0mb\u001b[0m\u001b[0;34m)\u001b[0m \u001b[0;34m+\u001b[0m \u001b[0;36m10\u001b[0m\u001b[0;34m\u001b[0m\u001b[0;34m\u001b[0m\u001b[0m\n\u001b[0;32m----> 8\u001b[0;31m         \u001b[0mprint\u001b[0m\u001b[0;34m(\u001b[0m\u001b[0mself\u001b[0m\u001b[0;34m.\u001b[0m\u001b[0mb\u001b[0m\u001b[0;34m)\u001b[0m\u001b[0;34m\u001b[0m\u001b[0;34m\u001b[0m\u001b[0m\n\u001b[0m\u001b[1;32m      9\u001b[0m \u001b[0;34m\u001b[0m\u001b[0m\n\u001b[1;32m     10\u001b[0m \u001b[0mt\u001b[0m \u001b[0;34m=\u001b[0m \u001b[0mTest2\u001b[0m\u001b[0;34m(\u001b[0m\u001b[0;34m)\u001b[0m\u001b[0;34m\u001b[0m\u001b[0;34m\u001b[0m\u001b[0m\n",
      "\u001b[0;31mAttributeError\u001b[0m: 'Test2' object has no attribute 'b'"
     ]
    }
   ],
   "source": [
    "t.run2(1) # 에러발생"
   ]
  },
  {
   "cell_type": "markdown",
   "id": "alleged-shannon",
   "metadata": {},
   "source": [
    "### 2-3. 생성자"
   ]
  },
  {
   "cell_type": "code",
   "execution_count": 74,
   "id": "touched-hopkins",
   "metadata": {},
   "outputs": [],
   "source": [
    "class Car:\n",
    "    color = 'red'\n",
    "    category = 'sports car'\n",
    "\n",
    "    def drive(self):\n",
    "        print(\"I'm driving\")\n",
    "\n",
    "    def accel(self, speed_up, current_speed=10):\n",
    "        self.speed_up = speed_up\n",
    "        self.current_speed = current_speed + self.speed_up\n",
    "        print(\"speed up\", self.speed_up, \"driving at\", self.current_speed)"
   ]
  },
  {
   "cell_type": "code",
   "execution_count": 86,
   "id": "crude-customs",
   "metadata": {},
   "outputs": [
    {
     "data": {
      "text/plain": [
       "'yellow'"
      ]
     },
     "execution_count": 86,
     "metadata": {},
     "output_type": "execute_result"
    }
   ],
   "source": [
    "class Car2:\n",
    "    def __init__(self, color, category):\n",
    "        self.color = color\n",
    "        self.category = category\n",
    "\n",
    "    def drive(self):\n",
    "        print(\"I'm driving\")\n",
    "\n",
    "    def accel(self, speed_up, current_speed=10):\n",
    "        self.speed_up = speed_up\n",
    "        self.current_speed = current_speed + self.speed_up\n",
    "        print(\"speed up\", self.speed_up, \"driving at\", self.current_speed)\n",
    "        \n",
    "# 인스턴스 객체 선언\n",
    "car1 = Car()\n",
    "car2 = Car2('yellow', 'sedan')\n",
    "car2.color"
   ]
  },
  {
   "cell_type": "code",
   "execution_count": 85,
   "id": "parental-visit",
   "metadata": {},
   "outputs": [
    {
     "data": {
      "text/plain": [
       "'blue'"
      ]
     },
     "execution_count": 85,
     "metadata": {},
     "output_type": "execute_result"
    }
   ],
   "source": [
    "# 키워드 인자 지정\n",
    "class Car2:\n",
    "    def __init__(self, color='red', category='sprots car'):\n",
    "        self.color = color\n",
    "        self.category = category\n",
    "\n",
    "car3 = Car2('blue', 'sedan')\n",
    "car3.color"
   ]
  },
  {
   "cell_type": "markdown",
   "id": "hindu-ceramic",
   "metadata": {},
   "source": [
    "### 2-4. 클래스 변수와 인스턴스 변수"
   ]
  },
  {
   "cell_type": "code",
   "execution_count": 89,
   "id": "agreed-arnold",
   "metadata": {},
   "outputs": [
    {
     "name": "stdout",
     "output_type": "stream",
     "text": [
      "India red sports car\n",
      "India white sedan\n"
     ]
    }
   ],
   "source": [
    "class Car:\n",
    "    Manufacture = \"India\" # 클래스 변수(클래스 내 바로 선언, 모든 객체 내 같은 값 조회 가능)\n",
    "\n",
    "    def __init__(self, color, category='sedan'):\n",
    "        self.color = color # 인스턴스 변수(self로 선언된 변수, 새로운 값 할당 가능)\n",
    "        self.category = category\n",
    "        \n",
    "car1 = Car('red','sports car')\n",
    "car2 = Car('white')\n",
    "print(car1.Manufacture, car1.color, car1.category)\n",
    "print(car2.Manufacture, car2.color, car2.category)"
   ]
  },
  {
   "cell_type": "markdown",
   "id": "robust-england",
   "metadata": {},
   "source": [
    "## 3. Class 상속"
   ]
  },
  {
   "cell_type": "markdown",
   "id": "funny-reward",
   "metadata": {},
   "source": [
    "### 3-1. 상속"
   ]
  },
  {
   "cell_type": "code",
   "execution_count": 94,
   "id": "unlike-communications",
   "metadata": {},
   "outputs": [
    {
     "name": "stdout",
     "output_type": "stream",
     "text": [
      "I'm driving\n",
      "speed up 10 driving at 20\n"
     ]
    },
    {
     "data": {
      "text/plain": [
       "'Porsche'"
      ]
     },
     "execution_count": 94,
     "metadata": {},
     "output_type": "execute_result"
    }
   ],
   "source": [
    "# 새로운 클래스 선언 -> 클래스 상속 기능 이용\n",
    "class Car: # 부모 클래스, 서브 클래스(sub class), 베이스 클래스(base class)\n",
    "    Manufacture = \"India\"\n",
    "\n",
    "    def __init__(self, color='red', category='sedan'):\n",
    "        self.color = color\n",
    "        self.category = category\n",
    "\n",
    "    def drive(self):\n",
    "        print(\"I'm driving\")\n",
    "\n",
    "    def accel(self, speed_up, current_speed=10):\n",
    "        self.speed_up = speed_up\n",
    "        self.current_speed = current_speed + self.speed_up\n",
    "        print(\"speed up\", self.speed_up, \"driving at\", self.current_speed)\n",
    "\n",
    "# Car 클래스 그대로 적용\n",
    "class NewCar(Car): # 자식 클래스, 서브 클래스(sub class), 파생된 클래스(derived class)\n",
    "    pass\n",
    "\n",
    "car = NewCar()\n",
    "car.drive()\n",
    "car.accel(10)\n",
    "\n",
    "# Car 클래스에 새로운 속성 부여\n",
    "class NewCar(Car):\n",
    "    maker = 'Porsche'\n",
    "\n",
    "car = NewCar()\n",
    "car.maker"
   ]
  },
  {
   "cell_type": "markdown",
   "id": "collected-delight",
   "metadata": {},
   "source": [
    "### 3-2. 메소드 추가, 정의, 호출"
   ]
  },
  {
   "cell_type": "code",
   "execution_count": 99,
   "id": "dutch-passage",
   "metadata": {},
   "outputs": [
    {
     "name": "stdout",
     "output_type": "stream",
     "text": [
      "2020Y sports car\n"
     ]
    }
   ],
   "source": [
    "# 메소드 추가하기\n",
    "class NewCar(Car):\n",
    "    def fly(self):\n",
    "        print(\"I'm flying!! This is the new car!!\")\n",
    "        \n",
    "# 메소드 오버라이드\n",
    "class NewCar(Car):\n",
    "    def fly(self):\n",
    "        print(\"I'm flying!! This is the new car!!\")\n",
    "\n",
    "    def drive(self):\n",
    "        print(\"I'm driving and can fly\")\n",
    "        \n",
    "# 부모 메소드 호출하기\n",
    "class Car:\n",
    "    Manufacture = \"India\"\n",
    "\n",
    "    def __init__(self, color='red', category='sedan'):\n",
    "        self.color = color \n",
    "        self.category = '2020Y '+ category\n",
    "\n",
    "\n",
    "class NewCar(Car):\n",
    "    def __init__(self, color, category, maker):\n",
    "        super().__init__(color, category)\n",
    "        self.maker = maker\n",
    "\n",
    "newcar = NewCar('red','sports car', 'Kia')\n",
    "print(newcar.category)"
   ]
  },
  {
   "cell_type": "markdown",
   "id": "sunset-spiritual",
   "metadata": {},
   "source": [
    "## 4. n면체 주사위 만들기"
   ]
  },
  {
   "cell_type": "markdown",
   "id": "dress-angel",
   "metadata": {},
   "source": [
    "### 4-1. 함수 입력"
   ]
  },
  {
   "cell_type": "code",
   "execution_count": 100,
   "id": "naughty-warehouse",
   "metadata": {},
   "outputs": [],
   "source": [
    "def main():\n",
    "    n = get_inputs()\n",
    "    mydice = FunnyDice(n)\n",
    "    midice.throw()\n",
    "    print(\"행운의 숫자는? {}\".format(mydice.getvlal()))"
   ]
  },
  {
   "cell_type": "markdown",
   "id": "framed-receiver",
   "metadata": {},
   "source": [
    "### 4-2. 클래스 입력"
   ]
  },
  {
   "cell_type": "code",
   "execution_count": 115,
   "id": "revised-championship",
   "metadata": {},
   "outputs": [],
   "source": [
    "from random import randrange\n",
    "\n",
    "class FunnyDice:\n",
    "    def __init__(self, n=6):\n",
    "        self.n = int(n)\n",
    "        self.numbers = list(range(1, n+1))\n",
    "        self.index = randrange(0, self.n)\n",
    "        self.val = self.numbers[self.index]\n",
    "\n",
    "    def throw(self):\n",
    "        self.index = randrange(0, self.n)\n",
    "        self.val = self.numbers[self.index]\n",
    "\n",
    "    def getval(self):\n",
    "        return self.val\n",
    "\n",
    "    def setval(self, val):\n",
    "        if val <= self.n:\n",
    "            self.val = val\n",
    "        else:\n",
    "            msg = \"주사위에 없는 숫자입니다. 주사위는 1 ~ {0}까지 있습니다. \".format(self.n)\n",
    "            raise ValueError(msg)"
   ]
  },
  {
   "cell_type": "code",
   "execution_count": 119,
   "id": "injured-sullivan",
   "metadata": {},
   "outputs": [
    {
     "data": {
      "text/plain": [
       "4"
      ]
     },
     "execution_count": 119,
     "metadata": {},
     "output_type": "execute_result"
    }
   ],
   "source": [
    "lucknum = FunnyDice()\n",
    "lucknum.throw()\n",
    "lucknum.getval()"
   ]
  },
  {
   "cell_type": "code",
   "execution_count": null,
   "id": "distributed-investor",
   "metadata": {},
   "outputs": [],
   "source": [
    "from random import randrange\n",
    "\n",
    "class FunnyDice:\n",
    "    def __init__(self, n=6):\n",
    "        self.n = n\n",
    "        self.options = list(range(1, n+1))\n",
    "        self.index = randrange(0, self.n)\n",
    "        self.val = self.options[self.index]\n",
    "    \n",
    "    def throw(self):\n",
    "        self.index = randrange(0, self.n)\n",
    "        self.val = self.options[self.index]\n",
    "    \n",
    "    def getval(self):\n",
    "        return self.val\n",
    "    \n",
    "    def setval(self, val):\n",
    "        if val <= self.n:\n",
    "            self.val = val\n",
    "        else:\n",
    "            msg = \"주사위에 없는 숫자입니다. 주사위는 1 ~ {0}까지 있습니다. \".format(self.n)\n",
    "            raise ValueError(msg)\n",
    "\n",
    "def get_inputs():\n",
    "    n = int(input(\"주사위 면의 개수를 입력하세요: \"))\n",
    "    return n\n",
    "\n",
    "def main():\n",
    "    n = get_inputs()\n",
    "    mydice = FunnyDice(n)\n",
    "    mydice.throw()\n",
    "    print(\"행운의 숫자는? {0}\".format(mydice.getval()))\n",
    "\n",
    "if __name__ == '__main__':\n",
    "    main()"
   ]
  }
 ],
 "metadata": {
  "kernelspec": {
   "display_name": "Python 3",
   "language": "python",
   "name": "python3"
  },
  "language_info": {
   "codemirror_mode": {
    "name": "ipython",
    "version": 3
   },
   "file_extension": ".py",
   "mimetype": "text/x-python",
   "name": "python",
   "nbconvert_exporter": "python",
   "pygments_lexer": "ipython3",
   "version": "3.7.9"
  }
 },
 "nbformat": 4,
 "nbformat_minor": 5
}
