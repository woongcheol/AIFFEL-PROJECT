{
 "cells": [
  {
   "cell_type": "markdown",
   "id": "joined-apache",
   "metadata": {},
   "source": [
    "# Object Oriented Programming(OOP) & Class"
   ]
  },
  {
   "cell_type": "markdown",
   "id": "experienced-drain",
   "metadata": {},
   "source": [
    "## 1. 객체 지향 프로그래밍(OOP)이란?"
   ]
  },
  {
   "cell_type": "markdown",
   "id": "loving-chassis",
   "metadata": {},
   "source": [
    "### 1-1. 변수"
   ]
  },
  {
   "cell_type": "code",
   "execution_count": 27,
   "id": "eligible-psychiatry",
   "metadata": {},
   "outputs": [
    {
     "data": {
      "text/plain": [
       "6"
      ]
     },
     "execution_count": 27,
     "metadata": {},
     "output_type": "execute_result"
    }
   ],
   "source": [
    "myvar = 6 # 변수에 6을 할당 = 객체에 이름을 붙이는 것 = 진짜 객체를 변수명으로 참조할 수 있게 함\n",
    "myvar"
   ]
  },
  {
   "cell_type": "code",
   "execution_count": 22,
   "id": "placed-pioneer",
   "metadata": {},
   "outputs": [],
   "source": [
    "myword = 'dog' # 문자열 타입의 객체 생성('dog') -> myword라는 변수(객체)애 할당, 문자열 객체를 참조함"
   ]
  },
  {
   "cell_type": "code",
   "execution_count": 23,
   "id": "racial-shopping",
   "metadata": {},
   "outputs": [
    {
     "data": {
      "text/plain": [
       "'DOG'"
      ]
     },
     "execution_count": 23,
     "metadata": {},
     "output_type": "execute_result"
    }
   ],
   "source": [
    "myword.upper() # 문자열 클래스 upper() 메소드"
   ]
  },
  {
   "cell_type": "code",
   "execution_count": 24,
   "id": "optical-report",
   "metadata": {},
   "outputs": [
    {
     "data": {
      "text/plain": [
       "'DOG'"
      ]
     },
     "execution_count": 24,
     "metadata": {},
     "output_type": "execute_result"
    }
   ],
   "source": [
    "'dog'.upper() # 문자열 클래스 upper() 메소드"
   ]
  },
  {
   "cell_type": "code",
   "execution_count": 25,
   "id": "extended-floor",
   "metadata": {},
   "outputs": [
    {
     "data": {
      "text/plain": [
       "5"
      ]
     },
     "execution_count": 25,
     "metadata": {},
     "output_type": "execute_result"
    }
   ],
   "source": [
    "var = 5\n",
    "var"
   ]
  },
  {
   "cell_type": "code",
   "execution_count": 28,
   "id": "overall-smith",
   "metadata": {},
   "outputs": [
    {
     "name": "stdout",
     "output_type": "stream",
     "text": [
      "94298268599040 94298268599040\n"
     ]
    }
   ],
   "source": [
    "print(id(var), id(5)) # 파이썬 내장함수 id(), 객체 고유값(메모리 주소) 반환"
   ]
  },
  {
   "cell_type": "markdown",
   "id": "interesting-tribune",
   "metadata": {},
   "source": [
    "### 1-2. 얕은복사, 깊은 복사"
   ]
  },
  {
   "cell_type": "code",
   "execution_count": 29,
   "id": "dietary-injection",
   "metadata": {},
   "outputs": [
    {
     "data": {
      "text/plain": [
       "[1, 2]"
      ]
     },
     "execution_count": 29,
     "metadata": {},
     "output_type": "execute_result"
    }
   ],
   "source": [
    "mylist = [1,2]\n",
    "var = mylist\n",
    "var"
   ]
  },
  {
   "cell_type": "code",
   "execution_count": 30,
   "id": "sacred-reply",
   "metadata": {},
   "outputs": [
    {
     "name": "stdout",
     "output_type": "stream",
     "text": [
      "[1, 2, 4]\n"
     ]
    }
   ],
   "source": [
    "mylist.append(4) # append() 메소드 리스트 내 원소 4 추가\n",
    "print(mylist)"
   ]
  },
  {
   "cell_type": "code",
   "execution_count": 31,
   "id": "first-blame",
   "metadata": {},
   "outputs": [
    {
     "name": "stdout",
     "output_type": "stream",
     "text": [
      "[1, 2, 4]\n"
     ]
    }
   ],
   "source": [
    "print(var)"
   ]
  },
  {
   "cell_type": "code",
   "execution_count": 32,
   "id": "quantitative-lobby",
   "metadata": {},
   "outputs": [
    {
     "name": "stdout",
     "output_type": "stream",
     "text": [
      "140150691766176 140150691766176\n"
     ]
    }
   ],
   "source": [
    "print(id(mylist), id(var)) # 메모리 주소가 같음 -> 데이터 id만 복사하는 것을 얕은 복사"
   ]
  },
  {
   "cell_type": "markdown",
   "id": "elementary-police",
   "metadata": {},
   "source": [
    "### Summary\n",
    "- 파이썬은 객체 지향 프로그래밍으로써 모든 것이 객체로 구성\n",
    "- 객체는 상태인 속성은 변수로, 동작인 메소드는 함수로 구현"
   ]
  },
  {
   "cell_type": "markdown",
   "id": "organic-flavor",
   "metadata": {},
   "source": [
    "## 2. Class 기본 문법"
   ]
  },
  {
   "cell_type": "markdown",
   "id": "favorite-healing",
   "metadata": {},
   "source": [
    "### 2-1. Class 선언"
   ]
  },
  {
   "cell_type": "code",
   "execution_count": 43,
   "id": "spare-directory",
   "metadata": {},
   "outputs": [
    {
     "name": "stdout",
     "output_type": "stream",
     "text": [
      "94298296874064\n",
      "94298296874064\n",
      "140150691850128\n",
      "140150691848336\n",
      "<class 'type'>\n",
      "<class '__main__.Bus'>\n"
     ]
    }
   ],
   "source": [
    "class Bus: # type 유형의 객체 생성\n",
    "    pass\n",
    "\n",
    "class Bus(): # bus 타입의 객체 생성\n",
    "    pass\n",
    "\n",
    "# 여러번 호출해도 같은 값이 얻어진다.\n",
    "print(id(Bus))\n",
    "print(id(Bus))\n",
    "\n",
    "# 호출될 때마다 다른 값이 얻어진다.\n",
    "print(id(Bus()))\n",
    "print(id(Bus()))\n",
    "\n",
    "# type 비교\n",
    "print(type(Bus))\n",
    "print(type(Bus()))"
   ]
  },
  {
   "cell_type": "code",
   "execution_count": 51,
   "id": "inclusive-treasurer",
   "metadata": {},
   "outputs": [
    {
     "name": "stdout",
     "output_type": "stream",
     "text": [
      "140150691347024\n",
      "140150691346960\n"
     ]
    }
   ],
   "source": [
    "myBus = Bus()\n",
    "myBus2 = Bus()\n",
    "print(id(myBus))\n",
    "print(id(myBus2))"
   ]
  },
  {
   "cell_type": "code",
   "execution_count": null,
   "id": "special-prairie",
   "metadata": {},
   "outputs": [],
   "source": []
  },
  {
   "cell_type": "markdown",
   "id": "moderate-african",
   "metadata": {},
   "source": [
    "## 3. OOP 프로그래밍의 목적"
   ]
  },
  {
   "cell_type": "code",
   "execution_count": null,
   "id": "functioning-creativity",
   "metadata": {},
   "outputs": [],
   "source": []
  },
  {
   "cell_type": "markdown",
   "id": "unlikely-creek",
   "metadata": {},
   "source": [
    "## 4. Class(상속)"
   ]
  },
  {
   "cell_type": "code",
   "execution_count": null,
   "id": "harmful-rental",
   "metadata": {},
   "outputs": [],
   "source": []
  },
  {
   "cell_type": "markdown",
   "id": "acting-swimming",
   "metadata": {},
   "source": [
    "## 5. n면체 주사위 만들기"
   ]
  },
  {
   "cell_type": "code",
   "execution_count": null,
   "id": "chemical-cathedral",
   "metadata": {},
   "outputs": [],
   "source": []
  }
 ],
 "metadata": {
  "kernelspec": {
   "display_name": "Python 3",
   "language": "python",
   "name": "python3"
  },
  "language_info": {
   "codemirror_mode": {
    "name": "ipython",
    "version": 3
   },
   "file_extension": ".py",
   "mimetype": "text/x-python",
   "name": "python",
   "nbconvert_exporter": "python",
   "pygments_lexer": "ipython3",
   "version": "3.7.9"
  }
 },
 "nbformat": 4,
 "nbformat_minor": 5
}
