{
 "cells": [
  {
   "cell_type": "markdown",
   "id": "divine-somalia",
   "metadata": {},
   "source": [
    "# F32_Information_Theory\n",
    "## 1. Information Content"
   ]
  },
  {
   "cell_type": "code",
   "execution_count": 43,
   "id": "twenty-struggle",
   "metadata": {},
   "outputs": [
    {
     "name": "stdout",
     "output_type": "stream",
     "text": [
      "number of blue samples: 252\n",
      "information content: 5.53338948872752\n"
     ]
    }
   ],
   "source": [
    "import numpy as np\n",
    "import math\n",
    "import random\n",
    "\n",
    "# 주머니 속 공의 개수\n",
    "total = 1000\n",
    "\n",
    "# 실험 종료 전까지 꺼낸 공 개수\n",
    "count = 1  \n",
    "\n",
    "# 1부터 total 정수 중 하나 뽑고 total과 같으면 실험 종료\n",
    "# total=1000인 경우 1~999: blue / 1000: red\n",
    "while True:\n",
    "    sample = random.randrange(1,total+1)\n",
    "    if sample == total:\n",
    "        break\n",
    "    count += 1\n",
    "\n",
    "print('number of blue samples: '+str(count-1))\n",
    "print('information content: '+str(-math.log(1/count)))"
   ]
  },
  {
   "cell_type": "markdown",
   "id": "interim-pressure",
   "metadata": {},
   "source": [
    "## 2. Cross Entropy Loss"
   ]
  },
  {
   "cell_type": "code",
   "execution_count": 44,
   "id": "parental-liberal",
   "metadata": {},
   "outputs": [
    {
     "name": "stdout",
     "output_type": "stream",
     "text": [
      "[0.046      0.073      0.036      0.84519882]\n"
     ]
    }
   ],
   "source": [
    "import numpy as np\n",
    "import random\n",
    "\n",
    "# generate random output\n",
    "#-----------------#\n",
    "# can be modified\n",
    "class_num = 4\n",
    "#-----------------#\n",
    "q_vector = []\n",
    "total = 1\n",
    "\n",
    "for i in range(class_num-1):\n",
    "    q = random.uniform(0,total)\n",
    "    q_vector.append(round(q,3))\n",
    "    total = total - q\n",
    "\n",
    "q_vector.append(total)\n",
    "softmax_output = np.array(q_vector)\n",
    "\n",
    "print(softmax_output)"
   ]
  },
  {
   "cell_type": "code",
   "execution_count": 45,
   "id": "skilled-candle",
   "metadata": {},
   "outputs": [
    {
     "name": "stdout",
     "output_type": "stream",
     "text": [
      "model prediction: [0.046      0.073      0.036      0.84519882]\n",
      "data label: [1. 0. 0. 0.]\n",
      "cross entropy: 3.0791\n"
     ]
    }
   ],
   "source": [
    "#-----------------#\n",
    "# can be modified\n",
    "class_index = 1\n",
    "#-----------------#\n",
    "\n",
    "p_vector = np.zeros(class_num)\n",
    "p_vector[class_index-1] = 1\n",
    "\n",
    "cross_entropy = -np.sum(np.multiply(p_vector, np.log(softmax_output)))\n",
    "\n",
    "print('model prediction: '+str(softmax_output))\n",
    "print('data label: '+str(p_vector))\n",
    "print('cross entropy: '+str(round(cross_entropy,4)))"
   ]
  },
  {
   "cell_type": "markdown",
   "id": "double-measure",
   "metadata": {},
   "source": [
    "## 3. Decision Tree와 Entropy"
   ]
  },
  {
   "cell_type": "code",
   "execution_count": null,
   "id": "touched-inclusion",
   "metadata": {},
   "outputs": [],
   "source": []
  }
 ],
 "metadata": {
  "kernelspec": {
   "display_name": "Python 3",
   "language": "python",
   "name": "python3"
  },
  "language_info": {
   "codemirror_mode": {
    "name": "ipython",
    "version": 3
   },
   "file_extension": ".py",
   "mimetype": "text/x-python",
   "name": "python",
   "nbconvert_exporter": "python",
   "pygments_lexer": "ipython3",
   "version": "3.7.9"
  }
 },
 "nbformat": 4,
 "nbformat_minor": 5
}
