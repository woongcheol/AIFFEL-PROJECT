{
 "cells": [
  {
   "cell_type": "markdown",
   "id": "smoking-secondary",
   "metadata": {},
   "source": [
    "# E10. Text Summarization\n",
    "## 1. 데이터 및 패키지 불러오기"
   ]
  },
  {
   "cell_type": "code",
   "execution_count": 10,
   "id": "funny-quantity",
   "metadata": {},
   "outputs": [
    {
     "name": "stderr",
     "output_type": "stream",
     "text": [
      "[nltk_data] Downloading package stopwords to /aiffel/nltk_data...\n",
      "[nltk_data]   Unzipping corpora/stopwords.zip.\n"
     ]
    },
    {
     "name": "stdout",
     "output_type": "stream",
     "text": [
      "=3\n"
     ]
    }
   ],
   "source": [
    "import nltk\n",
    "nltk.download('stopwords')\n",
    "\n",
    "import numpy as np\n",
    "import pandas as pd\n",
    "import os\n",
    "import re\n",
    "import matplotlib.pyplot as plt\n",
    "from nltk.corpus import stopwords\n",
    "from bs4 import BeautifulSoup \n",
    "from tensorflow.keras.preprocessing.text import Tokenizer \n",
    "from tensorflow.keras.preprocessing.sequence import pad_sequences\n",
    "import urllib.request\n",
    "\n",
    "print('=3')"
   ]
  },
  {
   "cell_type": "code",
   "execution_count": 3,
   "id": "visible-aquarium",
   "metadata": {},
   "outputs": [],
   "source": [
    "# 뉴스 기사 데이터\n",
    "import urllib.request\n",
    "urllib.request.urlretrieve(\"https://raw.githubusercontent.com/sunnysai12345/News_Summary/master/news_summary_more.csv\", filename=\"news_summary_more.csv\")\n",
    "data = pd.read_csv('news_summary_more.csv', encoding='iso-8859-1')"
   ]
  },
  {
   "cell_type": "code",
   "execution_count": 4,
   "id": "lyric-cocktail",
   "metadata": {},
   "outputs": [
    {
     "data": {
      "text/html": [
       "<div>\n",
       "<style scoped>\n",
       "    .dataframe tbody tr th:only-of-type {\n",
       "        vertical-align: middle;\n",
       "    }\n",
       "\n",
       "    .dataframe tbody tr th {\n",
       "        vertical-align: top;\n",
       "    }\n",
       "\n",
       "    .dataframe thead th {\n",
       "        text-align: right;\n",
       "    }\n",
       "</style>\n",
       "<table border=\"1\" class=\"dataframe\">\n",
       "  <thead>\n",
       "    <tr style=\"text-align: right;\">\n",
       "      <th></th>\n",
       "      <th>headlines</th>\n",
       "      <th>text</th>\n",
       "    </tr>\n",
       "  </thead>\n",
       "  <tbody>\n",
       "    <tr>\n",
       "      <th>7838</th>\n",
       "      <td>Drones are no worse than cameraman: UK wildlif...</td>\n",
       "      <td>British wildlife photographer Will Burrard-Luc...</td>\n",
       "    </tr>\n",
       "    <tr>\n",
       "      <th>11276</th>\n",
       "      <td>Jaidev withdraws opposition to late father Bal...</td>\n",
       "      <td>Jaidev Thackeray, the son of late Shiv Sena fo...</td>\n",
       "    </tr>\n",
       "    <tr>\n",
       "      <th>41581</th>\n",
       "      <td>I-T Dept publicly names defaulters owing Ã¢ÂÂ...</td>\n",
       "      <td>The Income Tax Department has released a pan-I...</td>\n",
       "    </tr>\n",
       "    <tr>\n",
       "      <th>72350</th>\n",
       "      <td>Ajay Devgn, Emraan Hashmi's 'Baadshaho' hits t...</td>\n",
       "      <td>The Ajay Devgn and Emraan Hashmi starrer 'Baad...</td>\n",
       "    </tr>\n",
       "    <tr>\n",
       "      <th>43658</th>\n",
       "      <td>'Padmaavat' earns Ã¢ÂÂ¹300 crore within 50 da...</td>\n",
       "      <td>Deepika Padukone, Ranveer Singh and Shahid Kap...</td>\n",
       "    </tr>\n",
       "    <tr>\n",
       "      <th>44939</th>\n",
       "      <td>Lenin was a terrorist, why have his statue in ...</td>\n",
       "      <td>After a statue of Russian communist revolution...</td>\n",
       "    </tr>\n",
       "    <tr>\n",
       "      <th>24766</th>\n",
       "      <td>'I am German when we win, an immigrant when we...</td>\n",
       "      <td>German midfielder Mesut ÃÂzil, who retired f...</td>\n",
       "    </tr>\n",
       "    <tr>\n",
       "      <th>58697</th>\n",
       "      <td>NZ PM asks Ed Sheeran if he'll wear jandals fo...</td>\n",
       "      <td>New Zealand's PM Jacinda Ardern has sent Briti...</td>\n",
       "    </tr>\n",
       "    <tr>\n",
       "      <th>55610</th>\n",
       "      <td>What were the worst passwords of 2017?</td>\n",
       "      <td>According to password managing firm SplashData...</td>\n",
       "    </tr>\n",
       "    <tr>\n",
       "      <th>4765</th>\n",
       "      <td>UP man wanted in 2015 case escapes from court,...</td>\n",
       "      <td>A man named Satish, against whom a non-bailabl...</td>\n",
       "    </tr>\n",
       "  </tbody>\n",
       "</table>\n",
       "</div>"
      ],
      "text/plain": [
       "                                               headlines  \\\n",
       "7838   Drones are no worse than cameraman: UK wildlif...   \n",
       "11276  Jaidev withdraws opposition to late father Bal...   \n",
       "41581  I-T Dept publicly names defaulters owing Ã¢ÂÂ...   \n",
       "72350  Ajay Devgn, Emraan Hashmi's 'Baadshaho' hits t...   \n",
       "43658  'Padmaavat' earns Ã¢ÂÂ¹300 crore within 50 da...   \n",
       "44939  Lenin was a terrorist, why have his statue in ...   \n",
       "24766  'I am German when we win, an immigrant when we...   \n",
       "58697  NZ PM asks Ed Sheeran if he'll wear jandals fo...   \n",
       "55610             What were the worst passwords of 2017?   \n",
       "4765   UP man wanted in 2015 case escapes from court,...   \n",
       "\n",
       "                                                    text  \n",
       "7838   British wildlife photographer Will Burrard-Luc...  \n",
       "11276  Jaidev Thackeray, the son of late Shiv Sena fo...  \n",
       "41581  The Income Tax Department has released a pan-I...  \n",
       "72350  The Ajay Devgn and Emraan Hashmi starrer 'Baad...  \n",
       "43658  Deepika Padukone, Ranveer Singh and Shahid Kap...  \n",
       "44939  After a statue of Russian communist revolution...  \n",
       "24766  German midfielder Mesut ÃÂzil, who retired f...  \n",
       "58697  New Zealand's PM Jacinda Ardern has sent Briti...  \n",
       "55610  According to password managing firm SplashData...  \n",
       "4765   A man named Satish, against whom a non-bailabl...  "
      ]
     },
     "execution_count": 4,
     "metadata": {},
     "output_type": "execute_result"
    }
   ],
   "source": [
    "data.sample(10)"
   ]
  },
  {
   "cell_type": "markdown",
   "id": "hungarian-insertion",
   "metadata": {},
   "source": [
    "## 2. 데이터 전처리\n",
    "### 2-1. 데이터 정리"
   ]
  },
  {
   "cell_type": "code",
   "execution_count": 5,
   "id": "rising-anime",
   "metadata": {},
   "outputs": [
    {
     "name": "stdout",
     "output_type": "stream",
     "text": [
      "text 열에서 중복을 배제한 유일한 샘플의 수 : 98360\n",
      "headlines 열에서 중복을 배제한 유일한 샘플의 수 : 98280\n"
     ]
    }
   ],
   "source": [
    "print('text 열에서 중복을 배제한 유일한 샘플의 수 :', data['text'].nunique())\n",
    "print('headlines 열에서 중복을 배제한 유일한 샘플의 수 :', data['headlines'].nunique())"
   ]
  },
  {
   "cell_type": "code",
   "execution_count": 6,
   "id": "funded-bargain",
   "metadata": {},
   "outputs": [
    {
     "name": "stdout",
     "output_type": "stream",
     "text": [
      "전체 샘플수 : 98360\n"
     ]
    }
   ],
   "source": [
    "# inplace=True 를 설정하면 DataFrame 타입 값을 return 하지 않고 data 내부를 직접적으로 바꿉니다\n",
    "data.drop_duplicates(subset = ['text'], inplace=True)\n",
    "print('전체 샘플수 :', (len(data)))"
   ]
  },
  {
   "cell_type": "code",
   "execution_count": 7,
   "id": "fixed-motorcycle",
   "metadata": {},
   "outputs": [
    {
     "name": "stdout",
     "output_type": "stream",
     "text": [
      "headlines    0\n",
      "text         0\n",
      "dtype: int64\n"
     ]
    }
   ],
   "source": [
    "print(data.isnull().sum())"
   ]
  },
  {
   "cell_type": "code",
   "execution_count": 9,
   "id": "invisible-return",
   "metadata": {},
   "outputs": [
    {
     "name": "stdout",
     "output_type": "stream",
     "text": [
      "정규화 사전의 수:  120\n"
     ]
    }
   ],
   "source": [
    "# 정규화 사전\n",
    "contractions = {\"ain't\": \"is not\", \"aren't\": \"are not\",\"can't\": \"cannot\", \"'cause\": \"because\", \"could've\": \"could have\", \"couldn't\": \"could not\",\n",
    "                           \"didn't\": \"did not\",  \"doesn't\": \"does not\", \"don't\": \"do not\", \"hadn't\": \"had not\", \"hasn't\": \"has not\", \"haven't\": \"have not\",\n",
    "                           \"he'd\": \"he would\",\"he'll\": \"he will\", \"he's\": \"he is\", \"how'd\": \"how did\", \"how'd'y\": \"how do you\", \"how'll\": \"how will\", \"how's\": \"how is\",\n",
    "                           \"I'd\": \"I would\", \"I'd've\": \"I would have\", \"I'll\": \"I will\", \"I'll've\": \"I will have\",\"I'm\": \"I am\", \"I've\": \"I have\", \"i'd\": \"i would\",\n",
    "                           \"i'd've\": \"i would have\", \"i'll\": \"i will\",  \"i'll've\": \"i will have\",\"i'm\": \"i am\", \"i've\": \"i have\", \"isn't\": \"is not\", \"it'd\": \"it would\",\n",
    "                           \"it'd've\": \"it would have\", \"it'll\": \"it will\", \"it'll've\": \"it will have\",\"it's\": \"it is\", \"let's\": \"let us\", \"ma'am\": \"madam\",\n",
    "                           \"mayn't\": \"may not\", \"might've\": \"might have\",\"mightn't\": \"might not\",\"mightn't've\": \"might not have\", \"must've\": \"must have\",\n",
    "                           \"mustn't\": \"must not\", \"mustn't've\": \"must not have\", \"needn't\": \"need not\", \"needn't've\": \"need not have\",\"o'clock\": \"of the clock\",\n",
    "                           \"oughtn't\": \"ought not\", \"oughtn't've\": \"ought not have\", \"shan't\": \"shall not\", \"sha'n't\": \"shall not\", \"shan't've\": \"shall not have\",\n",
    "                           \"she'd\": \"she would\", \"she'd've\": \"she would have\", \"she'll\": \"she will\", \"she'll've\": \"she will have\", \"she's\": \"she is\",\n",
    "                           \"should've\": \"should have\", \"shouldn't\": \"should not\", \"shouldn't've\": \"should not have\", \"so've\": \"so have\",\"so's\": \"so as\",\n",
    "                           \"this's\": \"this is\",\"that'd\": \"that would\", \"that'd've\": \"that would have\", \"that's\": \"that is\", \"there'd\": \"there would\",\n",
    "                           \"there'd've\": \"there would have\", \"there's\": \"there is\", \"here's\": \"here is\",\"they'd\": \"they would\", \"they'd've\": \"they would have\",\n",
    "                           \"they'll\": \"they will\", \"they'll've\": \"they will have\", \"they're\": \"they are\", \"they've\": \"they have\", \"to've\": \"to have\",\n",
    "                           \"wasn't\": \"was not\", \"we'd\": \"we would\", \"we'd've\": \"we would have\", \"we'll\": \"we will\", \"we'll've\": \"we will have\", \"we're\": \"we are\",\n",
    "                           \"we've\": \"we have\", \"weren't\": \"were not\", \"what'll\": \"what will\", \"what'll've\": \"what will have\", \"what're\": \"what are\",\n",
    "                           \"what's\": \"what is\", \"what've\": \"what have\", \"when's\": \"when is\", \"when've\": \"when have\", \"where'd\": \"where did\", \"where's\": \"where is\",\n",
    "                           \"where've\": \"where have\", \"who'll\": \"who will\", \"who'll've\": \"who will have\", \"who's\": \"who is\", \"who've\": \"who have\",\n",
    "                           \"why's\": \"why is\", \"why've\": \"why have\", \"will've\": \"will have\", \"won't\": \"will not\", \"won't've\": \"will not have\",\n",
    "                           \"would've\": \"would have\", \"wouldn't\": \"would not\", \"wouldn't've\": \"would not have\", \"y'all\": \"you all\",\n",
    "                           \"y'all'd\": \"you all would\",\"y'all'd've\": \"you all would have\",\"y'all're\": \"you all are\",\"y'all've\": \"you all have\",\n",
    "                           \"you'd\": \"you would\", \"you'd've\": \"you would have\", \"you'll\": \"you will\", \"you'll've\": \"you will have\",\n",
    "                           \"you're\": \"you are\", \"you've\": \"you have\"}\n",
    "\n",
    "print(\"정규화 사전의 수: \", len(contractions))"
   ]
  },
  {
   "cell_type": "code",
   "execution_count": 12,
   "id": "nearby-gamma",
   "metadata": {},
   "outputs": [
    {
     "name": "stdout",
     "output_type": "stream",
     "text": [
      "불용어 개수 : 179\n",
      "['i', 'me', 'my', 'myself', 'we', 'our', 'ours', 'ourselves', 'you', \"you're\", \"you've\", \"you'll\", \"you'd\", 'your', 'yours', 'yourself', 'yourselves', 'he', 'him', 'his', 'himself', 'she', \"she's\", 'her', 'hers', 'herself', 'it', \"it's\", 'its', 'itself', 'they', 'them', 'their', 'theirs', 'themselves', 'what', 'which', 'who', 'whom', 'this', 'that', \"that'll\", 'these', 'those', 'am', 'is', 'are', 'was', 'were', 'be', 'been', 'being', 'have', 'has', 'had', 'having', 'do', 'does', 'did', 'doing', 'a', 'an', 'the', 'and', 'but', 'if', 'or', 'because', 'as', 'until', 'while', 'of', 'at', 'by', 'for', 'with', 'about', 'against', 'between', 'into', 'through', 'during', 'before', 'after', 'above', 'below', 'to', 'from', 'up', 'down', 'in', 'out', 'on', 'off', 'over', 'under', 'again', 'further', 'then', 'once', 'here', 'there', 'when', 'where', 'why', 'how', 'all', 'any', 'both', 'each', 'few', 'more', 'most', 'other', 'some', 'such', 'no', 'nor', 'not', 'only', 'own', 'same', 'so', 'than', 'too', 'very', 's', 't', 'can', 'will', 'just', 'don', \"don't\", 'should', \"should've\", 'now', 'd', 'll', 'm', 'o', 're', 've', 'y', 'ain', 'aren', \"aren't\", 'couldn', \"couldn't\", 'didn', \"didn't\", 'doesn', \"doesn't\", 'hadn', \"hadn't\", 'hasn', \"hasn't\", 'haven', \"haven't\", 'isn', \"isn't\", 'ma', 'mightn', \"mightn't\", 'mustn', \"mustn't\", 'needn', \"needn't\", 'shan', \"shan't\", 'shouldn', \"shouldn't\", 'wasn', \"wasn't\", 'weren', \"weren't\", 'won', \"won't\", 'wouldn', \"wouldn't\"]\n"
     ]
    }
   ],
   "source": [
    "# 불용어 개수 확인\n",
    "print('불용어 개수 :', len(stopwords.words('english') ))\n",
    "print(stopwords.words('english'))"
   ]
  },
  {
   "cell_type": "code",
   "execution_count": 13,
   "id": "christian-poker",
   "metadata": {},
   "outputs": [],
   "source": [
    "# 데이터 전처리 함수\n",
    "def preprocess_sentence(sentence, remove_stopwords=True):\n",
    "    sentence = sentence.lower() # 텍스트 소문자화\n",
    "    sentence = BeautifulSoup(sentence, \"lxml\").text # <br />, <a href = ...> 등의 html 태그 제거\n",
    "    sentence = re.sub(r'\\([^)]*\\)', '', sentence) # 괄호로 닫힌 문자열 (...) 제거 Ex) my husband (and myself!) for => my husband for\n",
    "    sentence = re.sub('\"','', sentence) # 쌍따옴표 \" 제거\n",
    "    sentence = ' '.join([contractions[t] if t in contractions else t for t in sentence.split(\" \")]) # 약어 정규화\n",
    "    sentence = re.sub(r\"'s\\b\",\"\", sentence) # 소유격 제거. Ex) roland's -> roland\n",
    "    sentence = re.sub(\"[^a-zA-Z]\", \" \", sentence) # 영어 외 문자(숫자, 특수문자 등) 공백으로 변환\n",
    "    sentence = re.sub('[m]{2,}', 'mm', sentence) # m이 3개 이상이면 2개로 변경. Ex) ummmmmmm yeah -> umm yeah\n",
    "    \n",
    "    # 불용어 제거 (Text)\n",
    "    if remove_stopwords:\n",
    "        tokens = ' '.join(word for word in sentence.split() if not word in stopwords.words('english') if len(word) > 1)\n",
    "    # 불용어 미제거 (Headlines)\n",
    "    else:\n",
    "        tokens = ' '.join(word for word in sentence.split() if len(word) > 1)\n",
    "    return tokens"
   ]
  },
  {
   "cell_type": "code",
   "execution_count": 15,
   "id": "blond-snowboard",
   "metadata": {},
   "outputs": [
    {
     "name": "stdout",
     "output_type": "stream",
     "text": [
      "everything bought great infact ordered twice third ordered wasfor mother father\n",
      "great way to start the day\n"
     ]
    }
   ],
   "source": [
    "temp_text = 'Everything I bought was great, infact I ordered twice and the third ordered was<br />for my mother and father.'\n",
    "temp_headlines = 'Great way to start (or finish) the day!!!'\n",
    "\n",
    "print(preprocess_sentence(temp_text))\n",
    "print(preprocess_sentence(temp_headlines, False))  # 불용어를 제거하지 않습니다."
   ]
  },
  {
   "cell_type": "code",
   "execution_count": 18,
   "id": "binary-tulsa",
   "metadata": {},
   "outputs": [
    {
     "name": "stdout",
     "output_type": "stream",
     "text": [
      "178.53968477249146  seconds\n",
      "['saurav kant alumnus upgrad iiit pg program machine learning artificial intelligence sr systems engineer infosys almost years work experience program upgrad degree career support helped transition data scientist tech mahindra salary hike upgrad online power learning powered lakh careers'\n",
      " 'kunal shah credit card bill payment platform cred gave users chance win free food swiggy one year pranav kaushik delhi techie bagged reward spending cred coins users get one cred coin per rupee bill paid used avail rewards brands like ixigo bookmyshow ubereats cult fit'\n",
      " 'new zealand defeated india wickets fourth odi hamilton thursday win first match five match odi series india lost international match rohit sharma captaincy consecutive victories dating back march match witnessed india getting seventh lowest total odi cricket history'\n",
      " ...\n",
      " 'according reports new version science fiction film matrix development michael jordan reportedly play lead role film screenwriter zak penn talks write script film reports added actor keanu reeves starred original film followed two sequels'\n",
      " 'new music video shows rapper snoop dogg aiming toy gun clown character parodying us president donald trump video also shows tv airing news conference headline ronald klump wants deport doggs airing live clown house video remixed version song lavender'\n",
      " 'madhesi morcha alliance seven political parties withdrawn support pm pushpa kamal dahal led nepal government failed meet seven day ultimatum fulfil demands including endorsement revised constitution amendment bill morcha seats parliament despite withdrawal support immediate threat government']\n",
      "5.773554563522339  seconds\n",
      "['upgrad learner switches to career in ml al with salary hike'\n",
      " 'delhi techie wins free food from swiggy for one year on cred'\n",
      " 'new zealand end rohit sharma led india match winning streak' ...\n",
      " 'the matrix film to get reboot reports'\n",
      " 'snoop dogg aims gun at clown dressed as trump in new video'\n",
      " 'madhesi morcha withdraws support to nepalese government']\n"
     ]
    }
   ],
   "source": [
    "import multiprocessing as mp   # 멀티 프로세싱으로 전처리 속도를 획기적으로 줄여봅시다\n",
    "from multiprocessing import Pool\n",
    "import numpy as np\n",
    "import time\n",
    "from functools import partial  # map을 할 때 함수에 여러 인자를 넣어줄 수 있도록 합니다\n",
    "\n",
    "start = time.time()\n",
    "\n",
    "# num_cores 만큼 쪼개진 데이터를 전처리하여 반환합니다\n",
    "def appendTexts(sentences, remove_stopwords):\n",
    "  texts = []\n",
    "  for s in sentences:\n",
    "    texts += preprocess_sentence(s, remove_stopwords),\n",
    "  return texts\n",
    "\n",
    "def preprocess_data(data, remove_stopwords=True):\n",
    "  start_time = time.time()\n",
    "  num_cores = mp.cpu_count()  # 컴퓨터의 코어 수를 구합니다\n",
    "\n",
    "  text_data_split = np.array_split(data, num_cores)  # 코어 수만큼 데이터를 배분하여 병렬적으로 처리할 수 있게 합니다\n",
    "  pool = Pool(num_cores)\n",
    "\n",
    "  processed_data = np.concatenate(pool.map(partial(appendTexts, remove_stopwords=remove_stopwords), text_data_split))  # 각자 작업한 데이터를 하나로 합쳐줍니다\n",
    "  pool.close()\n",
    "  pool.join()\n",
    "  print(time.time() - start_time, \" seconds\")\n",
    "  return processed_data\n",
    "\n",
    "clean_text = preprocess_data(data['text'])  # 클라우드 기준으로 3~4분 정도 소요 됩니다\n",
    "print(clean_text)\n",
    "\n",
    "clean_headlines = preprocess_data(data['headlines'], remove_stopwords=False) # 클라우드 기준 1분정도 소요됩니다.\n",
    "print(clean_headlines)"
   ]
  },
  {
   "cell_type": "code",
   "execution_count": 23,
   "id": "czech-omega",
   "metadata": {},
   "outputs": [
    {
     "data": {
      "text/plain": [
       "headlines    0\n",
       "text         0\n",
       "dtype: int64"
      ]
     },
     "execution_count": 23,
     "metadata": {},
     "output_type": "execute_result"
    }
   ],
   "source": [
    "data.isnull().sum()"
   ]
  },
  {
   "cell_type": "code",
   "execution_count": 24,
   "id": "unlike-projector",
   "metadata": {},
   "outputs": [
    {
     "name": "stdout",
     "output_type": "stream",
     "text": [
      "전체 샘플수 : 98360\n"
     ]
    }
   ],
   "source": [
    "data.dropna(axis=0, inplace=True)\n",
    "print('전체 샘플수 :', (len(data)))"
   ]
  },
  {
   "cell_type": "markdown",
   "id": "central-lingerie",
   "metadata": {},
   "source": [
    "### 2-2. 훈련 데이터 및 테스트 데이터 나누기"
   ]
  },
  {
   "cell_type": "code",
   "execution_count": 25,
   "id": "caring-moisture",
   "metadata": {},
   "outputs": [
    {
     "name": "stdout",
     "output_type": "stream",
     "text": [
      "텍스트의 최소 길이 : 1\n",
      "텍스트의 최대 길이 : 60\n",
      "텍스트의 평균 길이 : 35.09968483123221\n",
      "요약의 최소 길이 : 1\n",
      "요약의 최대 길이 : 16\n",
      "요약의 평균 길이 : 9.299532330215534\n"
     ]
    },
    {
     "data": {
      "image/png": "[encoded data removed]",
      "text/plain": [
       "<Figure size 432x288 with 2 Axes>"
      ]
     },
     "metadata": {
      "needs_background": "light"
     },
     "output_type": "display_data"
    },
    {
     "data": {
      "image/png": "[encoded data removed]",
      "text/plain": [
       "<Figure size 432x288 with 1 Axes>"
      ]
     },
     "metadata": {
      "needs_background": "light"
     },
     "output_type": "display_data"
    },
    {
     "data": {
      "image/png": "[encoded data removed]",
      "text/plain": [
       "<Figure size 432x288 with 1 Axes>"
      ]
     },
     "metadata": {
      "needs_background": "light"
     },
     "output_type": "display_data"
    }
   ],
   "source": [
    "# 길이 분포 출력\n",
    "import matplotlib.pyplot as plt\n",
    "\n",
    "text_len = [len(s.split()) for s in data['text']]\n",
    "headlines_len = [len(s.split()) for s in data['headlines']]\n",
    "\n",
    "print('텍스트의 최소 길이 : {}'.format(np.min(text_len)))\n",
    "print('텍스트의 최대 길이 : {}'.format(np.max(text_len)))\n",
    "print('텍스트의 평균 길이 : {}'.format(np.mean(text_len)))\n",
    "print('요약의 최소 길이 : {}'.format(np.min(headlines_len)))\n",
    "print('요약의 최대 길이 : {}'.format(np.max(headlines_len)))\n",
    "print('요약의 평균 길이 : {}'.format(np.mean(headlines_len)))\n",
    "\n",
    "plt.subplot(1,2,1)\n",
    "plt.boxplot(headlines_len)\n",
    "plt.title('Headlines')\n",
    "plt.subplot(1,2,2)\n",
    "plt.boxplot(text_len)\n",
    "plt.title('Text')\n",
    "plt.tight_layout()\n",
    "plt.show()\n",
    "\n",
    "plt.title('Headlines')\n",
    "plt.hist(headlines_len, bins = 40)\n",
    "plt.xlabel('length of samples')\n",
    "plt.ylabel('number of samples')\n",
    "plt.show()\n",
    "\n",
    "plt.title('Text')\n",
    "plt.hist(text_len, bins = 40)\n",
    "plt.xlabel('length of samples')\n",
    "plt.ylabel('number of samples')\n",
    "plt.show()"
   ]
  },
  {
   "cell_type": "code",
   "execution_count": 27,
   "id": "silent-biotechnology",
   "metadata": {},
   "outputs": [],
   "source": [
    "text_max_len = 50\n",
    "headlines_max_len = 13"
   ]
  },
  {
   "cell_type": "code",
   "execution_count": 29,
   "id": "electoral-storage",
   "metadata": {},
   "outputs": [],
   "source": [
    "def below_threshold_len(max_len, nested_list):\n",
    "  cnt = 0\n",
    "  for s in nested_list:\n",
    "    if(len(s.split()) <= max_len):\n",
    "        cnt = cnt + 1\n",
    "  print('전체 샘플 중 길이가 %s 이하인 샘플의 비율: %s'%(max_len, (cnt / len(nested_list))))"
   ]
  },
  {
   "cell_type": "code",
   "execution_count": 30,
   "id": "twenty-script",
   "metadata": {},
   "outputs": [
    {
     "name": "stdout",
     "output_type": "stream",
     "text": [
      "전체 샘플 중 길이가 50 이하인 샘플의 비율: 0.9998576657177715\n",
      "전체 샘플 중 길이가 13 이하인 샘플의 비율: 0.9981699877999186\n"
     ]
    }
   ],
   "source": [
    "below_threshold_len(text_max_len, data['text'])\n",
    "below_threshold_len(headlines_max_len,  data['headlines'])"
   ]
  },
  {
   "cell_type": "code",
   "execution_count": 32,
   "id": "approved-increase",
   "metadata": {},
   "outputs": [
    {
     "name": "stdout",
     "output_type": "stream",
     "text": [
      "전체 샘플수 : 98166\n"
     ]
    }
   ],
   "source": [
    "data = data[data['text'].apply(lambda x: len(x.split()) <= text_max_len)]\n",
    "data = data[data['headlines'].apply(lambda x: len(x.split()) <= headlines_max_len)]\n",
    "print('전체 샘플수 :', (len(data))) "
   ]
  },
  {
   "cell_type": "code",
   "execution_count": 33,
   "id": "cross-acrylic",
   "metadata": {},
   "outputs": [
    {
     "data": {
      "text/html": [
       "<div>\n",
       "<style scoped>\n",
       "    .dataframe tbody tr th:only-of-type {\n",
       "        vertical-align: middle;\n",
       "    }\n",
       "\n",
       "    .dataframe tbody tr th {\n",
       "        vertical-align: top;\n",
       "    }\n",
       "\n",
       "    .dataframe thead th {\n",
       "        text-align: right;\n",
       "    }\n",
       "</style>\n",
       "<table border=\"1\" class=\"dataframe\">\n",
       "  <thead>\n",
       "    <tr style=\"text-align: right;\">\n",
       "      <th></th>\n",
       "      <th>headlines</th>\n",
       "      <th>text</th>\n",
       "      <th>decoder_input</th>\n",
       "      <th>decoder_target</th>\n",
       "    </tr>\n",
       "  </thead>\n",
       "  <tbody>\n",
       "    <tr>\n",
       "      <th>0</th>\n",
       "      <td>upgrad learner switches to career in ml al wit...</td>\n",
       "      <td>saurav kant alumnus upgrad iiit pg program mac...</td>\n",
       "      <td>sostoken upgrad learner switches to career in ...</td>\n",
       "      <td>upgrad learner switches to career in ml al wit...</td>\n",
       "    </tr>\n",
       "    <tr>\n",
       "      <th>1</th>\n",
       "      <td>delhi techie wins free food from swiggy for on...</td>\n",
       "      <td>kunal shah credit card bill payment platform c...</td>\n",
       "      <td>sostoken delhi techie wins free food from swig...</td>\n",
       "      <td>delhi techie wins free food from swiggy for on...</td>\n",
       "    </tr>\n",
       "    <tr>\n",
       "      <th>2</th>\n",
       "      <td>new zealand end rohit sharma led india match w...</td>\n",
       "      <td>new zealand defeated india wickets fourth odi ...</td>\n",
       "      <td>sostoken new zealand end rohit sharma led indi...</td>\n",
       "      <td>new zealand end rohit sharma led india match w...</td>\n",
       "    </tr>\n",
       "    <tr>\n",
       "      <th>3</th>\n",
       "      <td>aegon life iterm insurance plan helps customer...</td>\n",
       "      <td>aegon life iterm insurance plan customers enjo...</td>\n",
       "      <td>sostoken aegon life iterm insurance plan helps...</td>\n",
       "      <td>aegon life iterm insurance plan helps customer...</td>\n",
       "    </tr>\n",
       "    <tr>\n",
       "      <th>4</th>\n",
       "      <td>have known hirani for yrs what if metoo claims...</td>\n",
       "      <td>speaking sexual harassment allegations rajkuma...</td>\n",
       "      <td>sostoken have known hirani for yrs what if met...</td>\n",
       "      <td>have known hirani for yrs what if metoo claims...</td>\n",
       "    </tr>\n",
       "  </tbody>\n",
       "</table>\n",
       "</div>"
      ],
      "text/plain": [
       "                                           headlines  \\\n",
       "0  upgrad learner switches to career in ml al wit...   \n",
       "1  delhi techie wins free food from swiggy for on...   \n",
       "2  new zealand end rohit sharma led india match w...   \n",
       "3  aegon life iterm insurance plan helps customer...   \n",
       "4  have known hirani for yrs what if metoo claims...   \n",
       "\n",
       "                                                text  \\\n",
       "0  saurav kant alumnus upgrad iiit pg program mac...   \n",
       "1  kunal shah credit card bill payment platform c...   \n",
       "2  new zealand defeated india wickets fourth odi ...   \n",
       "3  aegon life iterm insurance plan customers enjo...   \n",
       "4  speaking sexual harassment allegations rajkuma...   \n",
       "\n",
       "                                       decoder_input  \\\n",
       "0  sostoken upgrad learner switches to career in ...   \n",
       "1  sostoken delhi techie wins free food from swig...   \n",
       "2  sostoken new zealand end rohit sharma led indi...   \n",
       "3  sostoken aegon life iterm insurance plan helps...   \n",
       "4  sostoken have known hirani for yrs what if met...   \n",
       "\n",
       "                                      decoder_target  \n",
       "0  upgrad learner switches to career in ml al wit...  \n",
       "1  delhi techie wins free food from swiggy for on...  \n",
       "2  new zealand end rohit sharma led india match w...  \n",
       "3  aegon life iterm insurance plan helps customer...  \n",
       "4  have known hirani for yrs what if metoo claims...  "
      ]
     },
     "execution_count": 33,
     "metadata": {},
     "output_type": "execute_result"
    }
   ],
   "source": [
    "# 요약 데이터에는 시작 토큰과 종료 토큰을 추가한다.\n",
    "data['decoder_input'] = data['headlines'].apply(lambda x : 'sostoken '+ x)\n",
    "data['decoder_target'] = data['headlines'].apply(lambda x : x + ' eostoken')\n",
    "data.head()"
   ]
  },
  {
   "cell_type": "code",
   "execution_count": 34,
   "id": "blessed-bangladesh",
   "metadata": {},
   "outputs": [],
   "source": [
    "encoder_input = np.array(data['text']) # 인코더의 입력\n",
    "decoder_input = np.array(data['decoder_input']) # 디코더의 입력\n",
    "decoder_target = np.array(data['decoder_target']) # 디코더의 레이블"
   ]
  },
  {
   "cell_type": "code",
   "execution_count": 35,
   "id": "demanding-exception",
   "metadata": {},
   "outputs": [
    {
     "name": "stdout",
     "output_type": "stream",
     "text": [
      "[10596  7506 64375 ... 50014 10014 27799]\n"
     ]
    }
   ],
   "source": [
    "indices = np.arange(encoder_input.shape[0])\n",
    "np.random.shuffle(indices)\n",
    "print(indices)"
   ]
  },
  {
   "cell_type": "code",
   "execution_count": 37,
   "id": "needed-custody",
   "metadata": {},
   "outputs": [],
   "source": [
    "encoder_input = encoder_input[indices]\n",
    "decoder_input = decoder_input[indices]\n",
    "decoder_target = decoder_target[indices]"
   ]
  },
  {
   "cell_type": "code",
   "execution_count": 38,
   "id": "acknowledged-creation",
   "metadata": {},
   "outputs": [
    {
     "name": "stdout",
     "output_type": "stream",
     "text": [
      "테스트 데이터의 수 : 19633\n"
     ]
    }
   ],
   "source": [
    "n_of_val = int(len(encoder_input)*0.2)\n",
    "print('테스트 데이터의 수 :', n_of_val)"
   ]
  },
  {
   "cell_type": "code",
   "execution_count": 39,
   "id": "variable-darkness",
   "metadata": {},
   "outputs": [
    {
     "name": "stdout",
     "output_type": "stream",
     "text": [
      "훈련 데이터의 개수 : 78533\n",
      "훈련 레이블의 개수 : 78533\n",
      "테스트 데이터의 개수 : 19633\n",
      "테스트 레이블의 개수 : 19633\n"
     ]
    }
   ],
   "source": [
    "encoder_input_train = encoder_input[:-n_of_val]\n",
    "decoder_input_train = decoder_input[:-n_of_val]\n",
    "decoder_target_train = decoder_target[:-n_of_val]\n",
    "\n",
    "encoder_input_test = encoder_input[-n_of_val:]\n",
    "decoder_input_test = decoder_input[-n_of_val:]\n",
    "decoder_target_test = decoder_target[-n_of_val:]\n",
    "\n",
    "print('훈련 데이터의 개수 :', len(encoder_input_train))\n",
    "print('훈련 레이블의 개수 :', len(decoder_input_train))\n",
    "print('테스트 데이터의 개수 :', len(encoder_input_test))\n",
    "print('테스트 레이블의 개수 :', len(decoder_input_test))"
   ]
  },
  {
   "cell_type": "markdown",
   "id": "ideal-galaxy",
   "metadata": {},
   "source": [
    "### 2-3. 정수 인코딩"
   ]
  },
  {
   "cell_type": "code",
   "execution_count": 40,
   "id": "strange-happening",
   "metadata": {},
   "outputs": [],
   "source": [
    "src_tokenizer = Tokenizer() # 토크나이저 정의\n",
    "src_tokenizer.fit_on_texts(encoder_input_train) # 입력된 데이터로부터 단어 집합 생성"
   ]
  },
  {
   "cell_type": "code",
   "execution_count": 41,
   "id": "infectious-yorkshire",
   "metadata": {},
   "outputs": [
    {
     "name": "stdout",
     "output_type": "stream",
     "text": [
      "단어 집합(vocabulary)의 크기 : 69656\n",
      "등장 빈도가 6번 이하인 희귀 단어의 수: 47469\n",
      "단어 집합에서 희귀 단어를 제외시킬 경우의 단어 집합의 크기 22187\n",
      "단어 집합에서 희귀 단어의 비율: 68.14775468014241\n",
      "전체 등장 빈도에서 희귀 단어 등장 빈도 비율: 3.48924489907717\n"
     ]
    }
   ],
   "source": [
    "threshold = 7\n",
    "total_cnt = len(src_tokenizer.word_index) # 단어의 수\n",
    "rare_cnt = 0 # 등장 빈도수가 threshold보다 작은 단어의 개수를 카운트\n",
    "total_freq = 0 # 훈련 데이터의 전체 단어 빈도수 총 합\n",
    "rare_freq = 0 # 등장 빈도수가 threshold보다 작은 단어의 등장 빈도수의 총 합\n",
    "\n",
    "# 단어와 빈도수의 쌍(pair)을 key와 value로 받는다.\n",
    "for key, value in src_tokenizer.word_counts.items():\n",
    "    total_freq = total_freq + value\n",
    "\n",
    "    # 단어의 등장 빈도수가 threshold보다 작으면\n",
    "    if(value < threshold):\n",
    "        rare_cnt = rare_cnt + 1\n",
    "        rare_freq = rare_freq + value\n",
    "\n",
    "print('단어 집합(vocabulary)의 크기 :', total_cnt)\n",
    "print('등장 빈도가 %s번 이하인 희귀 단어의 수: %s'%(threshold - 1, rare_cnt))\n",
    "print('단어 집합에서 희귀 단어를 제외시킬 경우의 단어 집합의 크기 %s'%(total_cnt - rare_cnt))\n",
    "print(\"단어 집합에서 희귀 단어의 비율:\", (rare_cnt / total_cnt)*100)\n",
    "print(\"전체 등장 빈도에서 희귀 단어 등장 빈도 비율:\", (rare_freq / total_freq)*100)"
   ]
  },
  {
   "cell_type": "code",
   "execution_count": 42,
   "id": "referenced-commercial",
   "metadata": {},
   "outputs": [],
   "source": [
    "src_vocab = 22000\n",
    "src_tokenizer = Tokenizer(num_words=src_vocab) # 단어 집합의 크기를 8,000으로 제한\n",
    "src_tokenizer.fit_on_texts(encoder_input_train) # 단어 집합 재생성."
   ]
  },
  {
   "cell_type": "code",
   "execution_count": 43,
   "id": "global-cinema",
   "metadata": {},
   "outputs": [
    {
     "name": "stdout",
     "output_type": "stream",
     "text": [
      "[[176, 621, 8956, 19428, 20672, 336, 32, 167, 2226, 942, 548, 69, 1, 424, 511, 815, 257, 533, 1, 23, 34, 1652, 19428, 2400, 40, 563, 1396, 19428, 6, 2008, 975, 621, 167, 1105, 927, 48, 494, 313, 7344, 32], [596, 967, 137, 12569, 1736, 118, 230, 13753, 1635, 20673, 11879, 7749, 95, 12569, 16, 10492, 4, 12569, 8510, 2209, 9446, 13754, 20674, 338, 1603, 13753, 20673, 2700, 416, 662, 12966, 13755, 8120, 11553], [3, 13, 37, 90, 84, 55, 4012, 608, 1292, 4981, 146, 37, 3090, 1719, 145, 225, 625, 11554, 1852, 66, 5542, 1056, 8, 45, 97, 39, 53, 4146, 1818, 66, 2015, 5982, 5032, 4577, 999, 8, 1]]\n"
     ]
    }
   ],
   "source": [
    "# 텍스트 시퀀스를 정수 시퀀스로 변환\n",
    "encoder_input_train = src_tokenizer.texts_to_sequences(encoder_input_train) \n",
    "encoder_input_test = src_tokenizer.texts_to_sequences(encoder_input_test)\n",
    "\n",
    "# 잘 진행되었는지 샘플 출력\n",
    "print(encoder_input_train[:3])"
   ]
  },
  {
   "cell_type": "code",
   "execution_count": 44,
   "id": "indian-democrat",
   "metadata": {},
   "outputs": [],
   "source": [
    "tar_tokenizer = Tokenizer()\n",
    "tar_tokenizer.fit_on_texts(decoder_input_train)"
   ]
  },
  {
   "cell_type": "code",
   "execution_count": 45,
   "id": "attractive-aluminum",
   "metadata": {},
   "outputs": [
    {
     "name": "stdout",
     "output_type": "stream",
     "text": [
      "단어 집합(vocabulary)의 크기 : 29987\n",
      "등장 빈도가 5번 이하인 희귀 단어의 수: 19563\n",
      "단어 집합에서 희귀 단어를 제외시킬 경우의 단어 집합의 크기 10424\n",
      "단어 집합에서 희귀 단어의 비율: 65.23826991696401\n",
      "전체 등장 빈도에서 희귀 단어 등장 빈도 비율: 4.643586285403185\n"
     ]
    }
   ],
   "source": [
    "threshold = 6\n",
    "total_cnt = len(tar_tokenizer.word_index) # 단어의 수\n",
    "rare_cnt = 0 # 등장 빈도수가 threshold보다 작은 단어의 개수를 카운트\n",
    "total_freq = 0 # 훈련 데이터의 전체 단어 빈도수 총 합\n",
    "rare_freq = 0 # 등장 빈도수가 threshold보다 작은 단어의 등장 빈도수의 총 합\n",
    "\n",
    "# 단어와 빈도수의 쌍(pair)을 key와 value로 받는다.\n",
    "for key, value in tar_tokenizer.word_counts.items():\n",
    "    total_freq = total_freq + value\n",
    "\n",
    "    # 단어의 등장 빈도수가 threshold보다 작으면\n",
    "    if(value < threshold):\n",
    "        rare_cnt = rare_cnt + 1\n",
    "        rare_freq = rare_freq + value\n",
    "\n",
    "print('단어 집합(vocabulary)의 크기 :', total_cnt)\n",
    "print('등장 빈도가 %s번 이하인 희귀 단어의 수: %s'%(threshold - 1, rare_cnt))\n",
    "print('단어 집합에서 희귀 단어를 제외시킬 경우의 단어 집합의 크기 %s'%(total_cnt - rare_cnt))\n",
    "print(\"단어 집합에서 희귀 단어의 비율:\", (rare_cnt / total_cnt)*100)\n",
    "print(\"전체 등장 빈도에서 희귀 단어 등장 빈도 비율:\", (rare_freq / total_freq)*100)"
   ]
  },
  {
   "cell_type": "code",
   "execution_count": 46,
   "id": "operational-edinburgh",
   "metadata": {},
   "outputs": [
    {
     "name": "stdout",
     "output_type": "stream",
     "text": [
      "input\n",
      "input  [[1, 355, 3787, 3, 450, 802, 265, 3, 36, 351, 563], [1, 1686, 990, 9499, 374, 242, 6, 7672, 4, 79, 7213], [1, 20, 299, 510, 4, 1458, 5, 2844, 852, 20, 4, 921], [1, 671, 7214, 990, 1418, 5409, 52, 340, 1587, 1219], [1, 362, 1439, 36, 1220, 1712, 4411, 17, 3478]]\n",
      "target\n",
      "decoder  [[355, 3787, 3, 450, 802, 265, 3, 36, 351, 563, 2], [1686, 990, 9499, 374, 242, 6, 7672, 4, 79, 7213, 2], [20, 299, 510, 4, 1458, 5, 2844, 852, 20, 4, 921, 2], [671, 7214, 990, 1418, 5409, 52, 340, 1587, 1219, 2], [362, 1439, 36, 1220, 1712, 4411, 17, 3478, 2]]\n"
     ]
    }
   ],
   "source": [
    "tar_vocab = 10000\n",
    "tar_tokenizer = Tokenizer(num_words=tar_vocab) \n",
    "tar_tokenizer.fit_on_texts(decoder_input_train)\n",
    "tar_tokenizer.fit_on_texts(decoder_target_train)\n",
    "\n",
    "# 텍스트 시퀀스를 정수 시퀀스로 변환\n",
    "decoder_input_train = tar_tokenizer.texts_to_sequences(decoder_input_train) \n",
    "decoder_target_train = tar_tokenizer.texts_to_sequences(decoder_target_train)\n",
    "decoder_input_test = tar_tokenizer.texts_to_sequences(decoder_input_test)\n",
    "decoder_target_test = tar_tokenizer.texts_to_sequences(decoder_target_test)\n",
    "\n",
    "# 잘 변환되었는지 확인\n",
    "print('input')\n",
    "print('input ',decoder_input_train[:5])\n",
    "print('target')\n",
    "print('decoder ',decoder_target_train[:5])"
   ]
  },
  {
   "cell_type": "code",
   "execution_count": 47,
   "id": "excessive-lancaster",
   "metadata": {},
   "outputs": [
    {
     "name": "stdout",
     "output_type": "stream",
     "text": [
      "삭제할 훈련 데이터의 개수 : 0\n",
      "삭제할 테스트 데이터의 개수 : 0\n",
      "훈련 데이터의 개수 : 78533\n",
      "훈련 레이블의 개수 : 78533\n",
      "테스트 데이터의 개수 : 19633\n",
      "테스트 레이블의 개수 : 19633\n"
     ]
    },
    {
     "name": "stderr",
     "output_type": "stream",
     "text": [
      "/opt/conda/lib/python3.7/site-packages/numpy/core/_asarray.py:83: VisibleDeprecationWarning: Creating an ndarray from ragged nested sequences (which is a list-or-tuple of lists-or-tuples-or ndarrays with different lengths or shapes) is deprecated. If you meant to do this, you must specify 'dtype=object' when creating the ndarray\n",
      "  return array(a, dtype, copy=False, order=order)\n"
     ]
    }
   ],
   "source": [
    "drop_train = [index for index, sentence in enumerate(decoder_input_train) if len(sentence) == 1]\n",
    "drop_test = [index for index, sentence in enumerate(decoder_input_test) if len(sentence) == 1]\n",
    "\n",
    "print('삭제할 훈련 데이터의 개수 :', len(drop_train))\n",
    "print('삭제할 테스트 데이터의 개수 :', len(drop_test))\n",
    "\n",
    "encoder_input_train = np.delete(encoder_input_train, drop_train, axis=0)\n",
    "decoder_input_train = np.delete(decoder_input_train, drop_train, axis=0)\n",
    "decoder_target_train = np.delete(decoder_target_train, drop_train, axis=0)\n",
    "\n",
    "encoder_input_test = np.delete(encoder_input_test, drop_test, axis=0)\n",
    "decoder_input_test = np.delete(decoder_input_test, drop_test, axis=0)\n",
    "decoder_target_test = np.delete(decoder_target_test, drop_test, axis=0)\n",
    "\n",
    "print('훈련 데이터의 개수 :', len(encoder_input_train))\n",
    "print('훈련 레이블의 개수 :', len(decoder_input_train))\n",
    "print('테스트 데이터의 개수 :', len(encoder_input_test))\n",
    "print('테스트 레이블의 개수 :', len(decoder_input_test))"
   ]
  },
  {
   "cell_type": "code",
   "execution_count": 48,
   "id": "mechanical-twist",
   "metadata": {},
   "outputs": [],
   "source": [
    "encoder_input_train = pad_sequences(encoder_input_train, maxlen=text_max_len, padding='post')\n",
    "encoder_input_test = pad_sequences(encoder_input_test, maxlen=text_max_len, padding='post')\n",
    "decoder_input_train = pad_sequences(decoder_input_train, maxlen=summary_max_len, padding='post')\n",
    "decoder_target_train = pad_sequences(decoder_target_train, maxlen=summary_max_len, padding='post')\n",
    "decoder_input_test = pad_sequences(decoder_input_test, maxlen=summary_max_len, padding='post')\n",
    "decoder_target_test = pad_sequences(decoder_target_test, maxlen=summary_max_len, padding='post')"
   ]
  },
  {
   "cell_type": "markdown",
   "id": "young-pride",
   "metadata": {},
   "source": [
    "## 3. 모델 설계"
   ]
  },
  {
   "cell_type": "code",
   "execution_count": 49,
   "id": "humanitarian-presence",
   "metadata": {},
   "outputs": [
    {
     "name": "stdout",
     "output_type": "stream",
     "text": [
      "WARNING:tensorflow:Layer lstm will not use cuDNN kernel since it doesn't meet the cuDNN kernel criteria. It will use generic GPU kernel as fallback when running on GPU\n",
      "WARNING:tensorflow:Layer lstm_1 will not use cuDNN kernel since it doesn't meet the cuDNN kernel criteria. It will use generic GPU kernel as fallback when running on GPU\n",
      "WARNING:tensorflow:Layer lstm_2 will not use cuDNN kernel since it doesn't meet the cuDNN kernel criteria. It will use generic GPU kernel as fallback when running on GPU\n"
     ]
    }
   ],
   "source": [
    "from tensorflow.keras.layers import Input, LSTM, Embedding, Dense, Concatenate\n",
    "from tensorflow.keras.models import Model\n",
    "from tensorflow.keras.callbacks import EarlyStopping, ModelCheckpoint\n",
    "\n",
    "\n",
    "# 인코더 설계 시작\n",
    "embedding_dim = 128\n",
    "hidden_size = 256\n",
    "\n",
    "# 인코더\n",
    "encoder_inputs = Input(shape=(text_max_len,))\n",
    "\n",
    "# 인코더의 임베딩 층\n",
    "enc_emb = Embedding(src_vocab, embedding_dim)(encoder_inputs)\n",
    "\n",
    "# 인코더의 LSTM 1\n",
    "encoder_lstm1 = LSTM(hidden_size, return_sequences=True, return_state=True ,dropout = 0.4, recurrent_dropout = 0.4)\n",
    "encoder_output1, state_h1, state_c1 = encoder_lstm1(enc_emb)\n",
    "\n",
    "# 인코더의 LSTM 2\n",
    "encoder_lstm2 = LSTM(hidden_size, return_sequences=True, return_state=True, dropout=0.4, recurrent_dropout=0.4)\n",
    "encoder_output2, state_h2, state_c2 = encoder_lstm2(encoder_output1)\n",
    "\n",
    "# 인코더의 LSTM 3\n",
    "encoder_lstm3 = LSTM(hidden_size, return_state=True, return_sequences=True, dropout=0.4, recurrent_dropout=0.4)\n",
    "encoder_outputs, state_h, state_c= encoder_lstm3(encoder_output2)"
   ]
  },
  {
   "cell_type": "code",
   "execution_count": 50,
   "id": "critical-adobe",
   "metadata": {},
   "outputs": [
    {
     "name": "stdout",
     "output_type": "stream",
     "text": [
      "WARNING:tensorflow:Layer lstm_3 will not use cuDNN kernel since it doesn't meet the cuDNN kernel criteria. It will use generic GPU kernel as fallback when running on GPU\n"
     ]
    }
   ],
   "source": [
    "# 디코더 설계\n",
    "decoder_inputs = Input(shape=(None,))\n",
    "\n",
    "# 디코더의 임베딩 층\n",
    "dec_emb_layer = Embedding(tar_vocab, embedding_dim)\n",
    "dec_emb = dec_emb_layer(decoder_inputs)\n",
    "\n",
    "# 디코더의 LSTM\n",
    "decoder_lstm = LSTM(hidden_size, return_sequences=True, return_state=True, dropout=0.4, recurrent_dropout=0.2)\n",
    "decoder_outputs, _, _ = decoder_lstm(dec_emb, initial_state=[state_h, state_c])"
   ]
  },
  {
   "cell_type": "code",
   "execution_count": 51,
   "id": "native-collect",
   "metadata": {},
   "outputs": [
    {
     "name": "stdout",
     "output_type": "stream",
     "text": [
      "Model: \"model\"\n",
      "__________________________________________________________________________________________________\n",
      "Layer (type)                    Output Shape         Param #     Connected to                     \n",
      "==================================================================================================\n",
      "input_1 (InputLayer)            [(None, 50)]         0                                            \n",
      "__________________________________________________________________________________________________\n",
      "embedding (Embedding)           (None, 50, 128)      2816000     input_1[0][0]                    \n",
      "__________________________________________________________________________________________________\n",
      "lstm (LSTM)                     [(None, 50, 256), (N 394240      embedding[0][0]                  \n",
      "__________________________________________________________________________________________________\n",
      "input_2 (InputLayer)            [(None, None)]       0                                            \n",
      "__________________________________________________________________________________________________\n",
      "lstm_1 (LSTM)                   [(None, 50, 256), (N 525312      lstm[0][0]                       \n",
      "__________________________________________________________________________________________________\n",
      "embedding_1 (Embedding)         (None, None, 128)    1280000     input_2[0][0]                    \n",
      "__________________________________________________________________________________________________\n",
      "lstm_2 (LSTM)                   [(None, 50, 256), (N 525312      lstm_1[0][0]                     \n",
      "__________________________________________________________________________________________________\n",
      "lstm_3 (LSTM)                   [(None, None, 256),  394240      embedding_1[0][0]                \n",
      "                                                                 lstm_2[0][1]                     \n",
      "                                                                 lstm_2[0][2]                     \n",
      "__________________________________________________________________________________________________\n",
      "dense (Dense)                   (None, None, 10000)  2570000     lstm_3[0][0]                     \n",
      "==================================================================================================\n",
      "Total params: 8,505,104\n",
      "Trainable params: 8,505,104\n",
      "Non-trainable params: 0\n",
      "__________________________________________________________________________________________________\n"
     ]
    }
   ],
   "source": [
    "# 디코더의 출력층\n",
    "decoder_softmax_layer = Dense(tar_vocab, activation='softmax')\n",
    "decoder_softmax_outputs = decoder_softmax_layer(decoder_outputs) \n",
    "\n",
    "# 모델 정의\n",
    "model = Model([encoder_inputs, decoder_inputs], decoder_softmax_outputs)\n",
    "model.summary()"
   ]
  },
  {
   "cell_type": "code",
   "execution_count": 52,
   "id": "enabling-sellers",
   "metadata": {},
   "outputs": [],
   "source": [
    "# 어텐션 메커니즘\n",
    "urllib.request.urlretrieve(\"https://raw.githubusercontent.com/thushv89/attention_keras/master/src/layers/attention.py\", filename=\"attention.py\")\n",
    "from attention import AttentionLayer"
   ]
  },
  {
   "cell_type": "code",
   "execution_count": 53,
   "id": "north-privacy",
   "metadata": {},
   "outputs": [
    {
     "name": "stdout",
     "output_type": "stream",
     "text": [
      "Model: \"model_1\"\n",
      "__________________________________________________________________________________________________\n",
      "Layer (type)                    Output Shape         Param #     Connected to                     \n",
      "==================================================================================================\n",
      "input_1 (InputLayer)            [(None, 50)]         0                                            \n",
      "__________________________________________________________________________________________________\n",
      "embedding (Embedding)           (None, 50, 128)      2816000     input_1[0][0]                    \n",
      "__________________________________________________________________________________________________\n",
      "lstm (LSTM)                     [(None, 50, 256), (N 394240      embedding[0][0]                  \n",
      "__________________________________________________________________________________________________\n",
      "input_2 (InputLayer)            [(None, None)]       0                                            \n",
      "__________________________________________________________________________________________________\n",
      "lstm_1 (LSTM)                   [(None, 50, 256), (N 525312      lstm[0][0]                       \n",
      "__________________________________________________________________________________________________\n",
      "embedding_1 (Embedding)         (None, None, 128)    1280000     input_2[0][0]                    \n",
      "__________________________________________________________________________________________________\n",
      "lstm_2 (LSTM)                   [(None, 50, 256), (N 525312      lstm_1[0][0]                     \n",
      "__________________________________________________________________________________________________\n",
      "lstm_3 (LSTM)                   [(None, None, 256),  394240      embedding_1[0][0]                \n",
      "                                                                 lstm_2[0][1]                     \n",
      "                                                                 lstm_2[0][2]                     \n",
      "__________________________________________________________________________________________________\n",
      "attention_layer (AttentionLayer ((None, None, 256),  131328      lstm_2[0][0]                     \n",
      "                                                                 lstm_3[0][0]                     \n",
      "__________________________________________________________________________________________________\n",
      "concat_layer (Concatenate)      (None, None, 512)    0           lstm_3[0][0]                     \n",
      "                                                                 attention_layer[0][0]            \n",
      "__________________________________________________________________________________________________\n",
      "dense_1 (Dense)                 (None, None, 10000)  5130000     concat_layer[0][0]               \n",
      "==================================================================================================\n",
      "Total params: 11,196,432\n",
      "Trainable params: 11,196,432\n",
      "Non-trainable params: 0\n",
      "__________________________________________________________________________________________________\n"
     ]
    }
   ],
   "source": [
    "# 어텐션 층(어텐션 함수)\n",
    "attn_layer = AttentionLayer(name='attention_layer')\n",
    "# 인코더와 디코더의 모든 time step의 hidden state를 어텐션 층에 전달하고 결과를 리턴\n",
    "attn_out, attn_states = attn_layer([encoder_outputs, decoder_outputs])\n",
    "\n",
    "# 어텐션의 결과와 디코더의 hidden state들을 연결\n",
    "decoder_concat_input = Concatenate(axis=-1, name='concat_layer')([decoder_outputs, attn_out])\n",
    "\n",
    "# 디코더의 출력층\n",
    "decoder_softmax_layer = Dense(tar_vocab, activation='softmax')\n",
    "decoder_softmax_outputs = decoder_softmax_layer(decoder_concat_input)\n",
    "\n",
    "# 모델 정의\n",
    "model = Model([encoder_inputs, decoder_inputs], decoder_softmax_outputs)\n",
    "model.summary()"
   ]
  },
  {
   "cell_type": "markdown",
   "id": "occupational-affairs",
   "metadata": {},
   "source": [
    "## 4. 모델 훈련"
   ]
  },
  {
   "cell_type": "code",
   "execution_count": 54,
   "id": "sudden-scenario",
   "metadata": {},
   "outputs": [
    {
     "name": "stdout",
     "output_type": "stream",
     "text": [
      "Epoch 1/50\n",
      "307/307 [==============================] - 249s 774ms/step - loss: 5.6229 - val_loss: 4.8202\n",
      "Epoch 2/50\n",
      "307/307 [==============================] - 238s 776ms/step - loss: 4.7538 - val_loss: 4.4440\n",
      "Epoch 3/50\n",
      "307/307 [==============================] - 240s 781ms/step - loss: 4.3963 - val_loss: 4.1947\n",
      "Epoch 4/50\n",
      "307/307 [==============================] - 240s 781ms/step - loss: 4.1215 - val_loss: 4.0143\n",
      "Epoch 5/50\n",
      "307/307 [==============================] - 239s 778ms/step - loss: 3.9187 - val_loss: 3.8813\n",
      "Epoch 6/50\n",
      "307/307 [==============================] - 239s 779ms/step - loss: 3.7427 - val_loss: 3.7733\n",
      "Epoch 7/50\n",
      "307/307 [==============================] - 239s 779ms/step - loss: 3.6093 - val_loss: 3.6965\n",
      "Epoch 8/50\n",
      "307/307 [==============================] - 240s 780ms/step - loss: 3.4846 - val_loss: 3.6178\n",
      "Epoch 9/50\n",
      "307/307 [==============================] - 239s 778ms/step - loss: 3.3736 - val_loss: 3.5597\n",
      "Epoch 10/50\n",
      "307/307 [==============================] - 240s 781ms/step - loss: 3.2771 - val_loss: 3.5160\n",
      "Epoch 11/50\n",
      "307/307 [==============================] - 239s 778ms/step - loss: 3.1962 - val_loss: 3.4742\n",
      "Epoch 12/50\n",
      "307/307 [==============================] - 239s 778ms/step - loss: 3.1221 - val_loss: 3.4399\n",
      "Epoch 13/50\n",
      "307/307 [==============================] - 239s 779ms/step - loss: 3.0491 - val_loss: 3.4151\n",
      "Epoch 14/50\n",
      "307/307 [==============================] - 239s 779ms/step - loss: 2.9858 - val_loss: 3.3869\n",
      "Epoch 15/50\n",
      "307/307 [==============================] - 237s 772ms/step - loss: 2.9267 - val_loss: 3.3673\n",
      "Epoch 16/50\n",
      "307/307 [==============================] - 235s 765ms/step - loss: 2.8724 - val_loss: 3.3465\n",
      "Epoch 17/50\n",
      "307/307 [==============================] - 232s 755ms/step - loss: 2.8234 - val_loss: 3.3289\n",
      "Epoch 18/50\n",
      "307/307 [==============================] - 231s 752ms/step - loss: 2.7697 - val_loss: 3.3106\n",
      "Epoch 19/50\n",
      "307/307 [==============================] - 232s 754ms/step - loss: 2.7287 - val_loss: 3.3060\n",
      "Epoch 20/50\n",
      "307/307 [==============================] - 232s 755ms/step - loss: 2.6856 - val_loss: 3.2965\n",
      "Epoch 21/50\n",
      "307/307 [==============================] - 231s 752ms/step - loss: 2.6477 - val_loss: 3.2887\n",
      "Epoch 22/50\n",
      "307/307 [==============================] - 231s 753ms/step - loss: 2.6127 - val_loss: 3.2787\n",
      "Epoch 23/50\n",
      "307/307 [==============================] - 231s 754ms/step - loss: 2.5732 - val_loss: 3.2797\n",
      "Epoch 24/50\n",
      "307/307 [==============================] - 231s 754ms/step - loss: 2.5447 - val_loss: 3.2668\n",
      "Epoch 25/50\n",
      "307/307 [==============================] - 231s 754ms/step - loss: 2.5198 - val_loss: 3.2662\n",
      "Epoch 26/50\n",
      "307/307 [==============================] - 232s 757ms/step - loss: 2.4947 - val_loss: 3.2623\n",
      "Epoch 27/50\n",
      "307/307 [==============================] - 232s 757ms/step - loss: 2.4638 - val_loss: 3.2550\n",
      "Epoch 28/50\n",
      "307/307 [==============================] - 232s 755ms/step - loss: 2.4409 - val_loss: 3.2626\n",
      "Epoch 29/50\n",
      "307/307 [==============================] - 232s 754ms/step - loss: 2.4107 - val_loss: 3.2532\n",
      "Epoch 30/50\n",
      "307/307 [==============================] - 232s 755ms/step - loss: 2.3876 - val_loss: 3.2490\n",
      "Epoch 31/50\n",
      "307/307 [==============================] - 231s 753ms/step - loss: 2.3627 - val_loss: 3.2556\n",
      "Epoch 32/50\n",
      "307/307 [==============================] - 231s 754ms/step - loss: 2.3466 - val_loss: 3.2507\n",
      "Epoch 00032: early stopping\n"
     ]
    }
   ],
   "source": [
    "model.compile(optimizer='rmsprop', loss='sparse_categorical_crossentropy')\n",
    "es = EarlyStopping(monitor='val_loss', patience=2, verbose=1)\n",
    "history = model.fit(x=[encoder_input_train, decoder_input_train], y=decoder_target_train, \\\n",
    "          validation_data=([encoder_input_test, decoder_input_test], decoder_target_test), \\\n",
    "          batch_size=256, callbacks=[es], epochs=50)"
   ]
  },
  {
   "cell_type": "code",
   "execution_count": 55,
   "id": "acknowledged-venezuela",
   "metadata": {},
   "outputs": [
    {
     "data": {
      "image/png": "[encoded data removed]",
      "text/plain": [
       "<Figure size 432x288 with 1 Axes>"
      ]
     },
     "metadata": {
      "needs_background": "light"
     },
     "output_type": "display_data"
    }
   ],
   "source": [
    "plt.plot(history.history['loss'], label='train')\n",
    "plt.plot(history.history['val_loss'], label='test')\n",
    "plt.legend()\n",
    "plt.show()"
   ]
  },
  {
   "cell_type": "markdown",
   "id": "boolean-spain",
   "metadata": {},
   "source": [
    "## 5. 인퍼런스 모델 구현"
   ]
  },
  {
   "cell_type": "code",
   "execution_count": 6,
   "id": "nervous-softball",
   "metadata": {},
   "outputs": [
    {
     "ename": "NameError",
     "evalue": "name 'src_tokenizer' is not defined",
     "output_type": "error",
     "traceback": [
      "\u001b[0;31m---------------------------------------------------------------------------\u001b[0m",
      "\u001b[0;31mNameError\u001b[0m                                 Traceback (most recent call last)",
      "\u001b[0;32m<ipython-input-6-f93d05c60211>\u001b[0m in \u001b[0;36m<module>\u001b[0;34m\u001b[0m\n\u001b[0;32m----> 1\u001b[0;31m \u001b[0msrc_index_to_word\u001b[0m \u001b[0;34m=\u001b[0m \u001b[0msrc_tokenizer\u001b[0m\u001b[0;34m.\u001b[0m\u001b[0mindex_word\u001b[0m \u001b[0;31m# 원문 단어 집합에서 정수 -> 단어를 얻음\u001b[0m\u001b[0;34m\u001b[0m\u001b[0;34m\u001b[0m\u001b[0m\n\u001b[0m\u001b[1;32m      2\u001b[0m \u001b[0mtar_word_to_index\u001b[0m \u001b[0;34m=\u001b[0m \u001b[0mtar_tokenizer\u001b[0m \u001b[0;34m.\u001b[0m\u001b[0mword_index\u001b[0m \u001b[0;31m# 요약 단어 집합에서 단어 -> 정수를 얻음\u001b[0m\u001b[0;34m\u001b[0m\u001b[0;34m\u001b[0m\u001b[0m\n\u001b[1;32m      3\u001b[0m \u001b[0mtar_index_to_word\u001b[0m \u001b[0;34m=\u001b[0m \u001b[0mtar_tokenizer\u001b[0m\u001b[0;34m.\u001b[0m\u001b[0mindex_word\u001b[0m \u001b[0;31m# 요약 단어 집합에서 정수 -> 단어를 얻음\u001b[0m\u001b[0;34m\u001b[0m\u001b[0;34m\u001b[0m\u001b[0m\n",
      "\u001b[0;31mNameError\u001b[0m: name 'src_tokenizer' is not defined"
     ]
    }
   ],
   "source": [
    "src_index_to_word = src_tokenizer.index_word # 원문 단어 집합에서 정수 -> 단어를 얻음\n",
    "tar_word_to_index = tar_tokenizer .word_index # 요약 단어 집합에서 단어 -> 정수를 얻음\n",
    "tar_index_to_word = tar_tokenizer.index_word # 요약 단어 집합에서 정수 -> 단어를 얻음"
   ]
  },
  {
   "cell_type": "code",
   "execution_count": 57,
   "id": "industrial-transmission",
   "metadata": {},
   "outputs": [],
   "source": [
    " # 인코더 설계\n",
    "encoder_model = Model(inputs=encoder_inputs, outputs=[encoder_outputs, state_h, state_c])\n",
    "\n",
    "# 이전 시점의 상태들을 저장하는 텐서\n",
    "decoder_state_input_h = Input(shape=(hidden_size,))\n",
    "decoder_state_input_c = Input(shape=(hidden_size,))\n",
    "\n",
    "dec_emb2 = dec_emb_layer(decoder_inputs)\n",
    "\n",
    "# 문장의 다음 단어를 예측하기 위해서 초기 상태(initial_state)를 이전 시점의 상태로 사용. 이는 뒤의 함수 decode_sequence()에 구현\n",
    "# 훈련 과정에서와 달리 LSTM의 리턴하는 은닉 상태와 셀 상태인 state_h와 state_c를 버리지 않음.\n",
    "decoder_outputs2, state_h2, state_c2 = decoder_lstm(dec_emb2, initial_state=[decoder_state_input_h, decoder_state_input_c])"
   ]
  },
  {
   "cell_type": "code",
   "execution_count": 58,
   "id": "finite-entrepreneur",
   "metadata": {},
   "outputs": [],
   "source": [
    "# 어텐션 함수\n",
    "decoder_hidden_state_input = Input(shape=(text_max_len, hidden_size))\n",
    "attn_out_inf, attn_states_inf = attn_layer([decoder_hidden_state_input, decoder_outputs2])\n",
    "decoder_inf_concat = Concatenate(axis=-1, name='concat')([decoder_outputs2, attn_out_inf])\n",
    "\n",
    "# 디코더의 출력층\n",
    "decoder_outputs2 = decoder_softmax_layer(decoder_inf_concat) \n",
    "\n",
    "# 최종 디코더 모델\n",
    "decoder_model = Model(\n",
    "    [decoder_inputs] + [decoder_hidden_state_input,decoder_state_input_h, decoder_state_input_c],\n",
    "    [decoder_outputs2] + [state_h2, state_c2])"
   ]
  },
  {
   "cell_type": "code",
   "execution_count": 59,
   "id": "eastern-evidence",
   "metadata": {},
   "outputs": [],
   "source": [
    "def decode_sequence(input_seq):\n",
    "    # 입력으로부터 인코더의 상태를 얻음\n",
    "    e_out, e_h, e_c = encoder_model.predict(input_seq)\n",
    "\n",
    "     # <SOS>에 해당하는 토큰 생성\n",
    "    target_seq = np.zeros((1,1))\n",
    "    target_seq[0, 0] = tar_word_to_index['sostoken']\n",
    "\n",
    "    stop_condition = False\n",
    "    decoded_sentence = ''\n",
    "    while not stop_condition: # stop_condition이 True가 될 때까지 루프 반복\n",
    "\n",
    "        output_tokens, h, c = decoder_model.predict([target_seq] + [e_out, e_h, e_c])\n",
    "        sampled_token_index = np.argmax(output_tokens[0, -1, :])\n",
    "        sampled_token = tar_index_to_word[sampled_token_index]\n",
    "\n",
    "        if (sampled_token!='eostoken'):\n",
    "            decoded_sentence += ' '+sampled_token\n",
    "\n",
    "        #  <eos>에 도달하거나 최대 길이를 넘으면 중단.\n",
    "        if (sampled_token == 'eostoken'  or len(decoded_sentence.split()) >= (summary_max_len-1)):\n",
    "            stop_condition = True\n",
    "\n",
    "        # 길이가 1인 타겟 시퀀스를 업데이트\n",
    "        target_seq = np.zeros((1,1))\n",
    "        target_seq[0, 0] = sampled_token_index\n",
    "\n",
    "        # 상태를 업데이트 합니다.\n",
    "        e_h, e_c = h, c\n",
    "\n",
    "    return decoded_sentence"
   ]
  },
  {
   "cell_type": "markdown",
   "id": "framed-lindsay",
   "metadata": {},
   "source": [
    "## 6. 모델 테스트"
   ]
  },
  {
   "cell_type": "code",
   "execution_count": 60,
   "id": "changed-calcium",
   "metadata": {},
   "outputs": [],
   "source": [
    "# 원문의 정수 시퀀스를 텍스트 시퀀스로 변환\n",
    "def seq2text(input_seq):\n",
    "    temp=''\n",
    "    for i in input_seq:\n",
    "        if (i!=0):\n",
    "            temp = temp + src_index_to_word[i]+' '\n",
    "    return temp\n",
    "\n",
    "# 요약문의 정수 시퀀스를 텍스트 시퀀스로 변환\n",
    "def seq2summary(input_seq):\n",
    "    temp=''\n",
    "    for i in input_seq:\n",
    "        if ((i!=0 and i!=tar_word_to_index['sostoken']) and i!=tar_word_to_index['eostoken']):\n",
    "            temp = temp + tar_index_to_word[i] + ' '\n",
    "    return temp"
   ]
  },
  {
   "cell_type": "code",
   "execution_count": 62,
   "id": "expensive-ebony",
   "metadata": {},
   "outputs": [
    {
     "name": "stdout",
     "output_type": "stream",
     "text": [
      "원문 : woman uk arrested suspicion murdering month old baby died falling sixth floor window police investigations launched alleged homicide year old woman due appear court wednesday \n",
      "실제 요약 : uk woman held for murder after toddler falls from th floor \n",
      "예측 요약 :  uk woman arrested for raping year old girl in month\n",
      "\n",
      "\n",
      "원문 : police filed fir unknown lawyers banner comparing parliament attack convict afzal guru separatist leader bhat freedom fighters bhagat singh banner put srinagar court anniversary guru hanging hailed bhat heroes kashmir \n",
      "실제 요약 : fir filed for banner guru to bhagat singh \n",
      "예측 요약 :  fir against pak for pro pro khalistan event in punjab\n",
      "\n",
      "\n",
      "원문 : telangana rashtra samithi celebrated president telangana caretaker chief minister chandrashekar rao election victory kg cake headquarters cake features car election symbol trs chandrashekar rao constituency votes \n",
      "실제 요약 : telangana cm kcr election victory celebrated with kg cake \n",
      "예측 요약 :  telangana deputy cm rao wins his th birthday\n",
      "\n",
      "\n",
      "원문 : india signed billion deal buy russia aerial defense system russian president vladimir putin visit india india earlier approved deal buy five units despite us imposing sanctions country russia invaded crimea us warned india buying russian military equipment came focus area sanctions \n",
      "실제 요약 : india russia ink bn deal despite us sanctions threat \n",
      "예측 요약 :  india to buy russia for russia russia deal\n",
      "\n",
      "\n",
      "원문 : speaking marriage actress priyanka chopra american singer nick jonas said knew locked together partner life teammate kind instant thing nick added priyanka nick tied knot rajasthan jodhpur december last year \n",
      "실제 요약 : knew would found partner for life nick jonas on wife priyanka \n",
      "예측 요약 :  priyanka is the biggest nick on her life priyanka\n",
      "\n",
      "\n",
      "원문 : government friday announced padma bhushan former isro scientist narayanan cleared spying case supreme court last year narayanan wrongly accused sharing defence secrets maldivian spies also awarded lakh compensation kerala government sc stated unnecessarily arrested harassed state police \n",
      "실제 요약 : framed in isro spy case awarded padma bhushan \n",
      "예측 요약 :  steve pradesh scientist sues sc over lakh fixing verdict\n",
      "\n",
      "\n",
      "원문 : video shows actor ranveer singh dancing song amitabh bachchan wedding reception held saturday bachchan attended reception wife jaya daughter shweta daughter law aishwarya ranveer dressed tuxedo wife deepika padukone chose red gown murad reception held film industry \n",
      "실제 요약 : ranveer dances to with big at wedding reception \n",
      "예측 요약 :  ranveer dances to ranveer singh wedding reception\n",
      "\n",
      "\n",
      "원문 : group gifted danish physicist house located next brewery winning nobel prize physics house direct pipeline brewery could free beer tap whenever wanted made contributions understanding atomic structure quantum theory \n",
      "실제 요약 : scientist was given house with beer pipeline for nobel win \n",
      "예측 요약 :  house of nobel winner was once awarded\n",
      "\n",
      "\n",
      "원문 : swedish furniture giant ikea thursday opened first ever store india square feet outlet hyderabad offering around products store also seater restaurant serve customers food items swedish indian ikea plans open second store mumbai followed bengaluru delhi ncr \n",
      "실제 요약 : ikea opens its first ever store in india \n",
      "예측 요약 :  ikea launches its first ever store in india\n",
      "\n",
      "\n",
      "원문 : drying climate along unpredictable weather may caused evolution modern humans according study researchers studied lake cores rift valley east africa known rich source human fossils larger brains modern humans allowed human ancestors adapt rapidly changing climate claimed \n",
      "실제 요약 : dry weather led to human study \n",
      "예측 요약 :  humans may not be study on earth study\n",
      "\n",
      "\n",
      "원문 : sri lankan president maithripala sirisena said recent trip airlines treated nuts even suitable dogs approved responsible sirisena asked following airline said cleared stock adding would change dubai based supplier \n",
      "실제 요약 : offered by airline were not even fit for dogs sl prez \n",
      "예측 요약 :  airline will not be able to run out of airline sri lanka\n",
      "\n",
      "\n",
      "원문 : singer kelly new minute long song admit denied allegations ran sex cult imprisoned sexually abused young women lyrics include falsely accused lyrics added admit ladies older young ladies tell call crazy \n",
      "실제 요약 : falsely accused on sex cult row in minute song \n",
      "예측 요약 :  singer apologises for sex abuse by women in ec\n",
      "\n",
      "\n",
      "원문 : villagers maharashtra palghar district asked ponds ambulances street lights doctors give nod bullet train project km stretch km bullet train corridor passes palghar affects people across villages body implementing project said agree demands given writing \n",
      "실제 요약 : bullet train nod only if we get water doctors maha villagers \n",
      "예측 요약 :  no one bridge in assam bridge collapse maha maha\n",
      "\n",
      "\n",
      "원문 : smoke california ongoing wildfire classified largest state history carried winds us east coast nearly miles away satellite observations shown however smoke arriving boston new york diluted fresh air cannot seen concentrations unhealthy said air quality researcher \n",
      "실제 요약 : california wildfire smoke reaches new york away \n",
      "예측 요약 :  mexico to shut down earthquakes\n",
      "\n",
      "\n",
      "원문 : ram bahadur nepali spiritual leader believed lord buddha followers investigation disappearance several devotees police said came relatives missing demanded government investigate whereabouts also accused physically sexually assaulting followers \n",
      "실제 요약 : buddha boy under probe in nepal over missing devotees \n",
      "예측 요약 :  ambedkar claims it was not police for police\n",
      "\n",
      "\n",
      "원문 : nit trichy annual cultural fest organised year september theme orient oriental upcoming pro shows workshops events promises cash prizes worth lakh fest also features free concerts amit trivedi sridhar red bull tour bus dj shaan \n",
      "실제 요약 : nit cultural fest begins on sept \n",
      "예측 요약 :  iit kanpur to host cultural festival\n",
      "\n",
      "\n",
      "원문 : disabled persons elderly citizens women uttarakhand received pensions since october could procure aadhaar cards reports said devi mother year old disabled man said son aadhaar card could made despite multiple attempts biometric machine unable register fingerprints \n",
      "실제 요약 : denied of pension in uttarakhand over lack of aadhaar \n",
      "예측 요약 :  parents of children to be in months in months\n",
      "\n",
      "\n",
      "원문 : man arrested indira gandhi international airport new delhi allegedly terminal using invalid ticket friday cisf personnel said accused found entered terminal using ticket dubai booked later cancelled said seeing daughter travelling dubai \n",
      "실제 요약 : man sneaks into delhi airport using invalid ticket \n",
      "예측 요약 :  man arrested for smuggling gold at delhi airport\n",
      "\n",
      "\n",
      "원문 : rbi barred public sector lender dena bank taking fresh loan exposure recruitment staff view high net non performing assets negative return assets dena bank friday reported net loss crore march quarter rbi may last year initiated prompt corrective action bank \n",
      "실제 요약 : rbi bars dena bank from fresh lending staff \n",
      "예측 요약 :  rbi bank imposes bank of baroda to deposit rates\n",
      "\n",
      "\n",
      "원문 : actor rana daggubati recent episode chat show revealed prank called baahubali co star prabhas said wanted help police caught prabhas replied tell police baahubali companion leave \n",
      "실제 요약 : rana daggubati shares details about prank on co star prabhas \n",
      "예측 요약 :  baahubali actor prabhas is the star rana\n",
      "\n",
      "\n",
      "원문 : daler mehndi alka song film arjun pandit recreated di sunny deol starrer poster boys tanishk bagchi recreated music new song track original singer daler mehndi sung additional vocals neha kakkar arjun pandit starred sunny juhi chawla \n",
      "실제 요약 : daler mehndi recreated for poster boys \n",
      "예측 요약 :  song from sunny leone starrer released\n",
      "\n",
      "\n",
      "원문 : apple may face criminal charges france slowdown older iphones due battery issues french organisation hop filed lawsuit company week hop claimed apple violated french law prohibits practice planned maximum potential sentence two years prison fine organisation said \n",
      "실제 요약 : apple may face criminal charges in france on iphone slowdown \n",
      "예측 요약 :  apple faces lawsuit against iphone for face recognition\n",
      "\n",
      "\n",
      "원문 : tripura government issued dress code barring government officials wearing jeans cargo pants sunglasses memo also directed magistrates top district officials ensure dress code followed meetings chaired cm biplab kumar deb memo also said using mobile phones meetings disrespectful chairing \n",
      "실제 요약 : avoid jeans tripura govt dress code for officials \n"
     ]
    },
    {
     "name": "stdout",
     "output_type": "stream",
     "text": [
      "예측 요약 :  tripura govt bans dress code for wearing jeans\n",
      "\n",
      "\n",
      "원문 : one body recovered south kolkata part majerhat bridge collapsed tuesday taking death toll two body suspected one two labourers missing since bridge collapsed police said probing incident angles west bengal cm mamata banerjee said \n",
      "실제 요약 : second body recovered from kolkata bridge collapse site \n",
      "예측 요약 :  bridge collapse bridge collapse in kolkata bridge collapse\n",
      "\n",
      "\n",
      "원문 : america cry reunited childhood friend years twitter hey twitter met girl dinner cruise hawaii need help find tweeted posted picture heard looking friend replied within hours \n",
      "실제 요약 : childhood find each other after yrs through twitter \n",
      "예측 요약 :  girl claims he is victim of kid who is kid\n",
      "\n",
      "\n",
      "원문 : american singer songwriter john legend performed jamaican singer bob song nobel peace prize award ceremony held sunday norway international campaign abolish nuclear weapons awarded nobel peace prize year earlier grammy award winning singer also performed nobel peace prize concert \n",
      "실제 요약 : john legend performs bob song at nobel prize ceremony \n",
      "예측 요약 :  john honours nobel prize for south south korea\n",
      "\n",
      "\n",
      "원문 : us president donald trump nominee lead fbi christopher rejected president claim inquiry alleged russian hacking us election witch hunt adding never allow fbi driven anything facts said would quit trump asks anything illegal \n",
      "실제 요약 : russia probe not witch hunt trump fbi nominee \n",
      "예측 요약 :  trump campaign to be us president trump\n",
      "\n",
      "\n",
      "원문 : centre announced scheme reimburse share gst raw material used prepare langar community kitchens seva yojna scheme crore fy fy authorities golden temple claimed paid crore gst purchasing items langar july january \n",
      "실제 요약 : govt to refund gst on items for \n",
      "예측 요약 :  govt to launch gst collection in maharashtra\n",
      "\n",
      "\n",
      "원문 : ayushmann khurrana wife tahira kashyap battling breast cancer took social media reveal bald look wrote new old self getting tired extensions liberating added never thought would go bald feels good tahira said \n",
      "실제 요약 : new me old self ayushmann wife reveals look amid cancer \n",
      "예측 요약 :  ayushmann wife diagnosed with breast cancer\n",
      "\n",
      "\n",
      "원문 : uk court ruled monday fugitive liquor baron vijay mallya extradited india former kingfisher employee neetu sharma said face music sets things motion got charges like siphoning diverting funds case repayment money also involves lot criminal deeds added \n",
      "실제 요약 : mallya should face the music ex kingfisher employee on extradition \n",
      "예측 요약 :  mallya is not mallya brand uk court\n",
      "\n",
      "\n",
      "원문 : spain based astronomers found previously identified two star system actually consists least two binary star systems new high resolution study system light years away revealed strong signatures least four stars total mass likely solar masses seems formed without accompanying cluster scientists said \n",
      "실제 요약 : system made up of star systems found \n",
      "예측 요약 :  new new system may be like star study\n",
      "\n",
      "\n",
      "원문 : dig putting strange badges women basis wear eat fashion designer masaba gupta said pls leave us alone torn jeans beer away comment comes designer sabyasachi mukherjee criticised younger generation indian women knowing tie sari \n",
      "실제 요약 : leave us alone in our torn jeans beer masaba \n",
      "예측 요약 :  kriti sanon dress up for wearing dress dress\n",
      "\n",
      "\n",
      "원문 : following formula one crash lewis hamilton sebastian vettel hamilton said wants prove man think car face face hamilton said vettel deliberately driving car azerbaijan grand prix sunday \n",
      "실제 요약 : let us sort it face to face like men hamilton to \n",
      "예측 요약 :  will not have to be in race race after trump race\n",
      "\n",
      "\n",
      "원문 : least four workers indian railways run kolkata amritsar train monday drilling tracks uttar pradesh hardoi agency said workers drilling without prior block required carry maintenance work probe ordered incident worker reported missing \n",
      "실제 요약 : railway men working on tracks run over by amritsar bound train \n",
      "예측 요약 :  people express train derail in uttar pradesh\n",
      "\n",
      "\n",
      "원문 : uk may punish death dangerous cycling maximum sentence years prison reports said comes cyclist jailed months running killing woman proposed offence would equivalent causing death serious injury careless dangerous driving department transport said \n",
      "실제 요약 : uk may punish death by cycling with yrs jail report \n",
      "예측 요약 :  uk to uk jail for raping convicts in uk murder case\n",
      "\n",
      "\n",
      "원문 : chelsea moved seven points clear top premier league table ahead tottenham diego costa brace helped chelsea register win southampton tuesday costa scored eden hazard gary cahill netted strike first half former chelsea players ryan scored southampton \n",
      "실제 요약 : brace sends chelsea points clear at top of pl table \n",
      "예측 요약 :  chelsea thrash chelsea to win top chelsea title\n",
      "\n",
      "\n",
      "원문 : chinese navy air force conducted large scale exercises seas adjacent korean peninsula country defence ministry said drills aimed testing weapons military abilities conducting coastal assaults intercepting air targets ministry added comes amid regional tensions north korea nuclear ballistic missile programme \n",
      "실제 요약 : china conducts amid north korea tensions \n",
      "예측 요약 :  china military drill fires us military base in us\n",
      "\n",
      "\n",
      "원문 : supreme court observed courts cannot make judgment husband forced keep wife saying human relationship court remarked hearing dowry harassment case restore man bail order man asked deposit lakh interim maintenance estranged wife son \n",
      "실제 요약 : courts cannot force husband to keep his wife supreme court \n",
      "예측 요약 :  husband cannot be husband without husband divorce sc\n",
      "\n",
      "\n",
      "원문 : speaking children arjun anshula janhvi khushi coming together sridevi demise boney kapoor said happened different mothers get affected blood come together added arjun anshula boney children late ex wife mona shourie janhvi khushi second wife sridevi \n",
      "실제 요약 : my kids from different moms but why should it affect them boney \n",
      "예측 요약 :  arjun kapoor arjun janhvi arjun kapoor\n",
      "\n",
      "\n",
      "원문 : prime minister narendra modi said radio programme mann ki baat gst transformed economy adding new culture added smooth transition bringing huge reform country crores people case study universities also termed historic achievement \n",
      "실제 요약 : gst has transformed the economy pm narendra modi \n",
      "예측 요약 :  gst is not enough to change pm modi\n",
      "\n",
      "\n",
      "원문 : former president pranab mukherjee friday launched app platform enabling voters review rate mp mla mukherjee said app manages educate voters track performance via transparent ratings help parties select candidates good track record brainchild year old entrepreneur mittal app modelled us approval ratings \n",
      "실제 요약 : ex prez mukherjee launches app to rate mps mlas \n",
      "예측 요약 :  pranab mukherjee launches app for android app\n",
      "\n",
      "\n",
      "원문 : year old university mumbai professor pandey planted trees within university campus ismail yusuf college east head mu national service scheme postgraduate unit along volunteers ensures trees daily survival rate trees pandey embarked mission four years ago \n",
      "실제 요약 : mumbai university professor plants trees \n",
      "예측 요약 :  du university to hold college education for students\n",
      "\n",
      "\n",
      "원문 : telecom regulator trai chairman rs sharma said customers soon able check tariff plans different operators trai website improving transparency rates said trai considering allowing export data enable people build tariff comparison apps notably trai recently asked operators start filing tariffs electronic form well \n",
      "실제 요약 : trai website to soon display telcos tariff plans chairman \n",
      "예측 요약 :  trai may not allow credit to stop food vehicles trai chairman\n",
      "\n",
      "\n",
      "원문 : reacting congress suggestion nirav modi part prime minister narendra modi davos contingent union law minister ravi shankar prasad said nirav modi arrived davos nirav modi meet pm modi davos said nirav modi accused laundering crore punjab national bank \n",
      "실제 요약 : nirav modi was not part of pm davos bjp \n",
      "예측 요약 :  pm modi is nirav modi mehul choksi on nirav modi meet\n",
      "\n",
      "\n",
      "원문 : congress leader chidambaram saturday said micro small medium scale traders suffer huge losses due implementation goods services tax gst launched centre original one drafted earlier experts new reform seriously impact inflation chidambaram added \n",
      "실제 요약 : small traders will suffer huge loss due to gst chidambaram \n",
      "예측 요약 :  chidambaram says gst on gst chidambaram\n",
      "\n",
      "\n",
      "원문 : addressing rally rajasthan jaipur congress president rahul gandhi seen winking state party chief sachin pilot stage pilot hugged former rajasthan cm party veteran ashok gehlot pilot earlier said congress fight upcoming state elections gandhi leadership another party leader called making gehlot chief ministerial candidate \n",
      "실제 요약 : rahul gandhi again at rally in rajasthan \n"
     ]
    },
    {
     "name": "stdout",
     "output_type": "stream",
     "text": [
      "예측 요약 :  rahul pilot win pilot hockey pilot in chhattisgarh cm\n",
      "\n",
      "\n",
      "원문 : russian authorities stopped mexican football fans currently visiting country fifa world cup holding day dead themed parade moscow red square opposition lawmakers opposed dressing people skeletons parade held honour dead loved ones tomb soviet founder vladimir lenin situated square \n",
      "실제 요약 : russia stops mexican fans from holding day of dead parade \n",
      "예측 요약 :  russian fans stop russian wc team during match\n",
      "\n",
      "\n",
      "원문 : reacting sun stopping play first new zealand india odi around minutes mayor bill said players need cricket outdoor sport bit weird wonder india go field sun eyes added \n",
      "실제 요약 : players must up mayor on break in odi \n",
      "예측 요약 :  india will not be used to play in india cricket world cup\n",
      "\n",
      "\n",
      "원문 : trailer nawazuddin siddiqui starrer manto released actor portrays saadat hasan manto pakistani playwright author born british india film directed nandita das film premiered year cannes film festival scheduled release september \n",
      "실제 요약 : trailer of nawazuddin siddiqui starrer manto released \n",
      "예측 요약 :  trailer of nawazuddin starrer manto released\n",
      "\n",
      "\n",
      "원문 : least christians reportedly killed others injured gunmen opened fire bus egypt attack happened victims travelling monastery near southern city reports added notably number attacks recent months claimed isis militants \n",
      "실제 요약 : christians killed in egypt terror attack \n",
      "예측 요약 :  killed injured in fire attack at acid attack survivor\n",
      "\n",
      "\n"
     ]
    }
   ],
   "source": [
    "for i in range(50, 100):\n",
    "    print(\"원문 :\", seq2text(encoder_input_test[i]))\n",
    "    print(\"실제 요약 :\", seq2summary(decoder_input_test[i]))\n",
    "    print(\"예측 요약 :\", decode_sequence(encoder_input_test[i].reshape(1, text_max_len)))\n",
    "    print(\"\\n\")"
   ]
  },
  {
   "cell_type": "markdown",
   "id": "checked-playback",
   "metadata": {},
   "source": [
    "## 7. 추출적 요약"
   ]
  },
  {
   "cell_type": "code",
   "execution_count": 8,
   "id": "cultural-fashion",
   "metadata": {},
   "outputs": [],
   "source": [
    "# 라이브러리 불러오기\n",
    "from summa.summarizer import summarize\n",
    "from tqdm import tqdm"
   ]
  },
  {
   "cell_type": "code",
   "execution_count": 17,
   "id": "organized-samuel",
   "metadata": {},
   "outputs": [
    {
     "name": "stderr",
     "output_type": "stream",
     "text": [
      "100%|██████████| 5000/5000 [00:00<00:00, 235017.15it/s]\n"
     ]
    }
   ],
   "source": [
    "news_df = pd.read_csv('news_summary_more.csv', encoding='iso-8859-1').text\n",
    "news_df = news_df[0:5000]\n",
    "mystr = ''\n",
    "for i in tqdm(range(len(news_df))):\n",
    "    mystr += str(news_df[i]) + '\\n'"
   ]
  },
  {
   "cell_type": "code",
   "execution_count": 18,
   "id": "polyphonic-cartridge",
   "metadata": {},
   "outputs": [],
   "source": [
    "with open('news_df.txt', 'w', encoding='utf-8') as f:\n",
    "    f.write(mystr)"
   ]
  },
  {
   "cell_type": "code",
   "execution_count": 19,
   "id": "numeric-bouquet",
   "metadata": {},
   "outputs": [
    {
     "data": {
      "text/plain": [
       "[\"Saurav Kant, an alumnus of upGrad and IIIT-B's PG Program in Machine learning and Artificial Intelligence, was a Sr Systems Engineer at Infosys with almost 5 years of work experience. The program and upGrad's 360-degree career support helped him transition to a Data Scientist at Tech Mahindra with 90% salary hike. upGrad's Online Power Learning has powered 3 lakh+ careers.\\n\",\n",
       " \"Kunal Shah's credit card bill payment platform, CRED, gave users a chance to win free food from Swiggy for one year. Pranav Kaushik, a Delhi techie, bagged this reward after spending 2000 CRED coins. Users get one CRED coin per rupee of bill paid, which can be used to avail rewards from brands like Ixigo, BookMyShow, UberEats, Cult.Fit and more.\\n\",\n",
       " \"New Zealand defeated India by 8 wickets in the fourth ODI at Hamilton on Thursday to win their first match of the five-match ODI series. India lost an international match under Rohit Sharma's captaincy after 12 consecutive victories dating back to March 2018. The match witnessed India getting all out for 92, their seventh lowest total in ODI cricket history.\\n\",\n",
       " 'With Aegon Life iTerm Insurance plan, customers can enjoy tax benefits on your premiums paid and save up to Ã¢Â\\x82Â¹46,800^ on taxes. The plan provides life cover up to the age of 100 years. Also, customers have options to insure against Critical Illnesses, Disability and Accidental Death Benefit Rider with a life cover up to the age of 80 years.\\n',\n",
       " 'Speaking about the sexual harassment allegations against Rajkumar Hirani, Sonam Kapoor said, \"I\\'ve known Hirani for many years...What if it\\'s not true, the [#MeToo] movement will get derailed.\" \"In the #MeToo movement, I always believe a woman. But in this case, we need to reserve our judgment,\" she added. Hirani has been accused by an assistant who worked in \\'Sanju\\'.\\n',\n",
       " 'Pakistani singer Rahat Fateh Ali Khan has denied receiving any notice from the Enforcement Directorate over allegedly smuggling foreign currency out of India. \"It would have been better if the authorities would have served the notice first if any and then publicised this,\" reads a press release issued on behalf of Rahat. The statement further called the allegation \"bizarre\".\\n',\n",
       " \"India recorded their lowest ODI total in New Zealand after getting all out for 92 runs in 30.5 overs in the fourth ODI at Hamilton on Thursday. Seven of India's batsmen were dismissed for single-digit scores, while their number ten batsman Yuzvendra Chahal top-scored with 18*(37). India's previous lowest ODI total in New Zealand was 108.\\n\",\n",
       " 'Weeks after ex-CBI Director Alok Verma told the Department of Personnel and Training to consider him retired, the Home Ministry asked him to join work on the last day of his fixed tenure as Director on Thursday. The ministry directed him to immediately join as DG, Fire Services, the post he was transferred to after his removal as CBI chief.\\n',\n",
       " 'Andhra Pradesh CM N Chandrababu Naidu has said, \"When I met then US President Bill Clinton, I addressed him as Mr Clinton, not as \\'sir\\'. (PM Narendra) Modi is my junior in politics...I addressed him as sir 10 times.\" \"I did this...to satisfy his ego in the hope that he will do justice to the state,\" he added.\\n',\n",
       " \"Congress candidate Shafia Zubair won the Ramgarh Assembly seat in Rajasthan, by defeating BJP's Sukhwant Singh with a margin of 12,228 votes in the bypoll. With this victory, Congress has taken its total to 100 seats in the 200-member assembly. The election to the Ramgarh seat was delayed due to the death of sitting MLA and BSP candidate Laxman Singh.\\n\",\n",
       " \"Two minor cousins in Uttar Pradesh's Gorakhpur were allegedly repeatedly burnt with tongs and forced to eat human excreta by their family for being friends with two boys from the same school. The cousins revealed their ordeal to the police and Child Welfare Committee after being brought back to Gorakhpur from Nepal, where they had fled to escape the torture.\\n\",\n",
       " 'Isha Ghosh, an 81-year-old member of Bharat Scouts and Guides (BSG), has been imparting physical and mental training to schoolchildren in Jharkhand for several decades. Chaibasa-based Ghosh reportedly walks seven kilometres daily and spends eight hours conducting physical training, apart from climbing and yoga sessions. She says, \"One should do something for society till one\\'s last breath.\"\\n',\n",
       " 'Urging saints and seers at the Kumbh Mela to quit smoking, Yoga guru Ramdev said, \"We follow Ram and Krishna who never smoked in their life then why should we?\" Making them take a pledge to quit tobacco, he collected chillum (clay pipe) from several sadhus. He said he will deposit the chillums for display at a museum he\\'ll build.\\n',\n",
       " 'Former stripper and regional sales director of a pharmaceutical company, Sunrise Lee, gave a doctor a lap dance in a nightclub to persuade him to prescribe an addictive fentanyl spray in 2012, the company\\'s sales representative told a US court. She said she saw Lee \"sitting on [doctor\\'s] lap, kind of bouncing around.\" Lee has been accused of bribing doctors.\\n',\n",
       " 'Reliance Industries\\' Chairman Mukesh Ambani\\'s daughter Isha Ambani, who got married last month, said she only cried at her \\'bidaai\\' because she felt peer pressure as everyone was crying, especially her parents. \"I was emotional too but everyone around me would cry all the time,\" she added. \"It was a very emotional affair for everyone in my family,\" said Isha.\\n',\n",
       " 'Louis Vuitton owner LVMH, which makes high-end beverages like MoÃ\\x83Â«t & Chandon champagne and Hennessy cognac, said it\\'s stockpiling four months\\' worth of wine and spirits in UK in preparation for Brexit. \"We\\'re ready for worst case scenario if there are difficulties with deliveries,\" the French luxury giant said. The UK is scheduled to leave the EU on March 29.\\n',\n",
       " 'Filmmaker Karan Johar and actress Tabu turned showstoppers for Gaurav Gupta on the opening night of LakmÃ\\x83Â© Fashion Week Summer/ Resort 2019. While Johar wore a red sequinned jacket with black pants, Tabu walked the ramp in a grey embellished gown. The fashion show, which began on January 29, will continue till February 3.\\n',\n",
       " 'In a jibe at Congress President Rahul Gandhi, PM Narendra Modi on Wednesday said those on \"bail will have to go to jail.\" PM Modi added, \"He is out on bail and his associates too are facing charges...I know they will be convicted one day.\" The PM claimed he\\'d waged a war on corruption because he\\'s from a common household. \\n',\n",
       " 'Days after he threatened to step down from his post if Congress MLAs continue \"crossing the line,\" Karnataka Chief Minister HD Kumaraswamy accused them of taking potshots and asked, \"How many more days can I tolerate such stuff?\" Kumaraswamy, who made the statements after a Congress MLA demanded that Siddaramaiah be made CM again, said, \"Power is ephemeral.\"\\n',\n",
       " 'Union Minister Dharmendra Pradhan on Wednesday claimed the illegal mining mafia in Odisha operates under the control of CM Naveen Patnaik and state Congress chief Niranjan Patnaik. He added, \"The time has come for the people of Odisha to put a full stop to their activities...The time has come for us to ask for an explanation from this corrupt government.\"\\n',\n",
       " 'Claiming there is a dearth of ideas among opposition parties, Prime Minister Narendra Modi on Wednesday said, \"The opposition talks only about Modi the whole day, I suspect they even dream about me.\" PM Modi, who was addressing the New India Youth Conclave inÃ¢Â\\x80Â\\x8b Surat, added that the opposition parties have only one agenda which is \"Modi\". \\n',\n",
       " \"The Indian Space Research Organisation on Wednesday unveiled Human Space Flight Centre in Bengaluru for its Ã¢Â\\x82Â¹10,000-crore manned space mission 'Gaganyaan' scheduled for 2021. ISRO said the centre will be responsible for development of engineering systems for crew survival in space and crew selection and training. It'll also pursue activities for sustained human space flight missions, ISRO added.\\n\",\n",
       " 'At least 12 people have been killed and 170 others have been injured in Saudi Arabia this week due to flooding from heavy rain. The emergency services rescued 271 people from the flooded areas, more than half of them in Tabuk. Heavy rains hit mainly western and northwestern parts of Saudi Arabia, near its border with Jordan.\\n',\n",
       " \"Reliance Industries' Chairman Mukesh Ambani's daughter Isha Ambani has featured on the cover of the February edition of Vogue India. She's dressed in a white shirt dress and black ruffled skirt by Australian designer Toni Maticevski, while accessorising her look with a Misho ring. In the cover story on her, Isha has spoken about her work and life after marriage.\\n\",\n",
       " ' \\n',\n",
       " \"Indian Oil Corporation on Wednesday said it's looking for an annual deal to buy US crude as it seeks to broaden oil purchasing options. This comes amid uncertainties over Iran imports. The US had in November granted a six-month waiver to India from sanctions against Iran and restricted the country's monthly intake of Iranian oil to 3,00,000 barrels per day.\\n\",\n",
       " '\\n',\n",
       " '\\n',\n",
       " \"Former Windies fast bowler Curtly Ambrose dismissed seven Australian batsmen within a span of 32 balls giving away just one run, in a Test match on January 30, 1993. Ambrose's spell helped his team bowl out Australia for 119 in the first innings, after being 85 for 2 at one point. Ambrose ended with first-innings figures of 18-9-25-7.\\n\",\n",
       " 'A London zoo is offering people to name a cockroach after their exes on Valentine\\'s Day for Ã\\x82Â£1.50 (nearly Ã¢Â\\x82Â¹140). \"For those that don\\'t quite require revenge, there\\'s another way to make you feel better about getting back at your ex,\" the zoo said in a statement. The names will appear on zoo\\'s \\'roach board\\' on February 14. \\n',\n",
       " 'Stand-in captain Rohit Sharma has become the 14th Indian cricketer to play 200 ODIs, achieving the feat after taking the field against New Zealand in fourth ODI at Hamilton on Thursday. The 31-year-old had made his ODI debut on June 23, 2007, against Ireland in Belfast. Rohit scored 7,799 runs in his first 199 ODIs at an average of 48.14.\\n',\n",
       " 'Batsman Shubman Gill has become the 227th cricketer to represent India in ODI cricket, achieving the feat against New Zealand in the fourth ODI at Hamilton on Thursday. The 19-year-old received his maiden ODI cap from former captain MS Dhoni. Notably, Shubman was named Player of the Under-19 World Cup in New Zealand last year.\\n',\n",
       " 'Investigators searching for a lost plane carrying Argentine forward Emiliano Sala found two seat cushions on French coast that \"likely\" belonged to the aircraft. The investigators said they\\'ll now launch an underwater seabed search for aircraft wreckage. The Cardiff City footballer was travelling from France\\'s Nantes to Wales\\' Cardiff when his plane disappeared over English Channel on January 21.\\n',\n",
       " \"Italian third division football side Lucchese's head coach Giancarlo Favarin has been banned for five months for headbutting Alessandria's assistant coach Gaetano Mancino during a brawl following the teams' 2-2 draw on Sunday. Mancino was caught off-balance and knocked to the ground after the headbutt. Earlier in the match, Favarin had told his own player to break an opponent's legs.\\n\",\n",
       " \"Cyclists taking part in National Track Cycling Championship in Jaipur opted to sleep on the floor inside the stadium instead of hotels over expensive cycles. The organisers had booked hotels but they didn't have the provision for cyclists to keep their bikes inside. A national gold medallist said their cycles cost between Ã¢Â\\x82Â¹5-9 lakh and once damaged, they become non-repairable. \\n\",\n",
       " 'Silvia Grecco, a 56-year-old Brazilian mother narrates her local football team Palmeiras\\' matches live to her 12-year-old blind and autistic son Nickollas from the stands. \"I describe details: this player is wearing short sleeves...colour of...football boots, hair colour...Everything I see and feel, I tell him, even when I need to curse the referee!\" Grecco said after a recent match.\\n',\n",
       " 'A TechCrunch report has claimed that IndiaÃ¢Â\\x80Â\\x99s largest bank SBI secured a passwordless server \"overnight\" on being alerted it allowed anyone to access phone numbers, bank balances, and transactions of millions of its customers. The Mumbai-based server was containing two months of data from SBI Quick, an SMS and call-based system used to request basic information about accounts, TechCrunch revealed.\\n',\n",
       " 'Rahul Gandhi has replied to Goa CM Manohar Parrikar\\'s letter, which accused the Congress President of using his \"visit to an ailing man for political gains\". \"He\\'s under immense pressure from the PM after our meeting and needs to demonstrate his loyalty by attacking me,\" Gandhi wrote in his letter. Parrikar had clarified he didn\\'t discuss Rafale deal with Rahul.\\n',\n",
       " 'Twenty-seven-year-old Mohammed Mahuwala was arrested in Indore on Wednesday for allegedly cheating e-commerce giant Amazon of nearly Ã¢Â\\x82Â¹30 lakh. Mahuwala was a member of a gang who ordered costly gadgets from Amazon. \"[They] used to get refund of the amount paid...by saying the parcel...was empty. In reality, these devices were taken out from parcel and sold...to local shopkeepers,\" said police.\\n',\n",
       " 'AgustaWestland chopper scam co-accused Rajiv Saxena was extradited to India from UAE on Wednesday. He had been evading the Enforcement Directorate\\'s summons claiming he was suffering from leukaemia but had moved an anti-money laundering court for anticipatory bail in December, stating he had never been summoned at his Dubai address. Saxena\\'s lawyers alleged he had been \"illegally extradited\". \\n',\n",
       " 'Afghan President Ashraf Ghani has said the \"keys to war\" are in Pakistan\\'s Islamabad, Quetta and Rawalpindi, accusing the country of providing safe havens to militants, including those belonging to the Taliban. Ghani added the \"key to peace was in Afghanistan\". His comments came amid the talks between the US and the Taliban to end the 17-year war in Afghanistan.\\n',\n",
       " \"A Singapore-based insurance agent has been jailed for two years and five months for threatening to harm his clients unless they paid him in bitcoins. The 36-year-old set up an email account, and signed the messages as 'Lord Voldemort', a fictional character from the Harry Potter series. Ye Lin Myint targeted about 33 people, including those who cancelled insurance policies.\\n\",\n",
       " 'Gabrielle Reilly, a 22-year-old US woman, created earrings for her Apple AirPods and put it up for sale online for $20 (about Ã¢Â\\x82Â¹1,500). \"I absolutely refuse to lose them (AirPods)...So I made earrings,\" she explained. The earrings, which took her over an hour to make, debuted in a video on Twitter that has since garnered over three million views.\\n',\n",
       " 'Ex-ICICI Bank CEO Chanda Kochhar said she\\'s \"utterly disappointed, hurt and shocked\" by the bank\\'s decision to terminate her. Kochhar said she served ICICI for 34 years with utmost honesty and integrity and that ultimately truth will prevail. Adding that she hasn\\'t been given a copy of the independent probe report, Kochhar said none of ICICI\\'s credit decisions are unilateral\\n',\n",
       " \"Swedish multinational fast-fashion brand Hennes & Mauritz AB (H&M) has hired Christopher Wylie, the whistleblower who exposed Facebook's Cambridge Analytica data scandal. WylieÃ¢Â\\x80Â\\x99s focus will be to help get better insights on customers, products and markets and support work on sustainable and ethical artificial intelligence, H&M spokesperson said. Wylie is a former employee of Cambridge Analytica.\\n\",\n",
       " 'Micro-blogging platform Twitter is testing a new feature on Android to put news on the top of a user\\'s timeline. \"With this update, weÃ¢Â\\x80Â\\x99re making it easier for people to see news and stories their followers have been discussing,\" Product Manager Walter Gurzynski said. The feature comes alongside a prompt saying, \"Catch up on what\\'s happened while you were away.\"\\n',\n",
       " 'Samsung has started mass producing its one terabyte \\'embedded Universal Flash Storage (eUFS) 2.1\\' technology for \"use in next-generation mobile applications\", which it claims is the industry\\'s first such eUFS. The company added the new eUFS will let smartphones store 260 10-minute videos shot in 4K UHD format. It\\'ll be sized the same as the previous 512GB version, Samsung said.\\n',\n",
       " \"Prime Minister Narendra Modi on Wednesday said the people with 'negative mindset' are questioning him and his government for floating pro-poor schemes. He added negative mindset people are raising doubts about schemes such as building toilets and providing free gas connections to the poor. He further said that negative mentality laced with a vested interest still exists in the country.\\n\",\n",
       " 'Union Minister Anantkumar Hegde took a dig at Congress President Rahul Gandhi by calling him a \"hybrid specimen\" who has no clue about religion. \"A father who\\'s...Muslim, a mother who\\'s...Christian and the son is supposed to be...Brahmin. How is that even possible?\" he said. He added such \"hybrid specimen\" cannot be found in any laboratory in the world.\\n',\n",
       " 'Several parts of the US are set to experience record low temperatures as the polar vortex hit the Upper Midwest, with more than 200 million people expected to experience below-freezing temperatures this week. Temperatures throughout the Upper Midwest are expected to be at least 20-40Ã¢Â\\x84Â\\x89 below zero. Government offices and schools have been closed in several areas.\\n']"
      ]
     },
     "execution_count": 19,
     "metadata": {},
     "output_type": "execute_result"
    }
   ],
   "source": [
    "r = open('news_df.txt', mode='r', encoding='utf-8')\n",
    "r = r.readlines()\n",
    "r = r[0:50] # 50개만 진행해본다\n",
    "r"
   ]
  },
  {
   "cell_type": "code",
   "execution_count": 20,
   "id": "directed-porter",
   "metadata": {},
   "outputs": [
    {
     "name": "stdout",
     "output_type": "stream",
     "text": [
      "Summary:\n",
      "The program and upGrad's 360-degree career support helped him transition to a Data Scientist at Tech Mahindra with 90% salary hike.\n",
      "upGrad's Online Power Learning has powered 3 lakh+ careers.\n",
      "\n",
      "Summary:\n",
      "Users get one CRED coin per rupee of bill paid, which can be used to avail rewards from brands like Ixigo, BookMyShow, UberEats, Cult.Fit and more.\n",
      "\n",
      "Summary:\n",
      "New Zealand defeated India by 8 wickets in the fourth ODI at Hamilton on Thursday to win their first match of the five-match ODI series.\n",
      "The match witnessed India getting all out for 92, their seventh lowest total in ODI cricket history.\n",
      "\n",
      "Summary:\n",
      "Also, customers have options to insure against Critical Illnesses, Disability and Accidental Death Benefit Rider with a life cover up to the age of 80 years.\n",
      "\n",
      "Summary:\n",
      "Speaking about the sexual harassment allegations against Rajkumar Hirani, Sonam Kapoor said, \"I've known Hirani for many years...What if it's not true, the [#MeToo] movement will get derailed.\" \"In the #MeToo movement, I always believe a woman.\n",
      "\n",
      "Summary:\n",
      "Pakistani singer Rahat Fateh Ali Khan has denied receiving any notice from the Enforcement Directorate over allegedly smuggling foreign currency out of India.\n",
      "\n",
      "Summary:\n",
      "India recorded their lowest ODI total in New Zealand after getting all out for 92 runs in 30.5 overs in the fourth ODI at Hamilton on Thursday.\n",
      "India's previous lowest ODI total in New Zealand was 108.\n",
      "\n",
      "Summary:\n",
      "Weeks after ex-CBI Director Alok Verma told the Department of Personnel and Training to consider him retired, the Home Ministry asked him to join work on the last day of his fixed tenure as Director on Thursday.\n",
      "\n",
      "Summary:\n",
      "Andhra Pradesh CM N Chandrababu Naidu has said, \"When I met then US President Bill Clinton, I addressed him as Mr Clinton, not as 'sir'.\n",
      "\n",
      "Summary:\n",
      "Congress candidate Shafia Zubair won the Ramgarh Assembly seat in Rajasthan, by defeating BJP's Sukhwant Singh with a margin of 12,228 votes in the bypoll.\n",
      "\n",
      "Summary:\n",
      "Two minor cousins in Uttar Pradesh's Gorakhpur were allegedly repeatedly burnt with tongs and forced to eat human excreta by their family for being friends with two boys from the same school.\n",
      "\n",
      "Summary:\n",
      "Isha Ghosh, an 81-year-old member of Bharat Scouts and Guides (BSG), has been imparting physical and mental training to schoolchildren in Jharkhand for several decades.\n",
      "\n",
      "Summary:\n",
      "Urging saints and seers at the Kumbh Mela to quit smoking, Yoga guru Ramdev said, \"We follow Ram and Krishna who never smoked in their life then why should we?\" Making them take a pledge to quit tobacco, he collected chillum (clay pipe) from several sadhus.\n",
      "\n",
      "Summary:\n",
      "Former stripper and regional sales director of a pharmaceutical company, Sunrise Lee, gave a doctor a lap dance in a nightclub to persuade him to prescribe an addictive fentanyl spray in 2012, the company's sales representative told a US court.\n",
      "\n",
      "Summary:\n",
      "Reliance Industries' Chairman Mukesh Ambani's daughter Isha Ambani, who got married last month, said she only cried at her 'bidaai' because she felt peer pressure as everyone was crying, especially her parents.\n",
      "\"It was a very emotional affair for everyone in my family,\" said Isha.\n",
      "\n",
      "Summary:\n",
      "Louis Vuitton owner LVMH, which makes high-end beverages like MoÃÂ«t & Chandon champagne and Hennessy cognac, said it's stockpiling four months' worth of wine and spirits in UK in preparation for Brexit.\n",
      "\n",
      "Summary:\n",
      "Filmmaker Karan Johar and actress Tabu turned showstoppers for Gaurav Gupta on the opening night of LakmÃÂ© Fashion Week Summer/ Resort 2019.\n",
      "\n",
      "Summary:\n",
      "\n",
      "\n",
      "Summary:\n",
      "\n",
      "\n",
      "Summary:\n",
      "Union Minister Dharmendra Pradhan on Wednesday claimed the illegal mining mafia in Odisha operates under the control of CM Naveen Patnaik and state Congress chief Niranjan Patnaik.\n",
      "\n",
      "Summary:\n",
      "\n",
      "\n",
      "Summary:\n",
      "The Indian Space Research Organisation on Wednesday unveiled Human Space Flight Centre in Bengaluru for its Ã¢ÂÂ¹10,000-crore manned space mission 'Gaganyaan' scheduled for 2021.\n",
      "It'll also pursue activities for sustained human space flight missions, ISRO added.\n",
      "\n",
      "Summary:\n",
      "At least 12 people have been killed and 170 others have been injured in Saudi Arabia this week due to flooding from heavy rain.\n",
      "\n",
      "Summary:\n",
      "Reliance Industries' Chairman Mukesh Ambani's daughter Isha Ambani has featured on the cover of the February edition of Vogue India.\n",
      "In the cover story on her, Isha has spoken about her work and life after marriage.\n",
      "\n",
      "Summary:\n",
      "\n",
      "\n",
      "Summary:\n",
      "The US had in November granted a six-month waiver to India from sanctions against Iran and restricted the country's monthly intake of Iranian oil to 3,00,000 barrels per day.\n",
      "\n",
      "Summary:\n",
      "\n",
      "\n",
      "Summary:\n",
      "\n",
      "\n",
      "Summary:\n",
      "Ambrose's spell helped his team bowl out Australia for 119 in the first innings, after being 85 for 2 at one point.\n",
      "Ambrose ended with first-innings figures of 18-9-25-7.\n",
      "\n",
      "Summary:\n",
      "\"For those that don't quite require revenge, there's another way to make you feel better about getting back at your ex,\" the zoo said in a statement.\n",
      "The names will appear on zoo's 'roach board' on February 14.\n",
      "\n",
      "Summary:\n",
      "Stand-in captain Rohit Sharma has become the 14th Indian cricketer to play 200 ODIs, achieving the feat after taking the field against New Zealand in fourth ODI at Hamilton on Thursday.\n",
      "Rohit scored 7,799 runs in his first 199 ODIs at an average of 48.14.\n",
      "\n",
      "Summary:\n",
      "Batsman Shubman Gill has become the 227th cricketer to represent India in ODI cricket, achieving the feat against New Zealand in the fourth ODI at Hamilton on Thursday.\n",
      "Notably, Shubman was named Player of the Under-19 World Cup in New Zealand last year.\n",
      "\n",
      "Summary:\n",
      "Investigators searching for a lost plane carrying Argentine forward Emiliano Sala found two seat cushions on French coast that \"likely\" belonged to the aircraft.\n",
      "\n",
      "Summary:\n",
      "Italian third division football side Lucchese's head coach Giancarlo Favarin has been banned for five months for headbutting Alessandria's assistant coach Gaetano Mancino during a brawl following the teams' 2-2 draw on Sunday.\n",
      "\n",
      "Summary:\n",
      "Cyclists taking part in National Track Cycling Championship in Jaipur opted to sleep on the floor inside the stadium instead of hotels over expensive cycles.\n",
      "\n",
      "Summary:\n",
      "Silvia Grecco, a 56-year-old Brazilian mother narrates her local football team Palmeiras' matches live to her 12-year-old blind and autistic son Nickollas from the stands.\n",
      "\n",
      "Summary:\n",
      "A TechCrunch report has claimed that IndiaÃ¢ÂÂs largest bank SBI secured a passwordless server \"overnight\" on being alerted it allowed anyone to access phone numbers, bank balances, and transactions of millions of its customers.\n",
      "\n",
      "Summary:\n",
      "Rahul Gandhi has replied to Goa CM Manohar Parrikar's letter, which accused the Congress President of using his \"visit to an ailing man for political gains\".\n",
      "\n",
      "Summary:\n",
      "Twenty-seven-year-old Mohammed Mahuwala was arrested in Indore on Wednesday for allegedly cheating e-commerce giant Amazon of nearly Ã¢ÂÂ¹30 lakh.\n",
      "Mahuwala was a member of a gang who ordered costly gadgets from Amazon.\n",
      "\n",
      "Summary:\n",
      "AgustaWestland chopper scam co-accused Rajiv Saxena was extradited to India from UAE on Wednesday.\n",
      "Saxena's lawyers alleged he had been \"illegally extradited\".\n",
      "\n",
      "Summary:\n",
      "Afghan President Ashraf Ghani has said the \"keys to war\" are in Pakistan's Islamabad, Quetta and Rawalpindi, accusing the country of providing safe havens to militants, including those belonging to the Taliban.\n",
      "\n",
      "Summary:\n",
      "A Singapore-based insurance agent has been jailed for two years and five months for threatening to harm his clients unless they paid him in bitcoins.\n",
      "\n",
      "Summary:\n",
      "Gabrielle Reilly, a 22-year-old US woman, created earrings for her Apple AirPods and put it up for sale online for $20 (about Ã¢ÂÂ¹1,500).\n",
      "\"I absolutely refuse to lose them (AirPods)...So I made earrings,\" she explained.\n",
      "\n",
      "Summary:\n",
      "Adding that she hasn't been given a copy of the independent probe report, Kochhar said none of ICICI's credit decisions are unilateral\n",
      "\n",
      "Summary:\n",
      "Swedish multinational fast-fashion brand Hennes & Mauritz AB (H&M) has hired Christopher Wylie, the whistleblower who exposed Facebook's Cambridge Analytica data scandal.\n",
      "Wylie is a former employee of Cambridge Analytica.\n",
      "\n",
      "Summary:\n",
      "Micro-blogging platform Twitter is testing a new feature on Android to put news on the top of a user's timeline.\n",
      "The feature comes alongside a prompt saying, \"Catch up on what's happened while you were away.\"\n",
      "\n",
      "Summary:\n",
      "Samsung has started mass producing its one terabyte 'embedded Universal Flash Storage (eUFS) 2.1' technology for \"use in next-generation mobile applications\", which it claims is the industry's first such eUFS.\n",
      "\n",
      "Summary:\n",
      "Prime Minister Narendra Modi on Wednesday said the people with 'negative mindset' are questioning him and his government for floating pro-poor schemes.\n",
      "\n",
      "Summary:\n",
      "Union Minister Anantkumar Hegde took a dig at Congress President Rahul Gandhi by calling him a \"hybrid specimen\" who has no clue about religion.\n",
      "\n",
      "Summary:\n",
      "Several parts of the US are set to experience record low temperatures as the polar vortex hit the Upper Midwest, with more than 200 million people expected to experience below-freezing temperatures this week.\n",
      "\n"
     ]
    }
   ],
   "source": [
    "for i in r:\n",
    "    print('Summary:')\n",
    "    print(summarize(i, words=30) + '\\n')"
   ]
  }
 ],
 "metadata": {
  "kernelspec": {
   "display_name": "Python 3",
   "language": "python",
   "name": "python3"
  },
  "language_info": {
   "codemirror_mode": {
    "name": "ipython",
    "version": 3
   },
   "file_extension": ".py",
   "mimetype": "text/x-python",
   "name": "python",
   "nbconvert_exporter": "python",
   "pygments_lexer": "ipython3",
   "version": "3.7.9"
  }
 },
 "nbformat": 4,
 "nbformat_minor": 5
}
