{
 "cells": [
  {
   "cell_type": "markdown",
   "id": "designing-section",
   "metadata": {},
   "source": [
    "# E9. Recommender System\n",
    "## 1. 데이터 및 라이브러리 불러오기"
   ]
  },
  {
   "cell_type": "code",
   "execution_count": 145,
   "id": "cosmetic-sailing",
   "metadata": {},
   "outputs": [
    {
     "data": {
      "text/html": [
       "<div>\n",
       "<style scoped>\n",
       "    .dataframe tbody tr th:only-of-type {\n",
       "        vertical-align: middle;\n",
       "    }\n",
       "\n",
       "    .dataframe tbody tr th {\n",
       "        vertical-align: top;\n",
       "    }\n",
       "\n",
       "    .dataframe thead th {\n",
       "        text-align: right;\n",
       "    }\n",
       "</style>\n",
       "<table border=\"1\" class=\"dataframe\">\n",
       "  <thead>\n",
       "    <tr style=\"text-align: right;\">\n",
       "      <th></th>\n",
       "      <th>user_id</th>\n",
       "      <th>movie_id</th>\n",
       "      <th>rating</th>\n",
       "      <th>timestamp</th>\n",
       "    </tr>\n",
       "  </thead>\n",
       "  <tbody>\n",
       "    <tr>\n",
       "      <th>0</th>\n",
       "      <td>1</td>\n",
       "      <td>1193</td>\n",
       "      <td>5</td>\n",
       "      <td>978300760</td>\n",
       "    </tr>\n",
       "    <tr>\n",
       "      <th>1</th>\n",
       "      <td>1</td>\n",
       "      <td>661</td>\n",
       "      <td>3</td>\n",
       "      <td>978302109</td>\n",
       "    </tr>\n",
       "    <tr>\n",
       "      <th>2</th>\n",
       "      <td>1</td>\n",
       "      <td>914</td>\n",
       "      <td>3</td>\n",
       "      <td>978301968</td>\n",
       "    </tr>\n",
       "    <tr>\n",
       "      <th>3</th>\n",
       "      <td>1</td>\n",
       "      <td>3408</td>\n",
       "      <td>4</td>\n",
       "      <td>978300275</td>\n",
       "    </tr>\n",
       "    <tr>\n",
       "      <th>4</th>\n",
       "      <td>1</td>\n",
       "      <td>2355</td>\n",
       "      <td>5</td>\n",
       "      <td>978824291</td>\n",
       "    </tr>\n",
       "  </tbody>\n",
       "</table>\n",
       "</div>"
      ],
      "text/plain": [
       "   user_id  movie_id  rating  timestamp\n",
       "0        1      1193       5  978300760\n",
       "1        1       661       3  978302109\n",
       "2        1       914       3  978301968\n",
       "3        1      3408       4  978300275\n",
       "4        1      2355       5  978824291"
      ]
     },
     "execution_count": 145,
     "metadata": {},
     "output_type": "execute_result"
    }
   ],
   "source": [
    "import pandas as pd\n",
    "import os\n",
    "rating_file_path=os.getenv('HOME') + '/aiffel/recommendata_iu/data/ml-1m/ratings.dat'\n",
    "ratings_cols = ['user_id', 'movie_id', 'rating', 'timestamp']\n",
    "ratings = pd.read_csv(rating_file_path, sep='::', names=ratings_cols, engine='python', encoding = \"ISO-8859-1\")\n",
    "orginal_data_size = len(ratings)\n",
    "ratings.head()"
   ]
  },
  {
   "cell_type": "code",
   "execution_count": 146,
   "id": "split-ranking",
   "metadata": {},
   "outputs": [
    {
     "name": "stdout",
     "output_type": "stream",
     "text": [
      "orginal_data_size: 1000209, filtered_data_size: 836478\n",
      "Ratio of Remaining Data is 83.63%\n"
     ]
    }
   ],
   "source": [
    "# 3점 이상만 남깁니다.\n",
    "ratings = ratings[ratings['rating']>=3]\n",
    "filtered_data_size = len(ratings)\n",
    "\n",
    "print(f'orginal_data_size: {orginal_data_size}, filtered_data_size: {filtered_data_size}')\n",
    "print(f'Ratio of Remaining Data is {filtered_data_size / orginal_data_size:.2%}')"
   ]
  },
  {
   "cell_type": "code",
   "execution_count": 147,
   "id": "figured-letter",
   "metadata": {},
   "outputs": [],
   "source": [
    "# rating 컬럼의 이름을 count로 바꿉니다.\n",
    "ratings.rename(columns={'rating':'count'}, inplace=True)"
   ]
  },
  {
   "cell_type": "code",
   "execution_count": 148,
   "id": "decent-arabic",
   "metadata": {},
   "outputs": [
    {
     "data": {
      "text/plain": [
       "0          5\n",
       "1          3\n",
       "2          3\n",
       "3          4\n",
       "4          5\n",
       "          ..\n",
       "1000203    3\n",
       "1000205    5\n",
       "1000206    5\n",
       "1000207    4\n",
       "1000208    4\n",
       "Name: count, Length: 836478, dtype: int64"
      ]
     },
     "execution_count": 148,
     "metadata": {},
     "output_type": "execute_result"
    }
   ],
   "source": [
    "ratings['count']"
   ]
  },
  {
   "cell_type": "code",
   "execution_count": 149,
   "id": "upset-electric",
   "metadata": {},
   "outputs": [
    {
     "data": {
      "text/html": [
       "<div>\n",
       "<style scoped>\n",
       "    .dataframe tbody tr th:only-of-type {\n",
       "        vertical-align: middle;\n",
       "    }\n",
       "\n",
       "    .dataframe tbody tr th {\n",
       "        vertical-align: top;\n",
       "    }\n",
       "\n",
       "    .dataframe thead th {\n",
       "        text-align: right;\n",
       "    }\n",
       "</style>\n",
       "<table border=\"1\" class=\"dataframe\">\n",
       "  <thead>\n",
       "    <tr style=\"text-align: right;\">\n",
       "      <th></th>\n",
       "      <th>movie_id</th>\n",
       "      <th>title</th>\n",
       "      <th>genre</th>\n",
       "    </tr>\n",
       "  </thead>\n",
       "  <tbody>\n",
       "    <tr>\n",
       "      <th>0</th>\n",
       "      <td>1</td>\n",
       "      <td>Toy Story (1995)</td>\n",
       "      <td>Animation|Children's|Comedy</td>\n",
       "    </tr>\n",
       "    <tr>\n",
       "      <th>1</th>\n",
       "      <td>2</td>\n",
       "      <td>Jumanji (1995)</td>\n",
       "      <td>Adventure|Children's|Fantasy</td>\n",
       "    </tr>\n",
       "    <tr>\n",
       "      <th>2</th>\n",
       "      <td>3</td>\n",
       "      <td>Grumpier Old Men (1995)</td>\n",
       "      <td>Comedy|Romance</td>\n",
       "    </tr>\n",
       "    <tr>\n",
       "      <th>3</th>\n",
       "      <td>4</td>\n",
       "      <td>Waiting to Exhale (1995)</td>\n",
       "      <td>Comedy|Drama</td>\n",
       "    </tr>\n",
       "    <tr>\n",
       "      <th>4</th>\n",
       "      <td>5</td>\n",
       "      <td>Father of the Bride Part II (1995)</td>\n",
       "      <td>Comedy</td>\n",
       "    </tr>\n",
       "  </tbody>\n",
       "</table>\n",
       "</div>"
      ],
      "text/plain": [
       "   movie_id                               title                         genre\n",
       "0         1                    Toy Story (1995)   Animation|Children's|Comedy\n",
       "1         2                      Jumanji (1995)  Adventure|Children's|Fantasy\n",
       "2         3             Grumpier Old Men (1995)                Comedy|Romance\n",
       "3         4            Waiting to Exhale (1995)                  Comedy|Drama\n",
       "4         5  Father of the Bride Part II (1995)                        Comedy"
      ]
     },
     "execution_count": 149,
     "metadata": {},
     "output_type": "execute_result"
    }
   ],
   "source": [
    "# 영화 제목을 보기 위해 메타 데이터를 읽어옵니다.\n",
    "movie_file_path=os.getenv('HOME') + '/aiffel/recommendata_iu/data/ml-1m/movies.dat'\n",
    "cols = ['movie_id', 'title', 'genre'] \n",
    "movies = pd.read_csv(movie_file_path, sep='::', names=cols, engine='python', encoding='ISO-8859-1')\n",
    "movies.head()"
   ]
  },
  {
   "cell_type": "code",
   "execution_count": 150,
   "id": "unusual-undergraduate",
   "metadata": {},
   "outputs": [
    {
     "data": {
      "text/html": [
       "<div>\n",
       "<style scoped>\n",
       "    .dataframe tbody tr th:only-of-type {\n",
       "        vertical-align: middle;\n",
       "    }\n",
       "\n",
       "    .dataframe tbody tr th {\n",
       "        vertical-align: top;\n",
       "    }\n",
       "\n",
       "    .dataframe thead th {\n",
       "        text-align: right;\n",
       "    }\n",
       "</style>\n",
       "<table border=\"1\" class=\"dataframe\">\n",
       "  <thead>\n",
       "    <tr style=\"text-align: right;\">\n",
       "      <th></th>\n",
       "      <th>user_id</th>\n",
       "      <th>movie_id</th>\n",
       "      <th>count</th>\n",
       "      <th>timestamp</th>\n",
       "      <th>title</th>\n",
       "      <th>genre</th>\n",
       "    </tr>\n",
       "  </thead>\n",
       "  <tbody>\n",
       "    <tr>\n",
       "      <th>0</th>\n",
       "      <td>1</td>\n",
       "      <td>1193</td>\n",
       "      <td>5</td>\n",
       "      <td>978300760</td>\n",
       "      <td>One Flew Over the Cuckoo's Nest (1975)</td>\n",
       "      <td>Drama</td>\n",
       "    </tr>\n",
       "    <tr>\n",
       "      <th>1</th>\n",
       "      <td>2</td>\n",
       "      <td>1193</td>\n",
       "      <td>5</td>\n",
       "      <td>978298413</td>\n",
       "      <td>One Flew Over the Cuckoo's Nest (1975)</td>\n",
       "      <td>Drama</td>\n",
       "    </tr>\n",
       "    <tr>\n",
       "      <th>2</th>\n",
       "      <td>12</td>\n",
       "      <td>1193</td>\n",
       "      <td>4</td>\n",
       "      <td>978220179</td>\n",
       "      <td>One Flew Over the Cuckoo's Nest (1975)</td>\n",
       "      <td>Drama</td>\n",
       "    </tr>\n",
       "    <tr>\n",
       "      <th>3</th>\n",
       "      <td>15</td>\n",
       "      <td>1193</td>\n",
       "      <td>4</td>\n",
       "      <td>978199279</td>\n",
       "      <td>One Flew Over the Cuckoo's Nest (1975)</td>\n",
       "      <td>Drama</td>\n",
       "    </tr>\n",
       "    <tr>\n",
       "      <th>4</th>\n",
       "      <td>17</td>\n",
       "      <td>1193</td>\n",
       "      <td>5</td>\n",
       "      <td>978158471</td>\n",
       "      <td>One Flew Over the Cuckoo's Nest (1975)</td>\n",
       "      <td>Drama</td>\n",
       "    </tr>\n",
       "    <tr>\n",
       "      <th>...</th>\n",
       "      <td>...</td>\n",
       "      <td>...</td>\n",
       "      <td>...</td>\n",
       "      <td>...</td>\n",
       "      <td>...</td>\n",
       "      <td>...</td>\n",
       "    </tr>\n",
       "    <tr>\n",
       "      <th>836473</th>\n",
       "      <td>5851</td>\n",
       "      <td>3607</td>\n",
       "      <td>5</td>\n",
       "      <td>957756608</td>\n",
       "      <td>One Little Indian (1973)</td>\n",
       "      <td>Comedy|Drama|Western</td>\n",
       "    </tr>\n",
       "    <tr>\n",
       "      <th>836474</th>\n",
       "      <td>5854</td>\n",
       "      <td>3026</td>\n",
       "      <td>4</td>\n",
       "      <td>958346883</td>\n",
       "      <td>Slaughterhouse (1987)</td>\n",
       "      <td>Horror</td>\n",
       "    </tr>\n",
       "    <tr>\n",
       "      <th>836475</th>\n",
       "      <td>5854</td>\n",
       "      <td>690</td>\n",
       "      <td>3</td>\n",
       "      <td>957744257</td>\n",
       "      <td>Promise, The (Versprechen, Das) (1994)</td>\n",
       "      <td>Romance</td>\n",
       "    </tr>\n",
       "    <tr>\n",
       "      <th>836476</th>\n",
       "      <td>5938</td>\n",
       "      <td>2909</td>\n",
       "      <td>4</td>\n",
       "      <td>957273353</td>\n",
       "      <td>Five Wives, Three Secretaries and Me (1998)</td>\n",
       "      <td>Documentary</td>\n",
       "    </tr>\n",
       "    <tr>\n",
       "      <th>836477</th>\n",
       "      <td>5948</td>\n",
       "      <td>1360</td>\n",
       "      <td>5</td>\n",
       "      <td>1016563709</td>\n",
       "      <td>Identification of a Woman (Identificazione di ...</td>\n",
       "      <td>Drama</td>\n",
       "    </tr>\n",
       "  </tbody>\n",
       "</table>\n",
       "<p>836478 rows × 6 columns</p>\n",
       "</div>"
      ],
      "text/plain": [
       "        user_id  movie_id  count   timestamp  \\\n",
       "0             1      1193      5   978300760   \n",
       "1             2      1193      5   978298413   \n",
       "2            12      1193      4   978220179   \n",
       "3            15      1193      4   978199279   \n",
       "4            17      1193      5   978158471   \n",
       "...         ...       ...    ...         ...   \n",
       "836473     5851      3607      5   957756608   \n",
       "836474     5854      3026      4   958346883   \n",
       "836475     5854       690      3   957744257   \n",
       "836476     5938      2909      4   957273353   \n",
       "836477     5948      1360      5  1016563709   \n",
       "\n",
       "                                                    title  \\\n",
       "0                  One Flew Over the Cuckoo's Nest (1975)   \n",
       "1                  One Flew Over the Cuckoo's Nest (1975)   \n",
       "2                  One Flew Over the Cuckoo's Nest (1975)   \n",
       "3                  One Flew Over the Cuckoo's Nest (1975)   \n",
       "4                  One Flew Over the Cuckoo's Nest (1975)   \n",
       "...                                                   ...   \n",
       "836473                           One Little Indian (1973)   \n",
       "836474                              Slaughterhouse (1987)   \n",
       "836475             Promise, The (Versprechen, Das) (1994)   \n",
       "836476        Five Wives, Three Secretaries and Me (1998)   \n",
       "836477  Identification of a Woman (Identificazione di ...   \n",
       "\n",
       "                       genre  \n",
       "0                      Drama  \n",
       "1                      Drama  \n",
       "2                      Drama  \n",
       "3                      Drama  \n",
       "4                      Drama  \n",
       "...                      ...  \n",
       "836473  Comedy|Drama|Western  \n",
       "836474                Horror  \n",
       "836475               Romance  \n",
       "836476           Documentary  \n",
       "836477                 Drama  \n",
       "\n",
       "[836478 rows x 6 columns]"
      ]
     },
     "execution_count": 150,
     "metadata": {},
     "output_type": "execute_result"
    }
   ],
   "source": [
    "ratings = pd.merge(ratings, movies)\n",
    "ratings"
   ]
  },
  {
   "cell_type": "code",
   "execution_count": 151,
   "id": "based-klein",
   "metadata": {},
   "outputs": [
    {
     "data": {
      "text/plain": [
       "3628"
      ]
     },
     "execution_count": 151,
     "metadata": {},
     "output_type": "execute_result"
    }
   ],
   "source": [
    "# 분석 1 - ratings에 있는 유니크한 영화 개수\n",
    "ratings['movie_id'].nunique()"
   ]
  },
  {
   "cell_type": "code",
   "execution_count": 152,
   "id": "involved-crime",
   "metadata": {},
   "outputs": [
    {
     "data": {
      "text/plain": [
       "6039"
      ]
     },
     "execution_count": 152,
     "metadata": {},
     "output_type": "execute_result"
    }
   ],
   "source": [
    "# 분석 2 - rating에 있는 유니크한 사용자 수\n",
    "ratings['user_id'].nunique()"
   ]
  },
  {
   "cell_type": "code",
   "execution_count": 153,
   "id": "attractive-bryan",
   "metadata": {},
   "outputs": [
    {
     "data": {
      "text/plain": [
       "title\n",
       "American Beauty (1999)                                   3211\n",
       "Star Wars: Episode IV - A New Hope (1977)                2910\n",
       "Star Wars: Episode V - The Empire Strikes Back (1980)    2885\n",
       "Star Wars: Episode VI - Return of the Jedi (1983)        2716\n",
       "Saving Private Ryan (1998)                               2561\n",
       "Terminator 2: Judgment Day (1991)                        2509\n",
       "Silence of the Lambs, The (1991)                         2498\n",
       "Raiders of the Lost Ark (1981)                           2473\n",
       "Back to the Future (1985)                                2460\n",
       "Matrix, The (1999)                                       2434\n",
       "Jurassic Park (1993)                                     2413\n",
       "Sixth Sense, The (1999)                                  2385\n",
       "Fargo (1996)                                             2371\n",
       "Braveheart (1995)                                        2314\n",
       "Men in Black (1997)                                      2297\n",
       "Schindler's List (1993)                                  2257\n",
       "Princess Bride, The (1987)                               2252\n",
       "Shakespeare in Love (1998)                               2213\n",
       "L.A. Confidential (1997)                                 2210\n",
       "Shawshank Redemption, The (1994)                         2194\n",
       "Godfather, The (1972)                                    2167\n",
       "Groundhog Day (1993)                                     2121\n",
       "E.T. the Extra-Terrestrial (1982)                        2102\n",
       "Being John Malkovich (1999)                              2066\n",
       "Ghostbusters (1984)                                      2051\n",
       "Pulp Fiction (1994)                                      2030\n",
       "Forrest Gump (1994)                                      2022\n",
       "Terminator, The (1984)                                   2019\n",
       "Toy Story (1995)                                         2000\n",
       "Fugitive, The (1993)                                     1941\n",
       "Name: user_id, dtype: int64"
      ]
     },
     "execution_count": 153,
     "metadata": {},
     "output_type": "execute_result"
    }
   ],
   "source": [
    "# 분석 3 - 가장 인기 있는 영화 30개(인기순)\n",
    "movie_count = ratings.groupby('title')['user_id'].count()\n",
    "movie_count.sort_values(ascending=False).head(30)"
   ]
  },
  {
   "cell_type": "code",
   "execution_count": 154,
   "id": "distributed-calcium",
   "metadata": {},
   "outputs": [
    {
     "data": {
      "text/plain": [
       "count    6039.000000\n",
       "mean      138.512668\n",
       "std       156.241599\n",
       "min         1.000000\n",
       "25%        38.000000\n",
       "50%        81.000000\n",
       "75%       177.000000\n",
       "max      1968.000000\n",
       "Name: movie_id, dtype: float64"
      ]
     },
     "execution_count": 154,
     "metadata": {},
     "output_type": "execute_result"
    }
   ],
   "source": [
    "# 유저별 영화 시청 통계\n",
    "user_count = ratings.groupby('user_id')['movie_id'].count()\n",
    "user_count.describe()"
   ]
  },
  {
   "cell_type": "code",
   "execution_count": 156,
   "id": "attempted-german",
   "metadata": {},
   "outputs": [
    {
     "data": {
      "text/html": [
       "<div>\n",
       "<style scoped>\n",
       "    .dataframe tbody tr th:only-of-type {\n",
       "        vertical-align: middle;\n",
       "    }\n",
       "\n",
       "    .dataframe tbody tr th {\n",
       "        vertical-align: top;\n",
       "    }\n",
       "\n",
       "    .dataframe thead th {\n",
       "        text-align: right;\n",
       "    }\n",
       "</style>\n",
       "<table border=\"1\" class=\"dataframe\">\n",
       "  <thead>\n",
       "    <tr style=\"text-align: right;\">\n",
       "      <th></th>\n",
       "      <th>user_id</th>\n",
       "      <th>movie_id</th>\n",
       "      <th>count</th>\n",
       "      <th>timestamp</th>\n",
       "      <th>title</th>\n",
       "      <th>genre</th>\n",
       "    </tr>\n",
       "  </thead>\n",
       "  <tbody>\n",
       "    <tr>\n",
       "      <th>836473</th>\n",
       "      <td>5851</td>\n",
       "      <td>3607</td>\n",
       "      <td>5</td>\n",
       "      <td>9.577566e+08</td>\n",
       "      <td>One Little Indian (1973)</td>\n",
       "      <td>Comedy|Drama|Western</td>\n",
       "    </tr>\n",
       "    <tr>\n",
       "      <th>836474</th>\n",
       "      <td>5854</td>\n",
       "      <td>3026</td>\n",
       "      <td>4</td>\n",
       "      <td>9.583469e+08</td>\n",
       "      <td>Slaughterhouse (1987)</td>\n",
       "      <td>Horror</td>\n",
       "    </tr>\n",
       "    <tr>\n",
       "      <th>836475</th>\n",
       "      <td>5854</td>\n",
       "      <td>690</td>\n",
       "      <td>3</td>\n",
       "      <td>9.577443e+08</td>\n",
       "      <td>Promise, The (Versprechen, Das) (1994)</td>\n",
       "      <td>Romance</td>\n",
       "    </tr>\n",
       "    <tr>\n",
       "      <th>836476</th>\n",
       "      <td>5938</td>\n",
       "      <td>2909</td>\n",
       "      <td>4</td>\n",
       "      <td>9.572734e+08</td>\n",
       "      <td>Five Wives, Three Secretaries and Me (1998)</td>\n",
       "      <td>Documentary</td>\n",
       "    </tr>\n",
       "    <tr>\n",
       "      <th>836477</th>\n",
       "      <td>5948</td>\n",
       "      <td>1360</td>\n",
       "      <td>5</td>\n",
       "      <td>1.016564e+09</td>\n",
       "      <td>Identification of a Woman (Identificazione di ...</td>\n",
       "      <td>Drama</td>\n",
       "    </tr>\n",
       "    <tr>\n",
       "      <th>0</th>\n",
       "      <td>woongcheol</td>\n",
       "      <td>2019</td>\n",
       "      <td>4</td>\n",
       "      <td>NaN</td>\n",
       "      <td>Seven Samurai (The Magnificent Seven) (Shichin...</td>\n",
       "      <td>NaN</td>\n",
       "    </tr>\n",
       "    <tr>\n",
       "      <th>1</th>\n",
       "      <td>woongcheol</td>\n",
       "      <td>2000</td>\n",
       "      <td>4</td>\n",
       "      <td>NaN</td>\n",
       "      <td>Lethal Weapon (1987)</td>\n",
       "      <td>NaN</td>\n",
       "    </tr>\n",
       "    <tr>\n",
       "      <th>2</th>\n",
       "      <td>woongcheol</td>\n",
       "      <td>2102</td>\n",
       "      <td>4</td>\n",
       "      <td>NaN</td>\n",
       "      <td>Steamboat Willie (1940)</td>\n",
       "      <td>NaN</td>\n",
       "    </tr>\n",
       "    <tr>\n",
       "      <th>3</th>\n",
       "      <td>woongcheol</td>\n",
       "      <td>2297</td>\n",
       "      <td>4</td>\n",
       "      <td>NaN</td>\n",
       "      <td>What Dreams May Come (1998)</td>\n",
       "      <td>NaN</td>\n",
       "    </tr>\n",
       "    <tr>\n",
       "      <th>4</th>\n",
       "      <td>woongcheol</td>\n",
       "      <td>2022</td>\n",
       "      <td>4</td>\n",
       "      <td>NaN</td>\n",
       "      <td>Last Temptation of Christ, The (1988)</td>\n",
       "      <td>NaN</td>\n",
       "    </tr>\n",
       "  </tbody>\n",
       "</table>\n",
       "</div>"
      ],
      "text/plain": [
       "           user_id  movie_id  count     timestamp  \\\n",
       "836473        5851      3607      5  9.577566e+08   \n",
       "836474        5854      3026      4  9.583469e+08   \n",
       "836475        5854       690      3  9.577443e+08   \n",
       "836476        5938      2909      4  9.572734e+08   \n",
       "836477        5948      1360      5  1.016564e+09   \n",
       "0       woongcheol      2019      4           NaN   \n",
       "1       woongcheol      2000      4           NaN   \n",
       "2       woongcheol      2102      4           NaN   \n",
       "3       woongcheol      2297      4           NaN   \n",
       "4       woongcheol      2022      4           NaN   \n",
       "\n",
       "                                                    title  \\\n",
       "836473                           One Little Indian (1973)   \n",
       "836474                              Slaughterhouse (1987)   \n",
       "836475             Promise, The (Versprechen, Das) (1994)   \n",
       "836476        Five Wives, Three Secretaries and Me (1998)   \n",
       "836477  Identification of a Woman (Identificazione di ...   \n",
       "0       Seven Samurai (The Magnificent Seven) (Shichin...   \n",
       "1                                    Lethal Weapon (1987)   \n",
       "2                                 Steamboat Willie (1940)   \n",
       "3                             What Dreams May Come (1998)   \n",
       "4                   Last Temptation of Christ, The (1988)   \n",
       "\n",
       "                       genre  \n",
       "836473  Comedy|Drama|Western  \n",
       "836474                Horror  \n",
       "836475               Romance  \n",
       "836476           Documentary  \n",
       "836477                 Drama  \n",
       "0                        NaN  \n",
       "1                        NaN  \n",
       "2                        NaN  \n",
       "3                        NaN  \n",
       "4                        NaN  "
      ]
     },
     "execution_count": 156,
     "metadata": {},
     "output_type": "execute_result"
    }
   ],
   "source": [
    "# 좋아하는 영화에 대한 id와 title list\n",
    "my_favorite = [2019, 2000, 2102, 2297, 2022]\n",
    "\n",
    "my_favorite_title = []\n",
    "for i in my_favorite:\n",
    "    my_favorite_title.extend(list(movies[movies['movie_id'] == i]['title']))\n",
    "\n",
    "# 'woongcheol'의 user_id가 위 영화 5편을 5번 시청한 것으로 가정\n",
    "my_movielist = pd.DataFrame({'user_id': ['woongcheol']*5, 'movie_id': my_favorite, 'count': [4]*5, 'title': my_favorite_title})\n",
    "\n",
    "if not ratings.isin({'user_id':['woongcheol']})['user_id'].any():  # user_id 데이터 중복여부 확인\n",
    "    ratings = ratings.append(my_movielist) \n",
    "\n",
    "ratings.tail(10)"
   ]
  },
  {
   "cell_type": "code",
   "execution_count": 157,
   "id": "quality-civilian",
   "metadata": {},
   "outputs": [
    {
     "data": {
      "text/html": [
       "<div>\n",
       "<style scoped>\n",
       "    .dataframe tbody tr th:only-of-type {\n",
       "        vertical-align: middle;\n",
       "    }\n",
       "\n",
       "    .dataframe tbody tr th {\n",
       "        vertical-align: top;\n",
       "    }\n",
       "\n",
       "    .dataframe thead th {\n",
       "        text-align: right;\n",
       "    }\n",
       "</style>\n",
       "<table border=\"1\" class=\"dataframe\">\n",
       "  <thead>\n",
       "    <tr style=\"text-align: right;\">\n",
       "      <th></th>\n",
       "      <th>user_id</th>\n",
       "      <th>count</th>\n",
       "      <th>movie_id</th>\n",
       "      <th>title</th>\n",
       "    </tr>\n",
       "  </thead>\n",
       "  <tbody>\n",
       "    <tr>\n",
       "      <th>0</th>\n",
       "      <td>1</td>\n",
       "      <td>5</td>\n",
       "      <td>1193</td>\n",
       "      <td>One Flew Over the Cuckoo's Nest (1975)</td>\n",
       "    </tr>\n",
       "    <tr>\n",
       "      <th>1</th>\n",
       "      <td>2</td>\n",
       "      <td>5</td>\n",
       "      <td>1193</td>\n",
       "      <td>One Flew Over the Cuckoo's Nest (1975)</td>\n",
       "    </tr>\n",
       "    <tr>\n",
       "      <th>2</th>\n",
       "      <td>12</td>\n",
       "      <td>4</td>\n",
       "      <td>1193</td>\n",
       "      <td>One Flew Over the Cuckoo's Nest (1975)</td>\n",
       "    </tr>\n",
       "    <tr>\n",
       "      <th>3</th>\n",
       "      <td>15</td>\n",
       "      <td>4</td>\n",
       "      <td>1193</td>\n",
       "      <td>One Flew Over the Cuckoo's Nest (1975)</td>\n",
       "    </tr>\n",
       "    <tr>\n",
       "      <th>4</th>\n",
       "      <td>17</td>\n",
       "      <td>5</td>\n",
       "      <td>1193</td>\n",
       "      <td>One Flew Over the Cuckoo's Nest (1975)</td>\n",
       "    </tr>\n",
       "    <tr>\n",
       "      <th>5</th>\n",
       "      <td>18</td>\n",
       "      <td>4</td>\n",
       "      <td>1193</td>\n",
       "      <td>One Flew Over the Cuckoo's Nest (1975)</td>\n",
       "    </tr>\n",
       "    <tr>\n",
       "      <th>6</th>\n",
       "      <td>19</td>\n",
       "      <td>5</td>\n",
       "      <td>1193</td>\n",
       "      <td>One Flew Over the Cuckoo's Nest (1975)</td>\n",
       "    </tr>\n",
       "    <tr>\n",
       "      <th>7</th>\n",
       "      <td>24</td>\n",
       "      <td>5</td>\n",
       "      <td>1193</td>\n",
       "      <td>One Flew Over the Cuckoo's Nest (1975)</td>\n",
       "    </tr>\n",
       "    <tr>\n",
       "      <th>8</th>\n",
       "      <td>28</td>\n",
       "      <td>3</td>\n",
       "      <td>1193</td>\n",
       "      <td>One Flew Over the Cuckoo's Nest (1975)</td>\n",
       "    </tr>\n",
       "    <tr>\n",
       "      <th>9</th>\n",
       "      <td>33</td>\n",
       "      <td>5</td>\n",
       "      <td>1193</td>\n",
       "      <td>One Flew Over the Cuckoo's Nest (1975)</td>\n",
       "    </tr>\n",
       "  </tbody>\n",
       "</table>\n",
       "</div>"
      ],
      "text/plain": [
       "  user_id  count  movie_id                                   title\n",
       "0       1      5      1193  One Flew Over the Cuckoo's Nest (1975)\n",
       "1       2      5      1193  One Flew Over the Cuckoo's Nest (1975)\n",
       "2      12      4      1193  One Flew Over the Cuckoo's Nest (1975)\n",
       "3      15      4      1193  One Flew Over the Cuckoo's Nest (1975)\n",
       "4      17      5      1193  One Flew Over the Cuckoo's Nest (1975)\n",
       "5      18      4      1193  One Flew Over the Cuckoo's Nest (1975)\n",
       "6      19      5      1193  One Flew Over the Cuckoo's Nest (1975)\n",
       "7      24      5      1193  One Flew Over the Cuckoo's Nest (1975)\n",
       "8      28      3      1193  One Flew Over the Cuckoo's Nest (1975)\n",
       "9      33      5      1193  One Flew Over the Cuckoo's Nest (1975)"
      ]
     },
     "execution_count": 157,
     "metadata": {},
     "output_type": "execute_result"
    }
   ],
   "source": [
    "# 사용하는 컬럼만 분류\n",
    "using_cols = ['user_id', 'count', 'movie_id', 'title']\n",
    "ratings = ratings[using_cols]\n",
    "ratings.head(10)"
   ]
  },
  {
   "cell_type": "code",
   "execution_count": 158,
   "id": "altered-acoustic",
   "metadata": {},
   "outputs": [],
   "source": [
    "# 고유한 유저, 아티스트를 찾아내는 코드\n",
    "user_unique = ratings['user_id'].unique()\n",
    "movie_unique = ratings['title'].unique()\n",
    "\n",
    "# 유저, 아티스트 indexing 하는 코드 idx는 index의 약자입니다.\n",
    "user_to_idx = {v:k for k,v in enumerate(user_unique)}\n",
    "movie_to_idx = {v:k for k,v in enumerate(movie_unique)}"
   ]
  },
  {
   "cell_type": "code",
   "execution_count": 160,
   "id": "medieval-bracelet",
   "metadata": {},
   "outputs": [
    {
     "name": "stdout",
     "output_type": "stream",
     "text": [
      "6039\n",
      "200\n"
     ]
    }
   ],
   "source": [
    "# 인덱싱 확인\n",
    "print(user_to_idx['woongcheol'])\n",
    "print(movie_to_idx['Terminator, The (1984)'])"
   ]
  },
  {
   "cell_type": "code",
   "execution_count": 166,
   "id": "beautiful-organ",
   "metadata": {},
   "outputs": [
    {
     "name": "stdout",
     "output_type": "stream",
     "text": [
      "user_id column indexing Fail!!\n",
      "title column indexing OK!!\n"
     ]
    },
    {
     "data": {
      "text/html": [
       "<div>\n",
       "<style scoped>\n",
       "    .dataframe tbody tr th:only-of-type {\n",
       "        vertical-align: middle;\n",
       "    }\n",
       "\n",
       "    .dataframe tbody tr th {\n",
       "        vertical-align: top;\n",
       "    }\n",
       "\n",
       "    .dataframe thead th {\n",
       "        text-align: right;\n",
       "    }\n",
       "</style>\n",
       "<table border=\"1\" class=\"dataframe\">\n",
       "  <thead>\n",
       "    <tr style=\"text-align: right;\">\n",
       "      <th></th>\n",
       "      <th>user_id</th>\n",
       "      <th>count</th>\n",
       "      <th>movie_id</th>\n",
       "      <th>title</th>\n",
       "    </tr>\n",
       "  </thead>\n",
       "  <tbody>\n",
       "    <tr>\n",
       "      <th>0</th>\n",
       "      <td>0</td>\n",
       "      <td>5</td>\n",
       "      <td>1193</td>\n",
       "      <td>0</td>\n",
       "    </tr>\n",
       "    <tr>\n",
       "      <th>1</th>\n",
       "      <td>1</td>\n",
       "      <td>5</td>\n",
       "      <td>1193</td>\n",
       "      <td>0</td>\n",
       "    </tr>\n",
       "    <tr>\n",
       "      <th>2</th>\n",
       "      <td>2</td>\n",
       "      <td>4</td>\n",
       "      <td>1193</td>\n",
       "      <td>0</td>\n",
       "    </tr>\n",
       "    <tr>\n",
       "      <th>3</th>\n",
       "      <td>3</td>\n",
       "      <td>4</td>\n",
       "      <td>1193</td>\n",
       "      <td>0</td>\n",
       "    </tr>\n",
       "    <tr>\n",
       "      <th>4</th>\n",
       "      <td>4</td>\n",
       "      <td>5</td>\n",
       "      <td>1193</td>\n",
       "      <td>0</td>\n",
       "    </tr>\n",
       "    <tr>\n",
       "      <th>...</th>\n",
       "      <td>...</td>\n",
       "      <td>...</td>\n",
       "      <td>...</td>\n",
       "      <td>...</td>\n",
       "    </tr>\n",
       "    <tr>\n",
       "      <th>0</th>\n",
       "      <td>6039</td>\n",
       "      <td>4</td>\n",
       "      <td>2019</td>\n",
       "      <td>980</td>\n",
       "    </tr>\n",
       "    <tr>\n",
       "      <th>1</th>\n",
       "      <td>6039</td>\n",
       "      <td>4</td>\n",
       "      <td>2000</td>\n",
       "      <td>648</td>\n",
       "    </tr>\n",
       "    <tr>\n",
       "      <th>2</th>\n",
       "      <td>6039</td>\n",
       "      <td>4</td>\n",
       "      <td>2102</td>\n",
       "      <td>2077</td>\n",
       "    </tr>\n",
       "    <tr>\n",
       "      <th>3</th>\n",
       "      <td>6039</td>\n",
       "      <td>4</td>\n",
       "      <td>2297</td>\n",
       "      <td>418</td>\n",
       "    </tr>\n",
       "    <tr>\n",
       "      <th>4</th>\n",
       "      <td>6039</td>\n",
       "      <td>4</td>\n",
       "      <td>2022</td>\n",
       "      <td>2446</td>\n",
       "    </tr>\n",
       "  </tbody>\n",
       "</table>\n",
       "<p>836483 rows × 4 columns</p>\n",
       "</div>"
      ],
      "text/plain": [
       "    user_id  count  movie_id  title\n",
       "0         0      5      1193      0\n",
       "1         1      5      1193      0\n",
       "2         2      4      1193      0\n",
       "3         3      4      1193      0\n",
       "4         4      5      1193      0\n",
       "..      ...    ...       ...    ...\n",
       "0      6039      4      2019    980\n",
       "1      6039      4      2000    648\n",
       "2      6039      4      2102   2077\n",
       "3      6039      4      2297    418\n",
       "4      6039      4      2022   2446\n",
       "\n",
       "[836483 rows x 4 columns]"
      ]
     },
     "execution_count": 166,
     "metadata": {},
     "output_type": "execute_result"
    }
   ],
   "source": [
    "# indexing을 통해 데이터 컬럼 내 값을 바꾸는 코드\n",
    "# dictionary 자료형의 get 함수는 https://wikidocs.net/16 을 참고하세요.\n",
    "\n",
    "# user_to_idx.get을 통해 user_id 컬럼의 모든 값을 인덱싱한 Series를 구해 봅시다. \n",
    "# 혹시 정상적으로 인덱싱되지 않은 row가 있다면 인덱스가 NaN이 될 테니 dropna()로 제거합니다. \n",
    "temp_user_data = ratings['user_id'].map(user_to_idx.get).dropna()\n",
    "if len(temp_user_data) == len(ratings):   # 모든 row가 정상적으로 인덱싱되었다면\n",
    "    print('user_id column indexing OK!!')\n",
    "    ratings['user_id'] = temp_user_data   # data['user_id']을 인덱싱된 Series로 교체해 줍니다. \n",
    "else:\n",
    "    print('user_id column indexing Fail!!')\n",
    "\n",
    "# movie_to_idx을 통해 title 컬럼도 동일한 방식으로 인덱싱해 줍니다. \n",
    "temp_movie_data = ratings['title'].map(movie_to_idx.get).dropna()\n",
    "if len(temp_movie_data) == len(ratings):\n",
    "    print('title column indexing OK!!')\n",
    "    ratings['title'] = temp_movie_data\n",
    "else:\n",
    "    print('title column indexing Fail!!')\n",
    "\n",
    "ratings"
   ]
  },
  {
   "cell_type": "markdown",
   "id": "ceramic-clear",
   "metadata": {},
   "source": [
    "## 2. Matrix Factorization(MF)"
   ]
  },
  {
   "cell_type": "code",
   "execution_count": 167,
   "id": "cardiovascular-mustang",
   "metadata": {},
   "outputs": [
    {
     "data": {
      "text/plain": [
       "6040"
      ]
     },
     "execution_count": 167,
     "metadata": {},
     "output_type": "execute_result"
    }
   ],
   "source": [
    "num_user = ratings['user_id'].nunique()\n",
    "num_user"
   ]
  },
  {
   "cell_type": "code",
   "execution_count": 177,
   "id": "impressive-aside",
   "metadata": {},
   "outputs": [
    {
     "data": {
      "text/plain": [
       "3628"
      ]
     },
     "execution_count": 177,
     "metadata": {},
     "output_type": "execute_result"
    }
   ],
   "source": [
    "num_artist = ratings['title'].nunique()\n",
    "num_artist"
   ]
  },
  {
   "cell_type": "code",
   "execution_count": 169,
   "id": "antique-amplifier",
   "metadata": {},
   "outputs": [
    {
     "data": {
      "text/plain": [
       "0    5\n",
       "1    5\n",
       "2    4\n",
       "3    4\n",
       "4    5\n",
       "    ..\n",
       "0    4\n",
       "1    4\n",
       "2    4\n",
       "3    4\n",
       "4    4\n",
       "Name: count, Length: 836483, dtype: int64"
      ]
     },
     "execution_count": 169,
     "metadata": {},
     "output_type": "execute_result"
    }
   ],
   "source": [
    "ratings['count']"
   ]
  },
  {
   "cell_type": "code",
   "execution_count": 170,
   "id": "printable-relevance",
   "metadata": {},
   "outputs": [
    {
     "data": {
      "text/plain": [
       "0       0\n",
       "1       1\n",
       "2       2\n",
       "3       3\n",
       "4       4\n",
       "     ... \n",
       "0    6039\n",
       "1    6039\n",
       "2    6039\n",
       "3    6039\n",
       "4    6039\n",
       "Name: user_id, Length: 836483, dtype: int64"
      ]
     },
     "execution_count": 170,
     "metadata": {},
     "output_type": "execute_result"
    }
   ],
   "source": [
    "ratings.user_id"
   ]
  },
  {
   "cell_type": "code",
   "execution_count": 175,
   "id": "inside-masters",
   "metadata": {},
   "outputs": [
    {
     "data": {
      "text/plain": [
       "0    1193\n",
       "1    1193\n",
       "2    1193\n",
       "3    1193\n",
       "4    1193\n",
       "     ... \n",
       "0    2019\n",
       "1    2000\n",
       "2    2102\n",
       "3    2297\n",
       "4    2022\n",
       "Name: movie_id, Length: 836483, dtype: int64"
      ]
     },
     "execution_count": 175,
     "metadata": {},
     "output_type": "execute_result"
    }
   ],
   "source": [
    "ratings.movie_id"
   ]
  },
  {
   "cell_type": "code",
   "execution_count": 174,
   "id": "universal-arrow",
   "metadata": {},
   "outputs": [
    {
     "data": {
      "text/plain": [
       "0       0\n",
       "1       0\n",
       "2       0\n",
       "3       0\n",
       "4       0\n",
       "     ... \n",
       "0     980\n",
       "1     648\n",
       "2    2077\n",
       "3     418\n",
       "4    2446\n",
       "Name: title, Length: 836483, dtype: int64"
      ]
     },
     "execution_count": 174,
     "metadata": {},
     "output_type": "execute_result"
    }
   ],
   "source": [
    "ratings.title"
   ]
  },
  {
   "cell_type": "code",
   "execution_count": 178,
   "id": "unique-facility",
   "metadata": {},
   "outputs": [
    {
     "data": {
      "text/plain": [
       "<6040x3628 sparse matrix of type '<class 'numpy.longlong'>'\n",
       "\twith 836483 stored elements in Compressed Sparse Row format>"
      ]
     },
     "execution_count": 178,
     "metadata": {},
     "output_type": "execute_result"
    }
   ],
   "source": [
    "from scipy.sparse import csr_matrix\n",
    "\n",
    "num_user = ratings['user_id'].nunique()\n",
    "num_movie = ratings['title'].nunique()\n",
    "\n",
    "csr_ratings = csr_matrix((ratings['count'], (ratings.user_id, ratings.title)), shape= (num_user, num_movie))\n",
    "csr_ratings"
   ]
  },
  {
   "cell_type": "code",
   "execution_count": 179,
   "id": "random-philip",
   "metadata": {},
   "outputs": [],
   "source": [
    "from implicit.als import AlternatingLeastSquares\n",
    "import os\n",
    "import numpy as np\n",
    "\n",
    "# implicit 라이브러리에서 권장하고 있는 부분입니다. 학습 내용과는 무관합니다.\n",
    "os.environ['OPENBLAS_NUM_THREADS']='1'\n",
    "os.environ['KMP_DUPLICATE_LIB_OK']='True'\n",
    "os.environ['MKL_NUM_THREADS']='1'"
   ]
  },
  {
   "cell_type": "code",
   "execution_count": 180,
   "id": "fabulous-analysis",
   "metadata": {},
   "outputs": [],
   "source": [
    "# Implicit AlternatingLeastSquares 모델의 선언\n",
    "als_model = AlternatingLeastSquares(factors=100, regularization=0.01, use_gpu=False, iterations=15, dtype=np.float32)"
   ]
  },
  {
   "cell_type": "code",
   "execution_count": 182,
   "id": "married-young",
   "metadata": {},
   "outputs": [
    {
     "data": {
      "text/plain": [
       "<3628x6040 sparse matrix of type '<class 'numpy.longlong'>'\n",
       "\twith 836483 stored elements in Compressed Sparse Column format>"
      ]
     },
     "execution_count": 182,
     "metadata": {},
     "output_type": "execute_result"
    }
   ],
   "source": [
    "# als 모델은 input으로 (item X user 꼴의 matrix를 받기 때문에 Transpose해줍니다.)\n",
    "csr_ratings_transpose = csr_ratings.T\n",
    "csr_ratings_transpose"
   ]
  },
  {
   "cell_type": "code",
   "execution_count": 183,
   "id": "competent-tattoo",
   "metadata": {},
   "outputs": [
    {
     "data": {
      "application/vnd.jupyter.widget-view+json": {
       "model_id": "21d2fc3251f7409d99bdddbdc0e5752b",
       "version_major": 2,
       "version_minor": 0
      },
      "text/plain": [
       "  0%|          | 0/15 [00:00<?, ?it/s]"
      ]
     },
     "metadata": {},
     "output_type": "display_data"
    }
   ],
   "source": [
    "# 모델 훈련\n",
    "als_model.fit(csr_ratings_transpose)"
   ]
  },
  {
   "cell_type": "code",
   "execution_count": 187,
   "id": "rising-bullet",
   "metadata": {},
   "outputs": [
    {
     "name": "stdout",
     "output_type": "stream",
     "text": [
      "슝=3\n"
     ]
    }
   ],
   "source": [
    "woongcheol, terminator = user_to_idx['woongcheol'], movie_to_idx['Terminator, The (1984)']\n",
    "woongcheol_vector, terminator_vector = als_model.user_factors[woongcheol], als_model.item_factors[terminator]"
   ]
  },
  {
   "cell_type": "code",
   "execution_count": 189,
   "id": "adaptive-bacteria",
   "metadata": {},
   "outputs": [
    {
     "data": {
      "text/plain": [
       "array([ 0.35026455, -0.3190053 , -0.5983445 , -0.21973148,  0.26837584,\n",
       "       -0.10682967,  0.04717714,  0.02873887,  0.69866985, -0.12273936,\n",
       "        0.1267442 ,  0.29216674,  0.5496587 , -0.14375447, -0.03281487,\n",
       "        0.10400056,  0.34691998, -0.12998736, -0.2294388 ,  0.5728138 ,\n",
       "       -0.32197982,  0.26189533,  0.23729268,  0.43449807, -0.22710481,\n",
       "        0.31064674, -0.10183171,  0.11609445, -0.24848182, -0.41301435,\n",
       "       -0.14918657, -0.26171327, -0.1294495 ,  0.22974005,  0.22923268,\n",
       "       -0.30372402,  0.03406692, -0.40715525, -0.33867905,  0.13261135,\n",
       "       -0.5639296 , -0.61113006, -0.00742833,  0.0224966 ,  0.34337994,\n",
       "        0.5096111 ,  0.25439832,  0.29059774,  0.15851445,  0.3061198 ,\n",
       "       -0.82054305,  0.07724702,  0.2538161 ,  0.64450556, -0.04928048,\n",
       "        0.03430412,  0.1856681 , -0.14029591,  0.03165647, -0.17136951,\n",
       "        0.00734881,  0.01695641, -0.07391451, -0.6025208 ,  0.6854726 ,\n",
       "        0.09923339, -0.55569094, -0.29801908, -0.31502962,  0.85622215,\n",
       "        0.03054389,  0.32681566,  0.66801375,  0.56900424, -0.09589311,\n",
       "       -0.9914604 , -0.13878807,  0.33636826, -0.26024705,  0.42326626,\n",
       "        0.4461198 ,  0.2265148 ,  0.08351257, -0.10665201, -0.16796002,\n",
       "        0.4068171 ,  0.08623271, -0.2507332 , -0.23614681, -0.32993618,\n",
       "        0.38656   ,  0.24256143, -0.2921348 ,  0.17689115, -0.36450052,\n",
       "       -0.07436031, -0.2875831 ,  0.02702335, -0.4508245 ,  0.00354797],\n",
       "      dtype=float32)"
      ]
     },
     "execution_count": 189,
     "metadata": {},
     "output_type": "execute_result"
    }
   ],
   "source": [
    "woongcheol_vector"
   ]
  },
  {
   "cell_type": "code",
   "execution_count": 190,
   "id": "killing-centre",
   "metadata": {},
   "outputs": [
    {
     "data": {
      "text/plain": [
       "array([ 3.2909337e-02,  1.6254061e-03,  1.3173681e-02,  2.5205646e-02,\n",
       "        3.8252209e-04, -1.9410746e-02,  2.0263880e-02, -4.4035795e-03,\n",
       "        9.0996455e-03, -3.3662629e-05,  1.7821760e-03, -1.5229891e-03,\n",
       "        2.6437700e-02,  2.7616846e-04,  9.3243057e-03,  6.2366659e-03,\n",
       "       -2.1948079e-02,  1.4390189e-02, -2.4704114e-03,  6.3805715e-03,\n",
       "       -8.8022929e-04,  5.4072342e-03,  1.0223408e-02,  3.2565542e-02,\n",
       "        2.5395434e-03,  1.1738979e-02,  2.2587933e-02,  9.7922795e-03,\n",
       "        2.3200221e-03,  3.1356536e-02,  3.8324082e-03, -1.7277419e-03,\n",
       "        4.4545168e-03,  1.3674503e-02, -6.3964315e-03, -2.1085089e-02,\n",
       "        2.3893543e-02,  6.9570786e-04,  4.4620387e-02, -1.1885443e-02,\n",
       "        1.1955500e-02,  1.2717867e-02,  2.7324269e-03,  2.7029952e-02,\n",
       "       -3.5864566e-03, -1.2127888e-02,  2.8786924e-02,  2.9572219e-02,\n",
       "        3.1778738e-03,  6.3126013e-03, -1.6651473e-03, -5.6767180e-03,\n",
       "        7.3378105e-03,  4.3687723e-03,  1.8406062e-03,  1.0937613e-03,\n",
       "       -2.1697002e-02,  7.5984108e-03, -8.2128160e-03, -5.1209028e-03,\n",
       "       -2.2188177e-02,  2.7333731e-03, -5.6239171e-04,  9.1075664e-03,\n",
       "        3.9216219e-03,  1.9423056e-02, -3.8804994e-03, -7.4756565e-03,\n",
       "       -1.9697035e-03,  5.6155468e-03, -1.1627907e-02,  5.1593515e-03,\n",
       "        8.0084550e-04,  6.6716122e-03,  4.2642392e-02, -1.0914666e-02,\n",
       "        2.8134491e-02,  9.4600422e-03,  9.4093513e-03,  1.8108267e-02,\n",
       "        5.8825011e-03,  6.1171479e-04,  4.3370337e-03, -1.1137629e-02,\n",
       "        4.7371756e-02, -1.4964908e-02,  3.4880787e-02, -2.8425852e-02,\n",
       "       -2.3638286e-02,  1.3530767e-02,  1.3759204e-04, -3.7017763e-03,\n",
       "        4.1990954e-02,  1.0292376e-02,  2.8813502e-02, -1.0571353e-02,\n",
       "        2.2441387e-02,  3.1613573e-03,  1.9765209e-02,  1.9917201e-02],\n",
       "      dtype=float32)"
      ]
     },
     "execution_count": 190,
     "metadata": {},
     "output_type": "execute_result"
    }
   ],
   "source": [
    "terminator_vector"
   ]
  },
  {
   "cell_type": "code",
   "execution_count": 191,
   "id": "classified-instruction",
   "metadata": {},
   "outputs": [
    {
     "data": {
      "text/plain": [
       "0.0033373556"
      ]
     },
     "execution_count": 191,
     "metadata": {},
     "output_type": "execute_result"
    }
   ],
   "source": [
    "# woongcheol과 terminator를 내적하는 코드(선호 영화)\n",
    "np.dot(woongcheol_vector, terminator_vector)"
   ]
  },
  {
   "cell_type": "code",
   "execution_count": 192,
   "id": "leading-avenue",
   "metadata": {},
   "outputs": [
    {
     "data": {
      "text/plain": [
       "0.0018208637"
      ]
     },
     "execution_count": 192,
     "metadata": {},
     "output_type": "execute_result"
    }
   ],
   "source": [
    "# woongcheol과 indian을 내적하는 코드(비선호 영화)\n",
    "indian = movie_to_idx['One Little Indian (1973)']\n",
    "indian_vector = als_model.item_factors[indian]\n",
    "np.dot(woongcheol_vector, indian_vector)"
   ]
  },
  {
   "cell_type": "code",
   "execution_count": 193,
   "id": "serial-advocacy",
   "metadata": {},
   "outputs": [
    {
     "data": {
      "text/plain": [
       "[(200, 0.99999994),\n",
       " (651, 0.77996826),\n",
       " (194, 0.7189378),\n",
       " (865, 0.6886521),\n",
       " (193, 0.6788677),\n",
       " (92, 0.61119175),\n",
       " (124, 0.59581405),\n",
       " (680, 0.51780003),\n",
       " (928, 0.51611483),\n",
       " (117, 0.516093),\n",
       " (172, 0.50167316),\n",
       " (62, 0.49988487),\n",
       " (120, 0.47719738),\n",
       " (44, 0.47408146),\n",
       " (882, 0.4573325)]"
      ]
     },
     "execution_count": 193,
     "metadata": {},
     "output_type": "execute_result"
    }
   ],
   "source": [
    "favorite_movie = 'Terminator, The (1984)'\n",
    "movie_id = movie_to_idx[favorite_movie]\n",
    "similar_movie = als_model.similar_items(movie_id, N=15)\n",
    "similar_movie"
   ]
  },
  {
   "cell_type": "code",
   "execution_count": 195,
   "id": "twenty-falls",
   "metadata": {},
   "outputs": [
    {
     "data": {
      "text/plain": [
       "['Terminator, The (1984)',\n",
       " 'Aliens (1986)',\n",
       " 'Die Hard (1988)',\n",
       " 'Predator (1987)',\n",
       " 'Alien (1979)',\n",
       " 'Terminator 2: Judgment Day (1991)',\n",
       " 'Matrix, The (1999)',\n",
       " 'Blade Runner (1982)',\n",
       " 'Robocop (1987)',\n",
       " 'Star Wars: Episode V - The Empire Strikes Back (1980)',\n",
       " 'Indiana Jones and the Last Crusade (1989)',\n",
       " 'Total Recall (1990)',\n",
       " 'Raiders of the Lost Ark (1981)',\n",
       " 'Star Wars: Episode IV - A New Hope (1977)',\n",
       " 'Mad Max 2 (a.k.a. The Road Warrior) (1981)']"
      ]
     },
     "execution_count": 195,
     "metadata": {},
     "output_type": "execute_result"
    }
   ],
   "source": [
    "#artist_to_idx 변환 ->index로부터 artist 이름을 얻는 dict를 생성\n",
    "idx_to_movie = {v:k for k,v in movie_to_idx.items()}\n",
    "[idx_to_movie[i[0]] for i in similar_movie]"
   ]
  },
  {
   "cell_type": "code",
   "execution_count": 196,
   "id": "surprised-formation",
   "metadata": {},
   "outputs": [],
   "source": [
    "# 비슷한 영화를 알려주는 함수\n",
    "def get_similar_movie(movie_title: str):\n",
    "    movie_id = movie_to_idx[movie_title]\n",
    "    similar_movie = als_model.similar_items(movie_id)\n",
    "    similar_movie = [idx_to_movie[i[0]] for i in similar_movie]\n",
    "    return similar_movie"
   ]
  },
  {
   "cell_type": "code",
   "execution_count": 197,
   "id": "appointed-committee",
   "metadata": {},
   "outputs": [
    {
     "data": {
      "text/plain": [
       "['Mad Max 2 (a.k.a. The Road Warrior) (1981)',\n",
       " 'Mad Max (1979)',\n",
       " 'Mad Max Beyond Thunderdome (1985)',\n",
       " 'Running Man, The (1987)',\n",
       " 'Big Trouble in Little China (1986)',\n",
       " 'Predator (1987)',\n",
       " 'Terminator, The (1984)',\n",
       " 'Aliens (1986)',\n",
       " 'Starman (1984)',\n",
       " 'Escape from New York (1981)']"
      ]
     },
     "execution_count": 197,
     "metadata": {},
     "output_type": "execute_result"
    }
   ],
   "source": [
    "get_similar_movie('Mad Max 2 (a.k.a. The Road Warrior) (1981)')"
   ]
  },
  {
   "cell_type": "code",
   "execution_count": 198,
   "id": "skilled-impossible",
   "metadata": {},
   "outputs": [
    {
     "data": {
      "text/plain": [
       "['Starman (1984)',\n",
       " 'Alien Nation (1988)',\n",
       " 'Dreamscape (1984)',\n",
       " 'Fabulous Baker Boys, The (1989)',\n",
       " 'Running Man, The (1987)',\n",
       " 'Mad Max Beyond Thunderdome (1985)',\n",
       " \"Clara's Heart (1988)\",\n",
       " 'Cocoon (1985)',\n",
       " \"Prizzi's Honor (1985)\",\n",
       " 'Mad Max (1979)']"
      ]
     },
     "execution_count": 198,
     "metadata": {},
     "output_type": "execute_result"
    }
   ],
   "source": [
    "get_similar_movie('Starman (1984)')"
   ]
  },
  {
   "cell_type": "code",
   "execution_count": 203,
   "id": "finite-vienna",
   "metadata": {},
   "outputs": [
    {
     "data": {
      "text/plain": [
       "[(57, 0.18457669),\n",
       " (692, 0.18072756),\n",
       " (198, 0.17629653),\n",
       " (650, 0.17617317),\n",
       " (380, 0.16545533),\n",
       " (273, 0.16516545),\n",
       " (607, 0.16065538),\n",
       " (120, 0.15766189),\n",
       " (183, 0.15308097),\n",
       " (527, 0.14807473),\n",
       " (6, 0.14528234),\n",
       " (70, 0.14264911),\n",
       " (1106, 0.13998802),\n",
       " (172, 0.13957915),\n",
       " (325, 0.13413773),\n",
       " (601, 0.12587434),\n",
       " (87, 0.12497087),\n",
       " (318, 0.124057196),\n",
       " (326, 0.12127824),\n",
       " (192, 0.12083492)]"
      ]
     },
     "execution_count": 203,
     "metadata": {},
     "output_type": "execute_result"
    }
   ],
   "source": [
    "user = user_to_idx['woongcheol']\n",
    "# recommend에서는 user*item CSR Matrix를 받습니다.\n",
    "movie_recommended = als_model.recommend(user, csr_ratings, N=20, filter_already_liked_items=True)\n",
    "movie_recommended"
   ]
  },
  {
   "cell_type": "code",
   "execution_count": 204,
   "id": "coral-intelligence",
   "metadata": {},
   "outputs": [
    {
     "data": {
      "text/plain": [
       "['Untouchables, The (1987)',\n",
       " 'Blues Brothers, The (1980)',\n",
       " 'Good, The Bad and The Ugly, The (1966)',\n",
       " 'Lethal Weapon 2 (1989)',\n",
       " 'Godfather: Part II, The (1974)',\n",
       " 'Fight Club (1999)',\n",
       " 'Godfather, The (1972)',\n",
       " 'Raiders of the Lost Ark (1981)',\n",
       " 'Butch Cassidy and the Sundance Kid (1969)',\n",
       " 'Batman (1989)',\n",
       " 'Ben-Hur (1959)',\n",
       " 'Ran (1985)',\n",
       " 'Midnight Run (1988)',\n",
       " 'Indiana Jones and the Last Crusade (1989)',\n",
       " 'Romancing the Stone (1984)',\n",
       " 'Citizen Kane (1941)',\n",
       " 'Braveheart (1995)',\n",
       " 'Rosencrantz and Guildenstern Are Dead (1990)',\n",
       " 'Top Gun (1986)',\n",
       " 'Fistful of Dollars, A (1964)']"
      ]
     },
     "execution_count": 204,
     "metadata": {},
     "output_type": "execute_result"
    }
   ],
   "source": [
    "# 인덱스 변환 - 영화제목\n",
    "[idx_to_movie[i[0]] for i in movie_recommended]"
   ]
  },
  {
   "cell_type": "code",
   "execution_count": 208,
   "id": "rocky-botswana",
   "metadata": {},
   "outputs": [
    {
     "data": {
      "text/plain": [
       "[('Lethal Weapon (1987)', 0.05341556495554612),\n",
       " ('What Dreams May Come (1998)', 0.025423022801697445),\n",
       " ('Last Temptation of Christ, The (1988)', 0.022817431222523533),\n",
       " ('Steamboat Willie (1940)', 0.015651564544198894),\n",
       " ('Seven Samurai (The Magnificent Seven) (Shichinin no samurai) (1954)',\n",
       "  0.000302225271756053)]"
      ]
     },
     "execution_count": 208,
     "metadata": {},
     "output_type": "execute_result"
    }
   ],
   "source": [
    "# 유사도가 높은 영화목록\n",
    "contribution = movie_to_idx['Top Gun (1986)']\n",
    "explain = als_model.explain(user, csr_ratings, itemid=contribution)\n",
    "                            \n",
    "[(idx_to_movie[i[0]], i[1]) for i in explain[1]]"
   ]
  }
 ],
 "metadata": {
  "kernelspec": {
   "display_name": "Python 3",
   "language": "python",
   "name": "python3"
  },
  "language_info": {
   "codemirror_mode": {
    "name": "ipython",
    "version": 3
   },
   "file_extension": ".py",
   "mimetype": "text/x-python",
   "name": "python",
   "nbconvert_exporter": "python",
   "pygments_lexer": "ipython3",
   "version": "3.7.9"
  }
 },
 "nbformat": 4,
 "nbformat_minor": 5
}
