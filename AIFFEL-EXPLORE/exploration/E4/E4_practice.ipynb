{
 "cells": [
  {
   "cell_type": "markdown",
   "id": "scheduled-hacker",
   "metadata": {},
   "source": [
    "# E4. Text Generation using RNN"
   ]
  },
  {
   "cell_type": "markdown",
   "id": "convertible-hobby",
   "metadata": {},
   "source": [
    "## 1. 데이터 다듬기"
   ]
  },
  {
   "cell_type": "code",
   "execution_count": 1,
   "id": "choice-badge",
   "metadata": {},
   "outputs": [
    {
     "name": "stdout",
     "output_type": "stream",
     "text": [
      "['First Citizen:', 'Before we proceed any further, hear me speak.', '', 'All:', 'Speak, speak.', '', 'First Citizen:', 'You are all resolved rather to die than to famish?', '']\n"
     ]
    }
   ],
   "source": [
    "import os, re \n",
    "import numpy as np\n",
    "import tensorflow as tf\n",
    "\n",
    "# 파일 읽기모드로 열기, 라인 단위 list 형태 불러오기\n",
    "file_path = os.getenv('HOME') + '/aiffel/lyricist/data/shakespeare.txt'\n",
    "with open(file_path, \"r\") as f:\n",
    "    raw_corpus = f.read().splitlines()\n",
    "\n",
    "# 10라인 화면 출력\n",
    "print(raw_corpus[:9])"
   ]
  },
  {
   "cell_type": "code",
   "execution_count": 2,
   "id": "legal-bulgaria",
   "metadata": {},
   "outputs": [
    {
     "name": "stdout",
     "output_type": "stream",
     "text": [
      "Before we proceed any further, hear me speak.\n",
      "Speak, speak.\n",
      "You are all resolved rather to die than to famish?\n"
     ]
    }
   ],
   "source": [
    "for idx, sentence in enumerate(raw_corpus):\n",
    "    if len(sentence) == 0: continue   # 길이가 0인 문장은 건너뜁니다.\n",
    "    if sentence[-1] == \":\": continue  # 문장의 끝이 : 인 문장은 건너뜁니다.\n",
    "\n",
    "    if idx > 9: break   # 일단 문장 10개만 확인해 볼 겁니다.\n",
    "        \n",
    "    print(sentence)"
   ]
  },
  {
   "cell_type": "code",
   "execution_count": 3,
   "id": "stopped-parker",
   "metadata": {},
   "outputs": [
    {
     "name": "stdout",
     "output_type": "stream",
     "text": [
      "<start> this is sample sentence . <end>\n"
     ]
    }
   ],
   "source": [
    "# 입력된 문장을\n",
    "#     1. 소문자로 바꾸고, 양쪽 공백을 지웁니다\n",
    "#     2. 특수문자 양쪽에 공백을 넣고\n",
    "#     3. 여러개의 공백은 하나의 공백으로 바꿉니다\n",
    "#     4. a-zA-Z?.!,¿가 아닌 모든 문자를 하나의 공백으로 바꿉니다\n",
    "#     5. 다시 양쪽 공백을 지웁니다\n",
    "#     6. 문장 시작에는 <start>, 끝에는 <end>를 추가합니다\n",
    "# 이 순서로 처리해주면 문제가 되는 상황을 방지할 수 있겠네요!\n",
    "def preprocess_sentence(sentence):\n",
    "    sentence = sentence.lower().strip() # 1\n",
    "    sentence = re.sub(r\"([?.!,¿])\", r\" \\1 \", sentence) # 2\n",
    "    sentence = re.sub(r'[\" \"]+', \" \", sentence) # 3\n",
    "    sentence = re.sub(r\"[^a-zA-Z?.!,¿]+\", \" \", sentence) # 4\n",
    "    sentence = sentence.strip() # 5\n",
    "    sentence = '<start> ' + sentence + ' <end>' # 6\n",
    "    return sentence\n",
    "\n",
    "# 이 문장이 어떻게 필터링되는지 확인해 보세요.\n",
    "print(preprocess_sentence(\"This @_is ;;;sample        sentence.\"))"
   ]
  },
  {
   "cell_type": "code",
   "execution_count": 4,
   "id": "victorian-telling",
   "metadata": {},
   "outputs": [
    {
     "data": {
      "text/plain": [
       "['<start> before we proceed any further , hear me speak . <end>',\n",
       " '<start> speak , speak . <end>',\n",
       " '<start> you are all resolved rather to die than to famish ? <end>',\n",
       " '<start> resolved . resolved . <end>',\n",
       " '<start> first , you know caius marcius is chief enemy to the people . <end>',\n",
       " '<start> we know t , we know t . <end>',\n",
       " '<start> let us kill him , and we ll have corn at our own price . <end>',\n",
       " '<start> is t a verdict ? <end>',\n",
       " '<start> no more talking on t let it be done away , away ! <end>',\n",
       " '<start> one word , good citizens . <end>']"
      ]
     },
     "execution_count": 4,
     "metadata": {},
     "output_type": "execute_result"
    }
   ],
   "source": [
    "# 여기에 정제된 문장을 모을겁니다\n",
    "corpus = []\n",
    "\n",
    "for sentence in raw_corpus:\n",
    "    # 우리가 원하지 않는 문장은 건너뜁니다\n",
    "    if len(sentence) == 0: continue\n",
    "    if sentence[-1] == \":\": continue\n",
    "    \n",
    "    # 정제를 하고 담아주세요\n",
    "    preprocessed_sentence = preprocess_sentence(sentence)\n",
    "    corpus.append(preprocessed_sentence)\n",
    "        \n",
    "# 정제된 결과를 10개만 확인해보죠\n",
    "corpus[:10]"
   ]
  },
  {
   "cell_type": "code",
   "execution_count": 5,
   "id": "hybrid-arlington",
   "metadata": {},
   "outputs": [
    {
     "name": "stdout",
     "output_type": "stream",
     "text": [
      "[[   2  143   40 ...    0    0    0]\n",
      " [   2  110    4 ...    0    0    0]\n",
      " [   2   11   50 ...    0    0    0]\n",
      " ...\n",
      " [   2  149 4553 ...    0    0    0]\n",
      " [   2   34   71 ...    0    0    0]\n",
      " [   2  945   34 ...    0    0    0]] <keras_preprocessing.text.Tokenizer object at 0x7fc31fe26dd0>\n"
     ]
    }
   ],
   "source": [
    "# 토큰화 할 때 텐서플로우의 Tokenizer와 pad_sequences를 사용합니다\n",
    "# 더 잘 알기 위해 아래 문서들을 참고하면 좋습니다\n",
    "# https://www.tensorflow.org/api_docs/python/tf/keras/preprocessing/text/Tokenizer\n",
    "# https://www.tensorflow.org/api_docs/python/tf/keras/preprocessing/sequence/pad_sequences\n",
    "def tokenize(corpus):\n",
    "    # 7000단어를 기억할 수 있는 tokenizer를 만들겁니다\n",
    "    # 우리는 이미 문장을 정제했으니 filters가 필요없어요\n",
    "    # 7000단어에 포함되지 못한 단어는 '<unk>'로 바꿀거에요\n",
    "    tokenizer = tf.keras.preprocessing.text.Tokenizer(\n",
    "        num_words=7000, \n",
    "        filters=' ',\n",
    "        oov_token=\"<unk>\"\n",
    "    )\n",
    "    # corpus를 이용해 tokenizer 내부의 단어장을 완성합니다\n",
    "    tokenizer.fit_on_texts(corpus)\n",
    "    # 준비한 tokenizer를 이용해 corpus를 Tensor로 변환합니다\n",
    "    tensor = tokenizer.texts_to_sequences(corpus)   \n",
    "    # 입력 데이터의 시퀀스 길이를 일정하게 맞춰줍니다\n",
    "    # 만약 시퀀스가 짧다면 문장 뒤에 패딩을 붙여 길이를 맞춰줍니다.\n",
    "    # 문장 앞에 패딩을 붙여 길이를 맞추고 싶다면 padding='pre'를 사용합니다\n",
    "    tensor = tf.keras.preprocessing.sequence.pad_sequences(tensor, padding='post')  \n",
    "    \n",
    "    print(tensor,tokenizer)\n",
    "    return tensor, tokenizer\n",
    "\n",
    "tensor, tokenizer = tokenize(corpus)"
   ]
  },
  {
   "cell_type": "code",
   "execution_count": 6,
   "id": "worthy-plenty",
   "metadata": {},
   "outputs": [
    {
     "name": "stdout",
     "output_type": "stream",
     "text": [
      "[[   2  143   40  933  140  591    4  124   24  110]\n",
      " [   2  110    4  110    5    3    0    0    0    0]\n",
      " [   2   11   50   43 1201  316    9  201   74    9]]\n"
     ]
    }
   ],
   "source": [
    "print(tensor[:3, :10])"
   ]
  },
  {
   "cell_type": "code",
   "execution_count": 7,
   "id": "complicated-wells",
   "metadata": {},
   "outputs": [
    {
     "name": "stdout",
     "output_type": "stream",
     "text": [
      "1 : <unk>\n",
      "2 : <start>\n",
      "3 : <end>\n",
      "4 : ,\n",
      "5 : .\n",
      "6 : the\n",
      "7 : and\n",
      "8 : i\n",
      "9 : to\n",
      "10 : of\n"
     ]
    }
   ],
   "source": [
    "for idx in tokenizer.index_word:\n",
    "    print(idx, \":\", tokenizer.index_word[idx])\n",
    "\n",
    "    if idx >= 10: break"
   ]
  },
  {
   "cell_type": "code",
   "execution_count": 8,
   "id": "sized-boundary",
   "metadata": {},
   "outputs": [
    {
     "name": "stdout",
     "output_type": "stream",
     "text": [
      "[  2 143  40 933 140 591   4 124  24 110   5   3   0   0   0   0   0   0\n",
      "   0   0]\n",
      "[143  40 933 140 591   4 124  24 110   5   3   0   0   0   0   0   0   0\n",
      "   0   0]\n"
     ]
    }
   ],
   "source": [
    "# tensor에서 마지막 토큰을 잘라내서 소스 문장을 생성합니다\n",
    "# 마지막 토큰은 <end>가 아니라 <pad>일 가능성이 높습니다.\n",
    "src_input = tensor[:, :-1]  \n",
    "# tensor에서 <start>를 잘라내서 타겟 문장을 생성합니다.\n",
    "tgt_input = tensor[:, 1:]    \n",
    "\n",
    "print(src_input[0])\n",
    "print(tgt_input[0])"
   ]
  },
  {
   "cell_type": "code",
   "execution_count": 9,
   "id": "planned-lesson",
   "metadata": {},
   "outputs": [
    {
     "data": {
      "text/plain": [
       "<BatchDataset shapes: ((256, 20), (256, 20)), types: (tf.int32, tf.int32)>"
      ]
     },
     "execution_count": 9,
     "metadata": {},
     "output_type": "execute_result"
    }
   ],
   "source": [
    "BUFFER_SIZE = len(src_input)\n",
    "BATCH_SIZE = 256\n",
    "steps_per_epoch = len(src_input) // BATCH_SIZE\n",
    "\n",
    " # tokenizer가 구축한 단어사전 내 7000개와, 여기 포함되지 않은 0:<pad>를 포함하여 7001개\n",
    "VOCAB_SIZE = tokenizer.num_words + 1   \n",
    "\n",
    "# 준비한 데이터 소스로부터 데이터셋을 만듭니다\n",
    "# 데이터셋에 대해서는 아래 문서를 참고하세요\n",
    "# 자세히 알아둘수록 도움이 많이 되는 중요한 문서입니다\n",
    "# https://www.tensorflow.org/api_docs/python/tf/data/Dataset\n",
    "dataset = tf.data.Dataset1from_tensor_slices((src_input, tgt_input))\n",
    "dataset = dataset.shuffle(BUFFER_SIZE)\n",
    "dataset = dataset.batch(BATCH_SIZE, drop_remainder=True)\n",
    "dataset"
   ]
  },
  {
   "cell_type": "markdown",
   "id": "british-banana",
   "metadata": {},
   "source": [
    "## 2. 딥러닝 모델 학습"
   ]
  },
  {
   "cell_type": "code",
   "execution_count": 10,
   "id": "qualified-peace",
   "metadata": {},
   "outputs": [],
   "source": [
    "class TextGenerator(tf.keras.Model):\n",
    "    def __init__(self, vocab_size, embedding_size, hidden_size):\n",
    "        super().__init__()\n",
    "        \n",
    "        self.embedding = tf.keras.layers.Embedding(vocab_size, embedding_size)\n",
    "        self.rnn_1 = tf.keras.layers.LSTM(hidden_size, return_sequences=True)\n",
    "        self.rnn_2 = tf.keras.layers.LSTM(hidden_size, return_sequences=True)\n",
    "        self.linear = tf.keras.layers.Dense(vocab_size)\n",
    "        \n",
    "    def call(self, x):\n",
    "        out = self.embedding(x)\n",
    "        out = self.rnn_1(out)\n",
    "        out = self.rnn_2(out)\n",
    "        out = self.linear(out)\n",
    "        \n",
    "        return out\n",
    "    \n",
    "embedding_size = 256\n",
    "hidden_size = 1024\n",
    "model = TextGenerator(tokenizer.num_words + 1, embedding_size , hidden_size)"
   ]
  },
  {
   "cell_type": "code",
   "execution_count": 11,
   "id": "incredible-receptor",
   "metadata": {},
   "outputs": [
    {
     "data": {
      "text/plain": [
       "<tf.Tensor: shape=(256, 20, 7001), dtype=float32, numpy=\n",
       "array([[[-2.35223415e-04, -3.21876869e-04,  1.78856542e-04, ...,\n",
       "          2.81825141e-05, -3.27837944e-04,  2.62832706e-04],\n",
       "        [-2.60828994e-04, -5.91338496e-04,  3.00140440e-04, ...,\n",
       "         -1.91399260e-04, -4.20074270e-04,  3.39215097e-04],\n",
       "        [-3.57354679e-06, -5.46023017e-04,  3.60785023e-04, ...,\n",
       "         -2.87094095e-04, -8.36826453e-04,  2.45452422e-04],\n",
       "        ...,\n",
       "        [-1.39551412e-03, -3.81276855e-04,  7.31407257e-04, ...,\n",
       "          5.71516401e-04,  2.79861572e-03, -3.77095537e-03],\n",
       "        [-1.66837941e-03,  1.63961580e-04,  5.74626843e-04, ...,\n",
       "          3.88685061e-04,  2.89345533e-03, -4.53996286e-03],\n",
       "        [-1.92840456e-03,  6.85901556e-04,  4.18237323e-04, ...,\n",
       "          1.52478227e-04,  2.98111793e-03, -5.27664088e-03]],\n",
       "\n",
       "       [[-2.35223415e-04, -3.21876869e-04,  1.78856542e-04, ...,\n",
       "          2.81825141e-05, -3.27837944e-04,  2.62832706e-04],\n",
       "        [-1.79593568e-04, -2.51800840e-04,  1.73716442e-04, ...,\n",
       "          1.27791893e-04, -4.29122621e-04,  3.14887497e-04],\n",
       "        [ 2.26162272e-04, -3.43239299e-05,  1.24023616e-04, ...,\n",
       "          5.84977213e-04, -2.50245339e-05,  2.33577011e-04],\n",
       "        ...,\n",
       "        [-1.30390702e-03,  2.22775270e-03, -1.61909193e-05, ...,\n",
       "         -4.36268339e-04,  2.68508052e-03, -4.54935618e-03],\n",
       "        [-1.68431178e-03,  2.43111025e-03, -9.49668974e-05, ...,\n",
       "         -5.55515930e-04,  2.76046712e-03, -5.34170913e-03],\n",
       "        [-2.03162408e-03,  2.63660424e-03, -1.72831846e-04, ...,\n",
       "         -7.14982336e-04,  2.83453963e-03, -6.08485285e-03]],\n",
       "\n",
       "       [[-2.35223415e-04, -3.21876869e-04,  1.78856542e-04, ...,\n",
       "          2.81825141e-05, -3.27837944e-04,  2.62832706e-04],\n",
       "        [-3.59695143e-04, -4.55475616e-04,  6.74469455e-04, ...,\n",
       "         -1.70423315e-04, -7.30312895e-04,  4.71018051e-04],\n",
       "        [-1.89678714e-04, -4.56522539e-04,  1.11374969e-03, ...,\n",
       "         -4.15228365e-04, -8.86774680e-04,  1.07571110e-03],\n",
       "        ...,\n",
       "        [-1.88980659e-03,  1.66318007e-03, -2.05361997e-04, ...,\n",
       "         -5.45348797e-04,  2.20391084e-03, -5.33487881e-03],\n",
       "        [-2.21876381e-03,  1.99080422e-03, -2.38543842e-04, ...,\n",
       "         -7.76564761e-04,  2.37014866e-03, -6.13108883e-03],\n",
       "        [-2.50892807e-03,  2.29228963e-03, -2.78555264e-04, ...,\n",
       "         -1.01272750e-03,  2.51227454e-03, -6.86287507e-03]],\n",
       "\n",
       "       ...,\n",
       "\n",
       "       [[-2.35223415e-04, -3.21876869e-04,  1.78856542e-04, ...,\n",
       "          2.81825141e-05, -3.27837944e-04,  2.62832706e-04],\n",
       "        [-3.40835832e-04, -4.69246770e-05,  4.58339258e-04, ...,\n",
       "         -4.03615741e-06, -3.93694441e-04,  4.10669832e-04],\n",
       "        [-7.24122685e-04, -1.25383622e-05,  8.04572366e-04, ...,\n",
       "          1.18366246e-04, -3.02410801e-04,  5.71444514e-04],\n",
       "        ...,\n",
       "        [-2.19433825e-03, -1.69759107e-04, -1.86401473e-06, ...,\n",
       "          4.76068933e-04,  1.26012205e-03, -3.68085154e-03],\n",
       "        [-2.39317631e-03,  2.66278657e-04, -8.36584077e-05, ...,\n",
       "          4.65827878e-04,  1.40089798e-03, -4.32387367e-03],\n",
       "        [-2.59125698e-03,  7.19577190e-04, -1.65709964e-04, ...,\n",
       "          3.71878297e-04,  1.56440865e-03, -4.94890753e-03]],\n",
       "\n",
       "       [[-2.35223415e-04, -3.21876869e-04,  1.78856542e-04, ...,\n",
       "          2.81825141e-05, -3.27837944e-04,  2.62832706e-04],\n",
       "        [-6.75144023e-04, -7.74009619e-04,  2.18956193e-04, ...,\n",
       "         -5.38610730e-05, -6.34244527e-04,  6.08615053e-04],\n",
       "        [-6.54845964e-04, -1.18573289e-03,  4.04615508e-04, ...,\n",
       "         -3.28663475e-04, -7.19510193e-04,  4.93793283e-04],\n",
       "        ...,\n",
       "        [-3.57896672e-03,  3.19790095e-03, -3.16291669e-04, ...,\n",
       "         -1.97018264e-03,  2.73720827e-03, -9.48344357e-03],\n",
       "        [-3.67083517e-03,  3.35223600e-03, -4.06540610e-04, ...,\n",
       "         -2.12089019e-03,  2.83105741e-03, -9.87577904e-03],\n",
       "        [-3.74656473e-03,  3.48030659e-03, -4.88247548e-04, ...,\n",
       "         -2.25479249e-03,  2.90554320e-03, -1.02281393e-02]],\n",
       "\n",
       "       [[-2.35223415e-04, -3.21876869e-04,  1.78856542e-04, ...,\n",
       "          2.81825141e-05, -3.27837944e-04,  2.62832706e-04],\n",
       "        [-3.94575254e-05, -4.83062700e-04,  3.36788537e-04, ...,\n",
       "          2.17728157e-05, -5.16732165e-04,  2.48767581e-04],\n",
       "        [ 1.41732380e-05, -6.63615589e-04,  3.41456762e-04, ...,\n",
       "          2.92459736e-04, -1.74271656e-04,  4.25025151e-04],\n",
       "        ...,\n",
       "        [-1.10034866e-03,  7.88415840e-04,  3.19553568e-04, ...,\n",
       "         -1.17310410e-05,  2.93084886e-03, -3.84133309e-03],\n",
       "        [-1.53554720e-03,  1.14272861e-03,  1.46159713e-04, ...,\n",
       "         -2.30046353e-04,  2.95455218e-03, -4.70618717e-03],\n",
       "        [-1.93087617e-03,  1.48972252e-03, -1.57262166e-05, ...,\n",
       "         -4.66528989e-04,  2.99276854e-03, -5.51811000e-03]]],\n",
       "      dtype=float32)>"
      ]
     },
     "execution_count": 11,
     "metadata": {},
     "output_type": "execute_result"
    }
   ],
   "source": [
    "# 데이터셋에서 데이터 한 배치만 불러오는 방법입니다.\n",
    "# 지금은 동작 원리에 너무 빠져들지 마세요~\n",
    "for src_sample, tgt_sample in dataset.take(1): break\n",
    "\n",
    "# 한 배치만 불러온 데이터를 모델에 넣어봅니다\n",
    "model(src_sample)"
   ]
  },
  {
   "cell_type": "code",
   "execution_count": 12,
   "id": "isolated-easter",
   "metadata": {},
   "outputs": [
    {
     "name": "stdout",
     "output_type": "stream",
     "text": [
      "Model: \"text_generator\"\n",
      "_________________________________________________________________\n",
      "Layer (type)                 Output Shape              Param #   \n",
      "=================================================================\n",
      "embedding (Embedding)        multiple                  1792256   \n",
      "_________________________________________________________________\n",
      "lstm (LSTM)                  multiple                  5246976   \n",
      "_________________________________________________________________\n",
      "lstm_1 (LSTM)                multiple                  8392704   \n",
      "_________________________________________________________________\n",
      "dense (Dense)                multiple                  7176025   \n",
      "=================================================================\n",
      "Total params: 22,607,961\n",
      "Trainable params: 22,607,961\n",
      "Non-trainable params: 0\n",
      "_________________________________________________________________\n"
     ]
    }
   ],
   "source": [
    "model.summary()"
   ]
  },
  {
   "cell_type": "code",
   "execution_count": 13,
   "id": "entire-absence",
   "metadata": {},
   "outputs": [
    {
     "name": "stdout",
     "output_type": "stream",
     "text": [
      "Epoch 1/30\n",
      "93/93 [==============================] - 71s 739ms/step - loss: 4.3895\n",
      "Epoch 2/30\n",
      "93/93 [==============================] - 69s 742ms/step - loss: 2.8113\n",
      "Epoch 3/30\n",
      "93/93 [==============================] - 69s 744ms/step - loss: 2.7193\n",
      "Epoch 4/30\n",
      "93/93 [==============================] - 70s 749ms/step - loss: 2.6189\n",
      "Epoch 5/30\n",
      "93/93 [==============================] - 70s 754ms/step - loss: 2.5524\n",
      "Epoch 6/30\n",
      "93/93 [==============================] - 70s 757ms/step - loss: 2.4826\n",
      "Epoch 7/30\n",
      "93/93 [==============================] - 71s 759ms/step - loss: 2.4391\n",
      "Epoch 8/30\n",
      "93/93 [==============================] - 71s 762ms/step - loss: 2.3838\n",
      "Epoch 9/30\n",
      "93/93 [==============================] - 71s 761ms/step - loss: 2.3358\n",
      "Epoch 10/30\n",
      "93/93 [==============================] - 71s 762ms/step - loss: 2.2901\n",
      "Epoch 11/30\n",
      "93/93 [==============================] - 71s 760ms/step - loss: 2.2477\n",
      "Epoch 12/30\n",
      "93/93 [==============================] - 71s 759ms/step - loss: 2.1994\n",
      "Epoch 13/30\n",
      "93/93 [==============================] - 71s 760ms/step - loss: 2.1619\n",
      "Epoch 14/30\n",
      "93/93 [==============================] - 71s 761ms/step - loss: 2.1124\n",
      "Epoch 15/30\n",
      "93/93 [==============================] - 71s 762ms/step - loss: 2.0727\n",
      "Epoch 16/30\n",
      "93/93 [==============================] - 71s 762ms/step - loss: 2.0263\n",
      "Epoch 17/30\n",
      "93/93 [==============================] - 71s 762ms/step - loss: 1.9848\n",
      "Epoch 18/30\n",
      "93/93 [==============================] - 71s 762ms/step - loss: 1.9412\n",
      "Epoch 19/30\n",
      "93/93 [==============================] - 71s 761ms/step - loss: 1.8932\n",
      "Epoch 20/30\n",
      "93/93 [==============================] - 71s 762ms/step - loss: 1.8531\n",
      "Epoch 21/30\n",
      "93/93 [==============================] - 71s 761ms/step - loss: 1.8078\n",
      "Epoch 22/30\n",
      "93/93 [==============================] - 71s 761ms/step - loss: 1.7663\n",
      "Epoch 23/30\n",
      "93/93 [==============================] - 71s 762ms/step - loss: 1.7212\n",
      "Epoch 24/30\n",
      "93/93 [==============================] - 71s 762ms/step - loss: 1.6807\n",
      "Epoch 25/30\n",
      "93/93 [==============================] - 71s 762ms/step - loss: 1.6454\n",
      "Epoch 26/30\n",
      "93/93 [==============================] - 71s 762ms/step - loss: 1.6014\n",
      "Epoch 27/30\n",
      "93/93 [==============================] - 71s 761ms/step - loss: 1.5520\n",
      "Epoch 28/30\n",
      "93/93 [==============================] - 71s 761ms/step - loss: 1.5008\n",
      "Epoch 29/30\n",
      "93/93 [==============================] - 71s 761ms/step - loss: 1.4675\n",
      "Epoch 30/30\n",
      "93/93 [==============================] - 65s 700ms/step - loss: 1.4186\n"
     ]
    },
    {
     "data": {
      "text/plain": [
       "<tensorflow.python.keras.callbacks.History at 0x7fc31f9dfc50>"
      ]
     },
     "execution_count": 13,
     "metadata": {},
     "output_type": "execute_result"
    }
   ],
   "source": [
    "# optimizer와 loss등은 차차 배웁니다\n",
    "# 혹시 미리 알고 싶다면 아래 문서를 참고하세요\n",
    "# https://www.tensorflow.org/api_docs/python/tf/keras/optimizers\n",
    "# https://www.tensorflow.org/api_docs/python/tf/keras/losses\n",
    "# 양이 상당히 많은 편이니 지금 보는 것은 추천하지 않습니다\n",
    "optimizer = tf.keras.optimizers.Adam()\n",
    "loss = tf.keras.losses.SparseCategoricalCrossentropy(\n",
    "    from_logits=True,\n",
    "    reduction='none'\n",
    ")\n",
    "\n",
    "model.compile(loss=loss, optimizer=optimizer)\n",
    "model.fit(dataset, epochs=30)"
   ]
  },
  {
   "cell_type": "markdown",
   "id": "animated-breath",
   "metadata": {},
   "source": [
    "# 3. 딥러닝 모델 평가"
   ]
  },
  {
   "cell_type": "code",
   "execution_count": 14,
   "id": "referenced-worst",
   "metadata": {},
   "outputs": [],
   "source": [
    "def generate_text(model, tokenizer, init_sentence=\"<start>\", max_len=20):\n",
    "    # 테스트를 위해서 입력받은 init_sentence도 텐서로 변환합니다\n",
    "    test_input = tokenizer.texts_to_sequences([init_sentence])\n",
    "    test_tensor = tf.convert_to_tensor(test_input, dtype=tf.int64)\n",
    "    end_token = tokenizer.word_index[\"<end>\"]\n",
    "\n",
    "    # 단어 하나씩 예측해 문장을 만듭니다\n",
    "    #    1. 입력받은 문장의 텐서를 입력합니다\n",
    "    #    2. 예측된 값 중 가장 높은 확률인 word index를 뽑아냅니다\n",
    "    #    3. 2에서 예측된 word index를 문장 뒤에 붙입니다\n",
    "    #    4. 모델이 <end>를 예측했거나, max_len에 도달했다면 문장 생성을 마칩니다\n",
    "    while True:\n",
    "        # 1\n",
    "        predict = model(test_tensor) \n",
    "        # 2\n",
    "        predict_word = tf.argmax(tf.nn.softmax(predict, axis=-1), axis=-1)[:, -1] \n",
    "        # 3 \n",
    "        test_tensor = tf.concat([test_tensor, tf.expand_dims(predict_word, axis=0)], axis=-1)\n",
    "        # 4\n",
    "        if predict_word.numpy()[0] == end_token: break\n",
    "        if test_tensor.shape[1] >= max_len: break\n",
    "\n",
    "    generated = \"\"\n",
    "    # tokenizer를 이용해 word index를 단어로 하나씩 변환합니다 \n",
    "    for word_index in test_tensor[0].numpy():\n",
    "        generated += tokenizer.index_word[word_index] + \" \"\n",
    "\n",
    "    return generated"
   ]
  },
  {
   "cell_type": "code",
   "execution_count": 17,
   "id": "silver-atmosphere",
   "metadata": {},
   "outputs": [
    {
     "data": {
      "text/plain": [
       "'<start> good morrow , neighbour gremio . <end> '"
      ]
     },
     "execution_count": 17,
     "metadata": {},
     "output_type": "execute_result"
    }
   ],
   "source": [
    "generate_text(model, tokenizer, init_sentence=\"<start> good\")"
   ]
  }
 ],
 "metadata": {
  "kernelspec": {
   "display_name": "Python 3",
   "language": "python",
   "name": "python3"
  },
  "language_info": {
   "codemirror_mode": {
    "name": "ipython",
    "version": 3
   },
   "file_extension": ".py",
   "mimetype": "text/x-python",
   "name": "python",
   "nbconvert_exporter": "python",
   "pygments_lexer": "ipython3",
   "version": "3.7.9"
  }
 },
 "nbformat": 4,
 "nbformat_minor": 5
}
